{
 "cells": [
  {
   "cell_type": "code",
   "execution_count": 1,
   "metadata": {
    "collapsed": false
   },
   "outputs": [],
   "source": [
    "from __future__ import absolute_import\n",
    "from __future__ import division\n",
    "from __future__ import print_function\n",
    "import numpy as np\n",
    "import tensorflow as tf\n",
    "\n",
    "\n",
    "class MfRNNCell(tf.nn.rnn_cell.RNNCell):\n",
    "    '''\n",
    "    Basic MF_RNN_cell\n",
    "    matrix factorized version of the most basic RNN cell.\n",
    "    '''\n",
    "    def __init__(self, num_units, input_size=None):\n",
    "        self._num_units = num_units\n",
    "        self._input_size = num_units if input_size is None else input_size\n",
    "\n",
    "    @property\n",
    "    def input_size(self):\n",
    "        return self._input_size\n",
    "\n",
    "    @property\n",
    "    def output_size(self):\n",
    "        return self._num_units\n",
    "\n",
    "    @property\n",
    "    def state_size(self):\n",
    "        return self._num_units\n",
    "    \n",
    "\n",
    "\n",
    "    def __call__(self, inputs, state, inp_modes, out_modes, mat_ranks, scope=\"mf_rnn\"):\n",
    "        \"\"\"Most basic RNN: output = new_state = tanh(input * W_x  + state * W_h  + B).\n",
    "           Factorize W_x = U_x * V_x, W_h = U_h * V_h\n",
    "           W_x (input_size, output_size), W_h (state_size, output_size)\n",
    "        \"\"\"\n",
    "        mat_ps = np.cumsum( np.concatenate( ([0], [self._input_size*mat_ranks], [mat_ranks*self._output_size],\n",
    "                                             [self._state_size*mat_ranks],[mat_ranks*self._output_size])))\n",
    "        mat_size = mat_ps[-1]   \n",
    "        \n",
    "        with vs.variable_scope(scope or type(self).__name__):  # \"MfRNNCell\"\n",
    "            #output = tanh(linear([inputs, state], self._num_units, True))\n",
    "            mat = tf.get_variable(mat, name=\"weights\", mat_size)  #optimize over the entire weight matrix \n",
    "            output = tf.reshape(inputs, [-1, np.prod(inp_modes)]) \n",
    "             \n",
    "            U_x = tf.slice(mat, [mat_ps[0]], [mat_ps[1] - mat_ps[0]]) # matrix factorization components\n",
    "            U_x = tf.reshape(U_x, [-1,mat_ranks])\n",
    "\n",
    "            V_x = tf.slice(mat, [mat_ps[1]], [mat_ps[2] - mat_ps[1]]) # matrix factorization components\n",
    "            V_x = tf.reshape(V_x, [mat_ranks,-1])\n",
    "\n",
    "            W_x = tf.matmul(U_x, V_x)\n",
    "            #hidden states\n",
    "            U_h = tf.slice(mat, [mat_ps[0]], [mat_ps[1] - mat_ps[0]]) # matrix factorization components\n",
    "            U_h = tf.reshape(U_h, [-1,mat_ranks])\n",
    "\n",
    "            V_h = tf.slice(mat, [mat_ps[1]], [mat_ps[2] - mat_ps[1]]) # matrix factorization components\n",
    "            V_h = tf.reshape(V_x, [mat_ranks,-1])\n",
    "\n",
    "            W_h = tf.matmul(U_h, V_h)\n",
    "            \n",
    "            output = tf.matmul(output, W_x) +  tf.matmul(states, W_h)\n",
    "        \n",
    "        return output, output\n",
    "\n"
   ]
  }
 ],
 "metadata": {
  "kernelspec": {
   "display_name": "Python 2",
   "language": "python",
   "name": "python2"
  },
  "language_info": {
   "codemirror_mode": {
    "name": "ipython",
    "version": 2
   },
   "file_extension": ".py",
   "mimetype": "text/x-python",
   "name": "python",
   "nbconvert_exporter": "python",
   "pygments_lexer": "ipython2",
   "version": "2.7.6"
  }
 },
 "nbformat": 4,
 "nbformat_minor": 0
}
