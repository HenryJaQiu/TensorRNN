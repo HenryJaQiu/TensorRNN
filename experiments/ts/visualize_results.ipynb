{
 "cells": [
  {
   "cell_type": "code",
   "execution_count": null,
   "metadata": {
    "collapsed": false,
    "deletable": true,
    "editable": true
   },
   "outputs": [],
   "source": [
    "import numpy as np\n",
    "%matplotlib inline\n",
    "import matplotlib.pyplot as plt\n",
    "data_path = \"/home/roseyu/Python/TensorCompress/experiments/log/tensor_rnn/\"\n",
    "max_epoch = 5 \n",
    "\n",
    "\n",
    "file_name = \"predict_epoch_10.npy\"\n",
    "[ test_true, test_predict] = np.load(data_path + file_name)\n",
    "\n",
    "y_true = train_true\n",
    "y_predict = train_predict\n",
    "print(\"true shape\", len(y_true))\n",
    "\n",
    "print(\"predict shape\",len(y_predict))\n",
    "print(len(y_predict[0]))\n",
    "\n",
    "plt.figure(1, figsize=(10,6))\n",
    "plt.subplot(5,1,1)\n",
    "x = np.linspace(1, 100, num= 100)\n",
    "plt.title('Ground Truth')\n",
    "plt.plot(x, y_true[100:200],'b')\n",
    "plt.subplot(212)\n",
    "for epoch in range(1,max_epoch):\n",
    "\n",
    "    file_name = \"predict_epoch_\"+str(epoch)+\"0.npy\"\n",
    "    test_true, test_predict= np.load(data_path + file_name)\n",
    "    y_true = train_true\n",
    "    y_predict = train_predict\n",
    "\n",
    "    #plt.plot(x,y_true[0:100],'b--', x, y_predict[0:100], 'ro' )\n",
    "    plt.subplot(5,1,epoch+1)\n",
    "    plt.plot(x, y_predict[100:200],'r')\n",
    "    plt.title('Epoch '+str(epoch)+\"0\")\n",
    "    plt.ylim([0,1])\n",
    "plt.tight_layout()"
   ]
  },
  {
   "cell_type": "code",
   "execution_count": 27,
   "metadata": {
    "collapsed": false
   },
   "outputs": [
    {
     "name": "stdout",
     "output_type": "stream",
     "text": [
      "(3513, 9)\n",
      "('test error: %f', 6.314342897387883)\n"
     ]
    }
   ],
   "source": [
    "import numpy as np\n",
    "%matplotlib inline\n",
    "import matplotlib.pyplot as plt\n",
    "data_path = \"/home/roseyu/Python/TensorCompress/experiments/log/traffic_exp/tt_rnn/\"\n",
    "max_epoch = 5 \n",
    "\n",
    "\n",
    "def reshape_pred(pred, batch_size):\n",
    "    \"\"\"reshape into batch_size x num_steps,  concatenate on num_stesp\"\"\"\n",
    "    num_step = 12\n",
    "    epoch_size = len(pred)\n",
    "    pred_list = []\n",
    "    for epoch in range(epoch_size):\n",
    "        pred_reshape = np.reshape(pred[epoch], (batch_size, num_step))\n",
    "        pred_list.append(pred_reshape)\n",
    "\n",
    "    pred_out = np.concatenate(pred_list, axis = 1)\n",
    "    return pred_out.flatten()\n",
    "        \n",
    "    \n",
    "    \n",
    "file_name = \"predict.npy\"\n",
    "test_true, test_pred, test_err= np.load(data_path + file_name)\n",
    "test_pred = np.squeeze(test_pred)\n",
    "print(test_true.shape)\n",
    "print(\"test error: %f\",test_err)\n",
    "# rescale\n",
    "#test_pred =(test_pred-np.mean(test_pred))*(-692)+ np.mean(test_true)\n"
   ]
  },
  {
   "cell_type": "code",
   "execution_count": 8,
   "metadata": {
    "collapsed": false
   },
   "outputs": [
    {
     "ename": "NameError",
     "evalue": "name 'test_target' is not defined",
     "output_type": "error",
     "traceback": [
      "\u001b[1;31m---------------------------------------------------------------------------\u001b[0m",
      "\u001b[1;31mNameError\u001b[0m                                 Traceback (most recent call last)",
      "\u001b[1;32m<ipython-input-8-b3c8678a706d>\u001b[0m in \u001b[0;36m<module>\u001b[1;34m()\u001b[0m\n\u001b[0;32m     11\u001b[0m \u001b[0mplt\u001b[0m\u001b[1;33m.\u001b[0m\u001b[0mtitle\u001b[0m\u001b[1;33m(\u001b[0m\u001b[1;34m'Ground Truth'\u001b[0m\u001b[1;33m)\u001b[0m\u001b[1;33m\u001b[0m\u001b[0m\n\u001b[0;32m     12\u001b[0m \u001b[0max1\u001b[0m \u001b[1;33m=\u001b[0m \u001b[0mplt\u001b[0m\u001b[1;33m.\u001b[0m\u001b[0msubplot\u001b[0m\u001b[1;33m(\u001b[0m\u001b[1;36m311\u001b[0m\u001b[1;33m)\u001b[0m\u001b[1;33m\u001b[0m\u001b[0m\n\u001b[1;32m---> 13\u001b[1;33m \u001b[0mplt\u001b[0m\u001b[1;33m.\u001b[0m\u001b[0mplot\u001b[0m\u001b[1;33m(\u001b[0m\u001b[0mx\u001b[0m\u001b[1;33m,\u001b[0m\u001b[0mtest_target\u001b[0m\u001b[1;33m[\u001b[0m\u001b[1;36m100\u001b[0m\u001b[1;33m:\u001b[0m\u001b[1;36m200\u001b[0m\u001b[1;33m]\u001b[0m\u001b[1;33m,\u001b[0m\u001b[1;34m'k-'\u001b[0m \u001b[1;33m)\u001b[0m\u001b[1;33m\u001b[0m\u001b[0m\n\u001b[0m\u001b[0;32m     14\u001b[0m \u001b[1;33m\u001b[0m\u001b[0m\n\u001b[0;32m     15\u001b[0m \u001b[0max2\u001b[0m \u001b[1;33m=\u001b[0m \u001b[0mplt\u001b[0m\u001b[1;33m.\u001b[0m\u001b[0msubplot\u001b[0m\u001b[1;33m(\u001b[0m\u001b[1;36m312\u001b[0m\u001b[1;33m)\u001b[0m\u001b[1;33m\u001b[0m\u001b[0m\n",
      "\u001b[1;31mNameError\u001b[0m: name 'test_target' is not defined"
     ]
    },
    {
     "data": {
      "image/png": "[encoded data removed]",
      "text/plain": [
       "<matplotlib.figure.Figure at 0x7fad4ad55e10>"
      ]
     },
     "metadata": {},
     "output_type": "display_data"
    }
   ],
   "source": [
    "import numpy as np\n",
    "plt.rc('font', family='serif')\n",
    "\n",
    "plt.plot([1, 2, 3, 4])\n",
    "\n",
    "fig = plt.figure(1, figsize=(10,8))\n",
    "\n",
    "\n",
    "\n",
    "x = np.linspace(1, 100, num= 100)\n",
    "plt.title('Ground Truth')\n",
    "ax1 = plt.subplot(311)\n",
    "plt.plot(x,test_target[100:200],'k-' )\n",
    "\n",
    "ax2 = plt.subplot(312)\n",
    "plt.plot(x,test_pred_rnn[100:200],'k:' )\n",
    "plt.ylim([0,1])\n",
    "\n",
    "ax3 = plt.subplot(313, sharex=ax1)\n",
    "plt.plot(x,test_pred[100:200,], 'k--' )\n",
    "plt.setp(ax1.get_xticklabels(), visible=False)\n",
    "plt.setp(ax2.get_xticklabels(), visible=False)\n",
    "ax3.set_xlabel('Time Step')\n",
    "plt.savefig(\"../result/synth_forecast_rnn.pdf\")"
   ]
  },
  {
   "cell_type": "code",
   "execution_count": 9,
   "metadata": {
    "collapsed": false
   },
   "outputs": [],
   "source": [
    "\"\"\"training step vs training loss\"\"\"\n",
    "import csv\n",
    "import numpy\n",
    "# with open(\"../result/ts_lstm.csv\",\"rb\") as csvfile:\n",
    "#     fstream = csv.reader(csvfile)\n",
    "#     x = list(fstream)\n",
    "#     ts_lstm = numpy.array(x).astype(\"float\")\n",
    "ts_lstm = numpy.loadtxt(open(\"../result/ts_lstm.csv\", \"rb\"), delimiter=\",\", skiprows=1)\n",
    "ts_tt = numpy.loadtxt(open(\"../result/ts_tt.csv\", \"rb\"), delimiter=\",\", skiprows=1)\n",
    "ts_mrnn = numpy.loadtxt(open(\"../result/ts_mrnn.csv\", \"rb\"), delimiter=\",\", skiprows=1)"
   ]
  },
  {
   "cell_type": "code",
   "execution_count": 1,
   "metadata": {
    "collapsed": false
   },
   "outputs": [
    {
     "ename": "NameError",
     "evalue": "name 'ts_tt' is not defined",
     "output_type": "error",
     "traceback": [
      "\u001b[1;31m---------------------------------------------------------------------------\u001b[0m",
      "\u001b[1;31mNameError\u001b[0m                                 Traceback (most recent call last)",
      "\u001b[1;32m<ipython-input-1-e1635d402c88>\u001b[0m in \u001b[0;36m<module>\u001b[1;34m()\u001b[0m\n\u001b[0;32m      5\u001b[0m \u001b[0mfig\u001b[0m \u001b[1;33m=\u001b[0m \u001b[0mplt\u001b[0m\u001b[1;33m.\u001b[0m\u001b[0mfigure\u001b[0m\u001b[1;33m(\u001b[0m\u001b[1;36m1\u001b[0m\u001b[1;33m,\u001b[0m \u001b[0mfigsize\u001b[0m\u001b[1;33m=\u001b[0m\u001b[1;33m(\u001b[0m\u001b[1;36m10\u001b[0m\u001b[1;33m,\u001b[0m\u001b[1;36m8\u001b[0m\u001b[1;33m)\u001b[0m\u001b[1;33m)\u001b[0m\u001b[1;33m\u001b[0m\u001b[0m\n\u001b[0;32m      6\u001b[0m \u001b[0mend_point\u001b[0m \u001b[1;33m=\u001b[0m \u001b[1;36m10\u001b[0m\u001b[1;33m\u001b[0m\u001b[0m\n\u001b[1;32m----> 7\u001b[1;33m \u001b[0mts_lstm\u001b[0m\u001b[1;33m[\u001b[0m\u001b[1;36m0\u001b[0m\u001b[1;33m,\u001b[0m\u001b[1;36m2\u001b[0m\u001b[1;33m]\u001b[0m \u001b[1;33m=\u001b[0m \u001b[0mts_tt\u001b[0m\u001b[1;33m[\u001b[0m\u001b[1;36m0\u001b[0m\u001b[1;33m,\u001b[0m\u001b[1;36m2\u001b[0m\u001b[1;33m]\u001b[0m\u001b[1;33m\u001b[0m\u001b[0m\n\u001b[0m\u001b[0;32m      8\u001b[0m \u001b[0mts_mrnn\u001b[0m\u001b[1;33m[\u001b[0m\u001b[1;36m0\u001b[0m\u001b[1;33m,\u001b[0m\u001b[1;36m2\u001b[0m\u001b[1;33m]\u001b[0m \u001b[1;33m=\u001b[0m \u001b[0mts_tt\u001b[0m\u001b[1;33m[\u001b[0m\u001b[1;36m0\u001b[0m\u001b[1;33m,\u001b[0m\u001b[1;36m2\u001b[0m\u001b[1;33m]\u001b[0m\u001b[1;33m\u001b[0m\u001b[0m\n\u001b[0;32m      9\u001b[0m \u001b[0mlstm\u001b[0m\u001b[1;33m,\u001b[0m\u001b[1;33m=\u001b[0m\u001b[0mplt\u001b[0m\u001b[1;33m.\u001b[0m\u001b[0mplot\u001b[0m\u001b[1;33m(\u001b[0m\u001b[0mts_lstm\u001b[0m\u001b[1;33m[\u001b[0m\u001b[1;33m:\u001b[0m\u001b[0mend_point\u001b[0m\u001b[1;33m,\u001b[0m\u001b[1;36m1\u001b[0m\u001b[1;33m]\u001b[0m\u001b[1;33m,\u001b[0m \u001b[0mts_lstm\u001b[0m\u001b[1;33m[\u001b[0m\u001b[1;33m:\u001b[0m\u001b[0mend_point\u001b[0m\u001b[1;33m,\u001b[0m\u001b[1;36m2\u001b[0m\u001b[1;33m]\u001b[0m\u001b[1;33m,\u001b[0m\u001b[1;34m'k--'\u001b[0m\u001b[1;33m)\u001b[0m\u001b[1;33m\u001b[0m\u001b[0m\n",
      "\u001b[1;31mNameError\u001b[0m: name 'ts_tt' is not defined"
     ]
    },
    {
     "data": {
      "image/png": "[encoded data removed]",
      "text/plain": [
       "<matplotlib.figure.Figure at 0x7f6488fff290>"
      ]
     },
     "metadata": {},
     "output_type": "display_data"
    }
   ],
   "source": [
    "%matplotlib inline\n",
    "import matplotlib.pyplot as plt\n",
    "plt.rc('font', family='serif')\n",
    "plt.plot([1, 2, 3, 4])\n",
    "fig = plt.figure(1, figsize=(10,8))\n",
    "end_point = 10\n",
    "ts_lstm[0,2] = ts_tt[0,2] \n",
    "ts_mrnn[0,2] = ts_tt[0,2]\n",
    "lstm,=plt.plot(ts_lstm[:end_point,1], ts_lstm[:end_point,2],'k--')\n",
    "tt,=plt.plot(ts_tt[:,1], ts_tt[:,2], 'k-')\n",
    "mrnn,=plt.plot(ts_mrnn[:end_point-1,1], ts_mrnn[:end_point-1,2], 'k:')\n",
    "\n",
    "plt.ylim([-0.5,1])\n",
    "plt.xlabel('Step')\n",
    "plt.ylabel('Train Loss')\n",
    "plt.legend([lstm, mrnn, tt], ['LSTM', 'HORNN' ,'TRNN'])\n",
    "plt.savefig(\"../result/ts_train_speed.pdf\")"
   ]
  },
  {
   "cell_type": "code",
   "execution_count": 39,
   "metadata": {
    "collapsed": false
   },
   "outputs": [
    {
     "ename": "IOError",
     "evalue": "[Errno 2] No such file or directory: '/home/roseyu/Python/TensorCompress/experiments/log/traffic_exp/tt_rnn_rank-2/predict.npy'",
     "output_type": "error",
     "traceback": [
      "\u001b[1;31m---------------------------------------------------------------------------\u001b[0m",
      "\u001b[1;31mIOError\u001b[0m                                   Traceback (most recent call last)",
      "\u001b[1;32m<ipython-input-39-d28d009950b9>\u001b[0m in \u001b[0;36m<module>\u001b[1;34m()\u001b[0m\n\u001b[0;32m      7\u001b[0m         \u001b[0mtest_true\u001b[0m\u001b[1;33m,\u001b[0m \u001b[0mtest_pred\u001b[0m\u001b[1;33m,\u001b[0m \u001b[0mtest_err\u001b[0m\u001b[1;33m=\u001b[0m \u001b[0mnp\u001b[0m\u001b[1;33m.\u001b[0m\u001b[0mload\u001b[0m\u001b[1;33m(\u001b[0m\u001b[0mdata_path\u001b[0m \u001b[1;33m)\u001b[0m\u001b[1;33m\u001b[0m\u001b[0m\n\u001b[0;32m      8\u001b[0m     \u001b[1;32mexcept\u001b[0m \u001b[0mIOError\u001b[0m\u001b[1;33m:\u001b[0m\u001b[1;33m\u001b[0m\u001b[0m\n\u001b[1;32m----> 9\u001b[1;33m         \u001b[0mtest_true\u001b[0m\u001b[1;33m,\u001b[0m \u001b[0mtest_pred\u001b[0m\u001b[1;33m,\u001b[0m \u001b[0mtest_err\u001b[0m\u001b[1;33m,\u001b[0m \u001b[0mtest_targetc\u001b[0m\u001b[1;33m=\u001b[0m \u001b[0mnp\u001b[0m\u001b[1;33m.\u001b[0m\u001b[0mload\u001b[0m\u001b[1;33m(\u001b[0m\u001b[0mdata_path\u001b[0m \u001b[1;33m)\u001b[0m\u001b[1;33m\u001b[0m\u001b[0m\n\u001b[0m\u001b[0;32m     10\u001b[0m     \u001b[0mtest_pred\u001b[0m \u001b[1;33m=\u001b[0m \u001b[0mnp\u001b[0m\u001b[1;33m.\u001b[0m\u001b[0msqueeze\u001b[0m\u001b[1;33m(\u001b[0m\u001b[0mtest_pred\u001b[0m\u001b[1;33m)\u001b[0m\u001b[1;33m\u001b[0m\u001b[0m\n\u001b[0;32m     11\u001b[0m     \u001b[1;32mprint\u001b[0m\u001b[1;33m(\u001b[0m\u001b[0mrank\u001b[0m\u001b[1;33m)\u001b[0m\u001b[1;33m\u001b[0m\u001b[0m\n",
      "\u001b[1;32m/usr/local/lib/python2.7/dist-packages/numpy/lib/npyio.pyc\u001b[0m in \u001b[0;36mload\u001b[1;34m(file, mmap_mode, allow_pickle, fix_imports, encoding)\u001b[0m\n\u001b[0;32m    360\u001b[0m     \u001b[0mown_fid\u001b[0m \u001b[1;33m=\u001b[0m \u001b[0mFalse\u001b[0m\u001b[1;33m\u001b[0m\u001b[0m\n\u001b[0;32m    361\u001b[0m     \u001b[1;32mif\u001b[0m \u001b[0misinstance\u001b[0m\u001b[1;33m(\u001b[0m\u001b[0mfile\u001b[0m\u001b[1;33m,\u001b[0m \u001b[0mbasestring\u001b[0m\u001b[1;33m)\u001b[0m\u001b[1;33m:\u001b[0m\u001b[1;33m\u001b[0m\u001b[0m\n\u001b[1;32m--> 362\u001b[1;33m         \u001b[0mfid\u001b[0m \u001b[1;33m=\u001b[0m \u001b[0mopen\u001b[0m\u001b[1;33m(\u001b[0m\u001b[0mfile\u001b[0m\u001b[1;33m,\u001b[0m \u001b[1;34m\"rb\"\u001b[0m\u001b[1;33m)\u001b[0m\u001b[1;33m\u001b[0m\u001b[0m\n\u001b[0m\u001b[0;32m    363\u001b[0m         \u001b[0mown_fid\u001b[0m \u001b[1;33m=\u001b[0m \u001b[0mTrue\u001b[0m\u001b[1;33m\u001b[0m\u001b[0m\n\u001b[0;32m    364\u001b[0m     \u001b[1;32melse\u001b[0m\u001b[1;33m:\u001b[0m\u001b[1;33m\u001b[0m\u001b[0m\n",
      "\u001b[1;31mIOError\u001b[0m: [Errno 2] No such file or directory: '/home/roseyu/Python/TensorCompress/experiments/log/traffic_exp/tt_rnn_rank-2/predict.npy'"
     ]
    }
   ],
   "source": [
    "\"\"\"display the saved test error \"\"\"\n",
    "models= [\"basic_rnn\",\"basic_lstm\",\"matrix_rnn_rnd\",\"tt_rnn\"]\n",
    "rank_range = np.linspace(1,128,2)\n",
    "for rank in [2]:\n",
    "    data_path = \"/home/roseyu/Python/TensorCompress/experiments/log/traffic_exp/tt_rnn_rank-\"+str(int(rank))+\"/predict.npy\"\n",
    "    try:\n",
    "        test_true, test_pred, test_err= np.load(data_path )\n",
    "    except IOError:\n",
    "        test_true, test_pred, test_err, test_targetc= np.load(data_path )\n",
    "    test_pred = np.squeeze(test_pred)\n",
    "    print(rank)\n",
    "    print(\"test error: %f\",test_err)\n"
   ]
  }
 ],
 "metadata": {
  "kernelspec": {
   "display_name": "Python 2",
   "language": "python",
   "name": "python2"
  },
  "language_info": {
   "codemirror_mode": {
    "name": "ipython",
    "version": 2
   },
   "file_extension": ".py",
   "mimetype": "text/x-python",
   "name": "python",
   "nbconvert_exporter": "python",
   "pygments_lexer": "ipython2",
   "version": "2.7.6"
  }
 },
 "nbformat": 4,
 "nbformat_minor": 0
}
