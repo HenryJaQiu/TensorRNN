{
 "cells": [
  {
   "cell_type": "code",
   "execution_count": null,
   "metadata": {
    "collapsed": false
   },
   "outputs": [],
   "source": [
    "import numpy as np\n",
    "file_path = \"/home/roseyu/Python/log/\"\n",
    "data_file = \"lorenz/tt_rnn/predict.npy\"\n",
    "test_rslt = np.load(file_path+data_file)\n",
    "test_true = test_rslt[0]\n",
    "test_pred = test_rslt[1]"
   ]
  },
  {
   "cell_type": "code",
   "execution_count": null,
   "metadata": {
    "collapsed": false
   },
   "outputs": [],
   "source": [
    "%matplotlib inline\n",
    "import matplotlib.pyplot as plt\n",
    "\n",
    "plt.plot(test_pred[8000:9000,0])\n",
    "plt.plot(test_true[8000:9000,0])\n",
    "\n",
    "print(test_pred.shape)\n",
    "from sklearn.metrics import mean_squared_error\n",
    "print(np.sqrt(mean_squared_error(test_true, test_pred)))"
   ]
  },
  {
   "cell_type": "markdown",
   "metadata": {},
   "source": [
    "## Compare the randomized hyper-parameter tuning "
   ]
  },
  {
   "cell_type": "code",
   "execution_count": 13,
   "metadata": {
    "collapsed": false
   },
   "outputs": [],
   "source": [
    "#data_path = \"/home/roseyu/Python/log/lorenz/\"\n",
    "#exp=\"lorenz\" start_time=\"05-02-17-00-25-36\"\n",
    "def print_forecast(start_time):\n",
    "    \"\"\"pass in start-up of the experiments\"\"\"\n",
    "    exps=[\"lorenz\", \"logistic\",\"traffic\",\"climate\"]\n",
    "    #start_time=\"05-02-17-13-55-40\"\n",
    "    use_error =\"\"\n",
    "\n",
    "    for exp in exps:\n",
    "        data_path = \"/tmp/tensorRNN/log/\"+exp+\"/\"+use_error+start_time\n",
    "        models = [\"basic_rnn\", \"basic_lstm\", \"matrix_rnn\", \"tensor_rnn\", \"tensor_rnn_einsum\"]\n",
    "        print(data_path)\n",
    "        for model in models:\n",
    "            file_name = model+\"/\"+\"config_error.out\"\n",
    "            print(model)\n",
    "            try:\n",
    "                with open(data_path+\"/\"+file_name,'rb') as fstream:\n",
    "                    for line in fstream:\n",
    "                        print(line)\n",
    "            except IOError:\n",
    "                'no file'"
   ]
  },
  {
   "cell_type": "markdown",
   "metadata": {},
   "source": [
    "### forecasting with error propagation"
   ]
  },
  {
   "cell_type": "code",
   "execution_count": 14,
   "metadata": {
    "collapsed": false
   },
   "outputs": [
    {
     "name": "stdout",
     "output_type": "stream",
     "text": [
      "/tmp/tensorRNN/log/lorenz/05-08-17-13-42-04\n",
      "basic_rnn\n",
      "basic_lstm\n",
      "num_layers:2\thidden_size:64\tnum_steps:50\tlearning_rate:0.005\n",
      "\n",
      "error propagation \ttrain_error:1.41234287579\tvalid_error:1.68390903584\ttest_error:19.0491135086\n",
      "\n",
      "matrix_rnn\n",
      "tensor_rnn\n",
      "tensor_rnn_einsum\n",
      "num_layers:2\thidden_size:64\tnum_steps:50\tlearning_rate:0.005\n",
      "\n",
      "error propagation \ttrain_error:10.7841036235\tvalid_error:11.2444574246\ttest_error:17.9339160287\n",
      "\n",
      "/tmp/tensorRNN/log/logistic/05-08-17-13-42-04\n",
      "basic_rnn\n",
      "basic_lstm\n",
      "matrix_rnn\n",
      "tensor_rnn\n",
      "tensor_rnn_einsum\n",
      "/tmp/tensorRNN/log/traffic/05-08-17-13-42-04\n",
      "basic_rnn\n",
      "basic_lstm\n",
      "matrix_rnn\n",
      "tensor_rnn\n",
      "tensor_rnn_einsum\n",
      "/tmp/tensorRNN/log/climate/05-08-17-13-42-04\n",
      "basic_rnn\n",
      "basic_lstm\n",
      "matrix_rnn\n",
      "tensor_rnn\n",
      "tensor_rnn_einsum\n",
      "/tmp/tensorRNN/log/lorenz/05-08-17-18-57-49\n",
      "basic_rnn\n",
      "basic_lstm\n",
      "matrix_rnn\n",
      "tensor_rnn\n",
      "tensor_rnn_einsum\n",
      "/tmp/tensorRNN/log/logistic/05-08-17-18-57-49\n",
      "basic_rnn\n",
      "basic_lstm\n",
      "num_layers:2\thidden_size:64\tnum_steps:50\tlearning_rate:0.005\n",
      "\n",
      "error propagation \ttrain_error:0.0430955228745\tvalid_error:0.0609121092503\ttest_error:0.372941979083\n",
      "\n",
      "matrix_rnn\n",
      "tensor_rnn\n",
      "tensor_rnn_einsum\n",
      "num_layers:2\thidden_size:64\tnum_steps:50\tlearning_rate:0.005\n",
      "\n",
      "error propagation \ttrain_error:0.356262418187\tvalid_error:0.353487659839\ttest_error:0.334084244731\n",
      "\n",
      "/tmp/tensorRNN/log/traffic/05-08-17-18-57-49\n",
      "basic_rnn\n",
      "basic_lstm\n",
      "matrix_rnn\n",
      "tensor_rnn\n",
      "tensor_rnn_einsum\n",
      "/tmp/tensorRNN/log/climate/05-08-17-18-57-49\n",
      "basic_rnn\n",
      "basic_lstm\n",
      "matrix_rnn\n",
      "tensor_rnn\n",
      "tensor_rnn_einsum\n"
     ]
    }
   ],
   "source": [
    "#print_forecast(\"05-02-17-13-55-40\")\n",
    "#print_forecast(\"05-02-17-23-53-19\")\n",
    "#print_forecast(\"05-07-17-19-09-09\")\n",
    "#print_forecast(\"05-03-17-19-06-14\")\n",
    "print_forecast(\"05-08-17-13-42-04\")\n",
    "\n",
    "print_forecast(\"05-08-17-18-57-49\")"
   ]
  },
  {
   "cell_type": "markdown",
   "metadata": {},
   "source": [
    "### hyper-parameter tuning for lstm"
   ]
  },
  {
   "cell_type": "code",
   "execution_count": null,
   "metadata": {
    "collapsed": false
   },
   "outputs": [],
   "source": [
    "import re\n",
    "import numpy as np\n",
    "model = \"lstm\"\n",
    "err_list = []\n",
    "hz_list = []\n",
    "lr_list = []\n",
    "def read_config(fstream):\n",
    "    d = {}\n",
    "    for line in fstream:\n",
    "        line.rstrip()\n",
    "        tokens = line.split('\\t')\n",
    "        for token in tokens:\n",
    "            key, val = token.split(\":\")\n",
    "            d[key] = float(val)\n",
    "    return d\n",
    "        \n",
    "for i in range(10):\n",
    "    data_path = \"/home/roseyu/Python/log/lorenz/basic_lstm_\"+str(i)\n",
    "    file_name = \"config_error.out\"\n",
    "    \n",
    "    try:\n",
    "        with open(data_path+\"/\"+file_name,'rb') as fstream:\n",
    "            #for line in fstream:\n",
    "                #print(line)\n",
    "            config = read_config(fstream)\n",
    "            print config\n",
    "            lr_list.append(config['learning_rate'])\n",
    "            hz_list.append(config['hidden_size'])\n",
    "            err_list.append(config['test_error'])\n",
    "    except IOError:\n",
    "        'no file'\n"
   ]
  },
  {
   "cell_type": "code",
   "execution_count": null,
   "metadata": {
    "collapsed": false
   },
   "outputs": [],
   "source": [
    "%matplotlib inline\n",
    "import matplotlib.pyplot as plt\n",
    "\n",
    "lr = np.asarray(lr_list)\n",
    "hz = np.asarray(hz_list)\n",
    "err = np.asarray(err_list)\n",
    "\n",
    "order = np.argsort(lr)\n",
    "lr = lr[order]\n",
    "err = err[order]\n",
    "hz = hz[order]\n",
    "\n",
    "plt.plot(lr[hz==128], err[hz==128])\n",
    "plt.plot(lr[hz==256], err[hz==256])\n",
    "plt.plot(lr[hz==64], err[hz==64])\n",
    "\n",
    "print err"
   ]
  }
 ],
 "metadata": {
  "kernelspec": {
   "display_name": "Python 2",
   "language": "python",
   "name": "python2"
  },
  "language_info": {
   "codemirror_mode": {
    "name": "ipython",
    "version": 2
   },
   "file_extension": ".py",
   "mimetype": "text/x-python",
   "name": "python",
   "nbconvert_exporter": "python",
   "pygments_lexer": "ipython2",
   "version": "2.7.6"
  }
 },
 "nbformat": 4,
 "nbformat_minor": 0
}
