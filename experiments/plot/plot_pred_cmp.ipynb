{
 "cells": [
  {
   "cell_type": "code",
   "execution_count": null,
   "metadata": {
    "collapsed": false
   },
   "outputs": [],
   "source": [
    "import numpy as np\n",
    "file_path = \"/home/roseyu/Python/log/\"\n",
    "data_file = \"lorenz/tt_rnn/predict.npy\"\n",
    "test_rslt = np.load(file_path+data_file)\n",
    "test_true = test_rslt[0]\n",
    "test_pred = test_rslt[1]"
   ]
  },
  {
   "cell_type": "code",
   "execution_count": null,
   "metadata": {
    "collapsed": false
   },
   "outputs": [],
   "source": [
    "%matplotlib inline\n",
    "import matplotlib.pyplot as plt\n",
    "\n",
    "plt.plot(test_pred[8000:9000,0])\n",
    "plt.plot(test_true[8000:9000,0])\n",
    "\n",
    "print(test_pred.shape)\n",
    "from sklearn.metrics import mean_squared_error\n",
    "print(np.sqrt(mean_squared_error(test_true, test_pred)))"
   ]
  },
  {
   "cell_type": "markdown",
   "metadata": {},
   "source": [
    "## Compare the randomized hyper-parameter tuning "
   ]
  },
  {
   "cell_type": "code",
   "execution_count": 84,
   "metadata": {
    "collapsed": false
   },
   "outputs": [
    {
     "name": "stdout",
     "output_type": "stream",
     "text": [
      "/tmp/tensorRNN/log/logistic/05-02-17-13-55-40\n",
      "basic_rnn\n",
      "hidden_size:128\tnum_steps:12\tlearning_rate:0.001\n",
      "\n",
      "train_error:0.354519695103\tvalid_error:0.353405987399\ttest_error:0.354402173133\n",
      "\n",
      "basic_lstm\n",
      "hidden_size:128\tnum_steps:12\tlearning_rate:0.001\n",
      "\n",
      "train_error:0.00416298224753\tvalid_error:0.00883227714166\ttest_error:0.00485662106156\n",
      "\n",
      "matrix_rnn\n",
      "hidden_size:128\tnum_steps:12\tlearning_rate:0.001\n",
      "\n",
      "train_error:0.00360069625216\tvalid_error:0.00362288761438\ttest_error:0.00362014762832\n",
      "\n",
      "tensor_rnn\n",
      "hidden_size:128\tnum_steps:12\tlearning_rate:0.001\n",
      "\n",
      "train_error:0.00234438590089\tvalid_error:0.00225411659378\ttest_error:2.2813571423\n",
      "\n",
      "tensor_rnn_einsum\n",
      "hidden_size:128\tnum_steps:12\tlearning_rate:0.001\n",
      "\n",
      "train_error:0.00200954971662\tvalid_error:0.00203966495136\ttest_error:0.00204570028445\n",
      "\n",
      "/tmp/tensorRNN/log/traffic/05-02-17-13-55-40\n",
      "basic_rnn\n",
      "hidden_size:128\tnum_steps:12\tlearning_rate:0.001\n",
      "\n",
      "train_error:6.85688035648\tvalid_error:6.73780810002\ttest_error:6.65302214279\n",
      "\n",
      "basic_lstm\n",
      "hidden_size:128\tnum_steps:12\tlearning_rate:0.001\n",
      "\n",
      "train_error:6.24535021964\tvalid_error:6.39178507996\ttest_error:6.21167037305\n",
      "\n",
      "matrix_rnn\n",
      "hidden_size:128\tnum_steps:12\tlearning_rate:0.001\n",
      "\n",
      "train_error:6.60582635553\tvalid_error:6.72839938259\ttest_error:6.69201930373\n",
      "\n",
      "tensor_rnn\n",
      "hidden_size:128\tnum_steps:12\tlearning_rate:0.001\n",
      "\n",
      "train_error:6.63015991124\tvalid_error:6.95074553135\ttest_error:6.62766709029\n",
      "\n",
      "tensor_rnn_einsum\n",
      "hidden_size:128\tnum_steps:12\tlearning_rate:0.001\n",
      "\n",
      "train_error:6.75150641042\tvalid_error:6.78957802138\ttest_error:6.69100842805\n",
      "\n",
      "/tmp/tensorRNN/log/climate/05-02-17-13-55-40\n",
      "basic_rnn\n",
      "hidden_size:128\tnum_steps:12\tlearning_rate:0.001\n",
      "\n",
      "train_error:16.4816148978\tvalid_error:23.9722141115\ttest_error:38.3422640868\n",
      "\n",
      "basic_lstm\n",
      "hidden_size:128\tnum_steps:12\tlearning_rate:0.001\n",
      "\n",
      "train_error:19.3532723629\tvalid_error:26.0654733131\ttest_error:40.3227710982\n",
      "\n",
      "matrix_rnn\n",
      "hidden_size:128\tnum_steps:12\tlearning_rate:0.001\n",
      "\n",
      "train_error:17.0593467993\tvalid_error:24.693828369\ttest_error:41.8706314688\n",
      "\n",
      "tensor_rnn\n",
      "hidden_size:128\tnum_steps:12\tlearning_rate:0.001\n",
      "\n",
      "train_error:16.8357396293\tvalid_error:23.8196021332\ttest_error:39.1724200915\n",
      "\n",
      "tensor_rnn_einsum\n",
      "hidden_size:128\tnum_steps:12\tlearning_rate:0.001\n",
      "\n",
      "train_error:16.9097896438\tvalid_error:24.0547147312\ttest_error:38.4555793914\n",
      "\n"
     ]
    }
   ],
   "source": [
    "#data_path = \"/home/roseyu/Python/log/lorenz/\"\n",
    "#exp=\"lorenz\" start_time=\"05-02-17-00-25-36\"\n",
    "def print_forecast(start_time):\n",
    "    \"\"\"pass in start-up of the experiments\"\"\"\n",
    "    exps=[\"logistic\",\"traffic\",\"climate\"]\n",
    "    #start_time=\"05-02-17-13-55-40\"\n",
    "    use_error =\"\"\n",
    "\n",
    "    for exp in exps:\n",
    "        data_path = \"/tmp/tensorRNN/log/\"+exp+\"/\"+use_error+start_time\n",
    "        models = [\"basic_rnn\", \"basic_lstm\", \"matrix_rnn\", \"tensor_rnn\", \"tensor_rnn_einsum\"]\n",
    "        print(data_path)\n",
    "        for model in models:\n",
    "            file_name = model+\"/\"+\"config_error.out\"\n",
    "            print(model)\n",
    "            try:\n",
    "                with open(data_path+\"/\"+file_name,'rb') as fstream:\n",
    "                    for line in fstream:\n",
    "                        print(line)\n",
    "            except IOError:\n",
    "                'no file'\n",
    "print_forecast(\"05-02-17-13-55-40\")"
   ]
  },
  {
   "cell_type": "markdown",
   "metadata": {},
   "source": [
    "### forecasting with error propagation"
   ]
  },
  {
   "cell_type": "code",
   "execution_count": 85,
   "metadata": {
    "collapsed": false
   },
   "outputs": [
    {
     "name": "stdout",
     "output_type": "stream",
     "text": [
      "/tmp/tensorRNN/log/logistic/05-04-17-00-11-12\n",
      "basic_rnn\n",
      "basic_lstm\n",
      "hidden_size:128\tnum_steps:12\tlearning_rate:0.003\n",
      "\n",
      "train_error:0.0217848521382\tvalid_error:0.361210683246\ttest_error:0.0166307455407\n",
      "\n",
      "matrix_rnn\n",
      "tensor_rnn\n",
      "tensor_rnn_einsum\n",
      "hidden_size:128\tnum_steps:12\tlearning_rate:0.003\n",
      "\n",
      "train_error:0.0129359426326\tvalid_error:1.14892665562\ttest_error:0.0333615657172\n",
      "\n",
      "/tmp/tensorRNN/log/traffic/05-04-17-00-11-12\n",
      "basic_rnn\n",
      "basic_lstm\n",
      "hidden_size:128\tnum_steps:12\tlearning_rate:0.003\n",
      "\n",
      "train_error:10.7474636432\tvalid_error:11.7203925428\ttest_error:8.61244198564\n",
      "\n",
      "matrix_rnn\n",
      "tensor_rnn\n",
      "tensor_rnn_einsum\n",
      "hidden_size:128\tnum_steps:12\tlearning_rate:0.003\n",
      "\n",
      "train_error:7.53414702279\tvalid_error:22.3056907069\ttest_error:7.43058839075\n",
      "\n",
      "/tmp/tensorRNN/log/climate/05-04-17-00-11-12\n",
      "basic_rnn\n",
      "basic_lstm\n",
      "hidden_size:128\tnum_steps:12\tlearning_rate:0.003\n",
      "\n",
      "train_error:25.7517720187\tvalid_error:30.4552492518\ttest_error:42.6071427605\n",
      "\n",
      "matrix_rnn\n",
      "tensor_rnn\n",
      "tensor_rnn_einsum\n",
      "hidden_size:128\tnum_steps:12\tlearning_rate:0.003\n",
      "\n",
      "train_error:19.2763408528\tvalid_error:28.0946054878\ttest_error:39.9740743457\n",
      "\n"
     ]
    }
   ],
   "source": [
    "#print_forecast(\"05-02-17-23-53-19\")\n",
    "print_forecast(\"05-04-17-00-11-12\")\n",
    "#print_forecast(\"05-03-17-19-06-14\")"
   ]
  },
  {
   "cell_type": "markdown",
   "metadata": {},
   "source": [
    "### hyper-parameter tuning for lstm"
   ]
  },
  {
   "cell_type": "code",
   "execution_count": null,
   "metadata": {
    "collapsed": false
   },
   "outputs": [],
   "source": [
    "import re\n",
    "import numpy as np\n",
    "model = \"lstm\"\n",
    "err_list = []\n",
    "hz_list = []\n",
    "lr_list = []\n",
    "def read_config(fstream):\n",
    "    d = {}\n",
    "    for line in fstream:\n",
    "        line.rstrip()\n",
    "        tokens = line.split('\\t')\n",
    "        for token in tokens:\n",
    "            key, val = token.split(\":\")\n",
    "            d[key] = float(val)\n",
    "    return d\n",
    "        \n",
    "for i in range(10):\n",
    "    data_path = \"/home/roseyu/Python/log/lorenz/basic_lstm_\"+str(i)\n",
    "    file_name = \"config_error.out\"\n",
    "    \n",
    "    try:\n",
    "        with open(data_path+\"/\"+file_name,'rb') as fstream:\n",
    "            #for line in fstream:\n",
    "                #print(line)\n",
    "            config = read_config(fstream)\n",
    "            print config\n",
    "            lr_list.append(config['learning_rate'])\n",
    "            hz_list.append(config['hidden_size'])\n",
    "            err_list.append(config['test_error'])\n",
    "    except IOError:\n",
    "        'no file'\n"
   ]
  },
  {
   "cell_type": "code",
   "execution_count": null,
   "metadata": {
    "collapsed": false
   },
   "outputs": [],
   "source": [
    "%matplotlib inline\n",
    "import matplotlib.pyplot as plt\n",
    "\n",
    "lr = np.asarray(lr_list)\n",
    "hz = np.asarray(hz_list)\n",
    "err = np.asarray(err_list)\n",
    "\n",
    "order = np.argsort(lr)\n",
    "lr = lr[order]\n",
    "err = err[order]\n",
    "hz = hz[order]\n",
    "\n",
    "plt.plot(lr[hz==128], err[hz==128])\n",
    "plt.plot(lr[hz==256], err[hz==256])\n",
    "plt.plot(lr[hz==64], err[hz==64])\n",
    "\n",
    "print err"
   ]
  }
 ],
 "metadata": {
  "kernelspec": {
   "display_name": "Python 2",
   "language": "python",
   "name": "python2"
  },
  "language_info": {
   "codemirror_mode": {
    "name": "ipython",
    "version": 2
   },
   "file_extension": ".py",
   "mimetype": "text/x-python",
   "name": "python",
   "nbconvert_exporter": "python",
   "pygments_lexer": "ipython2",
   "version": "2.7.6"
  }
 },
 "nbformat": 4,
 "nbformat_minor": 0
}
