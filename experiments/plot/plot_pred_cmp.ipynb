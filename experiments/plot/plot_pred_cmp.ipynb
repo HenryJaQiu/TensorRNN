{
 "cells": [
  {
   "cell_type": "code",
   "execution_count": null,
   "metadata": {
    "collapsed": false
   },
   "outputs": [],
   "source": [
    "import numpy as np\n",
    "file_path = \"/home/roseyu/Python/log/\"\n",
    "data_file = \"lorenz/tt_rnn/predict.npy\"\n",
    "test_rslt = np.load(file_path+data_file)\n",
    "test_true = test_rslt[0]\n",
    "test_pred = test_rslt[1]"
   ]
  },
  {
   "cell_type": "code",
   "execution_count": null,
   "metadata": {
    "collapsed": false
   },
   "outputs": [],
   "source": [
    "%matplotlib inline\n",
    "import matplotlib.pyplot as plt\n",
    "\n",
    "plt.plot(test_pred[8000:9000,0])\n",
    "plt.plot(test_true[8000:9000,0])\n",
    "\n",
    "print(test_pred.shape)\n",
    "from sklearn.metrics import mean_squared_error\n",
    "print(np.sqrt(mean_squared_error(test_true, test_pred)))"
   ]
  },
  {
   "cell_type": "markdown",
   "metadata": {},
   "source": [
    "## Compare the randomized hyper-parameter tuning "
   ]
  },
  {
   "cell_type": "code",
   "execution_count": 76,
   "metadata": {
    "collapsed": false
   },
   "outputs": [],
   "source": [
    "#data_path = \"/home/roseyu/Python/log/lorenz/\"\n",
    "#exp=\"lorenz\" start_time=\"05-02-17-00-25-36\"\n",
    "import numpy as np\n",
    "\n",
    "def read_config(fstream):\n",
    "    d = {}\n",
    "    for line in fstream:\n",
    "        line.rstrip()\n",
    "        tokens = line.split('\\t')\n",
    "        for token in tokens:\n",
    "            try:\n",
    "                key, val = token.split(\":\")\n",
    "                d[key] = float(val)                \n",
    "            except ValueError:\n",
    "                'error prop'\n",
    "    return d\n",
    "def print_forecast(start_time):\n",
    "    i=0\n",
    "    err_mat = np.ndarray((8,3))\n",
    "    \"\"\"pass in start-up of the experiments\"\"\"\n",
    "    exps=[\"logistic\"]#, \"logistic\"] #,\"traffic\",\"climate\"\n",
    "    models = [\"basic_rnn\", \"basic_lstm\",  \"tensor_rnn_einsum\"] #\"matrix_rnn\", \"tensor_rnn\",\n",
    "\n",
    "    #start_time=\"05-02-17-13-55-40\"\n",
    "    use_error =\"\"\n",
    "\n",
    "    for exp in exps:\n",
    "        for ts in range(5, 45, 5):\n",
    "            j = 0\n",
    "            for model in models:\n",
    "                data_path = \"/tmp/tensorRNN/log/\"+exp+\"/\"+use_error+start_time+\"/\"+model+\"/\"+\"ts_\"+str(ts)+\"/\"\n",
    "                file_name = \"config_error.out\"\n",
    "                print(data_path)\n",
    "                try:\n",
    "                    with open(data_path+\"/\"+file_name,'rb') as fstream:\n",
    "#                         for line in fstream:\n",
    "#                             print(line)\n",
    "                        config = read_config(fstream)\n",
    "                        print config, model, i,j\n",
    "                        err_mat[i,j]=config['test_error']\n",
    "                        \n",
    "                        j +=1\n",
    "                        \n",
    "                except IOError:\n",
    "                    'no file'\n",
    "                    \n",
    "            i+=1\n",
    "    return err_mat"
   ]
  },
  {
   "cell_type": "markdown",
   "metadata": {},
   "source": [
    "### forecasting with error propagation"
   ]
  },
  {
   "cell_type": "code",
   "execution_count": 77,
   "metadata": {
    "collapsed": false
   },
   "outputs": [
    {
     "name": "stdout",
     "output_type": "stream",
     "text": [
      "/tmp/tensorRNN/log/logistic/05-09-17-19-31-50/basic_rnn/ts_5/\n",
      "/tmp/tensorRNN/log/logistic/05-09-17-19-31-50/basic_lstm/ts_5/\n",
      "/tmp/tensorRNN/log/logistic/05-09-17-19-31-50/tensor_rnn_einsum/ts_5/\n",
      "/tmp/tensorRNN/log/logistic/05-09-17-19-31-50/basic_rnn/ts_10/\n",
      "{'train_error': 0.113168155581, 'valid_error': 0.111658373841, 'learning_rate': 0.001, 'num_steps': 10.0, 'num_layers': 1.0, 'hidden_size': 64.0, 'test_error': 0.332176279907} basic_rnn 1 0\n",
      "/tmp/tensorRNN/log/logistic/05-09-17-19-31-50/basic_lstm/ts_10/\n",
      "{'train_error': 0.106389834129, 'valid_error': 0.124746059296, 'learning_rate': 0.003, 'num_steps': 10.0, 'num_layers': 2.0, 'hidden_size': 64.0, 'test_error': 0.316618788965} basic_lstm 1 1\n",
      "/tmp/tensorRNN/log/logistic/05-09-17-19-31-50/tensor_rnn_einsum/ts_10/\n",
      "{'train_error': 0.00859661792386, 'valid_error': 0.149765002521, 'learning_rate': 0.003, 'num_steps': 10.0, 'num_layers': 2.0, 'hidden_size': 64.0, 'test_error': 0.00339514388248} tensor_rnn_einsum 1 2\n",
      "/tmp/tensorRNN/log/logistic/05-09-17-19-31-50/basic_rnn/ts_15/\n",
      "{'train_error': 0.0924348263501, 'valid_error': 0.0911896943523, 'learning_rate': 0.001, 'num_steps': 15.0, 'num_layers': 1.0, 'hidden_size': 64.0, 'test_error': 0.335951122131} basic_rnn 2 0\n",
      "/tmp/tensorRNN/log/logistic/05-09-17-19-31-50/basic_lstm/ts_15/\n",
      "{'train_error': 0.0846891341761, 'valid_error': 0.10777165858, 'learning_rate': 0.003, 'num_steps': 15.0, 'num_layers': 2.0, 'hidden_size': 64.0, 'test_error': 0.353594459814} basic_lstm 2 1\n",
      "/tmp/tensorRNN/log/logistic/05-09-17-19-31-50/tensor_rnn_einsum/ts_15/\n",
      "{'train_error': 0.00942018898795, 'valid_error': 1.17166378755, 'learning_rate': 0.003, 'num_steps': 15.0, 'num_layers': 2.0, 'hidden_size': 64.0, 'test_error': 0.00465478913475} tensor_rnn_einsum 2 2\n",
      "/tmp/tensorRNN/log/logistic/05-09-17-19-31-50/basic_rnn/ts_20/\n",
      "{'train_error': 0.0802006447918, 'valid_error': 0.0790166415329, 'learning_rate': 0.001, 'num_steps': 20.0, 'num_layers': 1.0, 'hidden_size': 64.0, 'test_error': 0.33128815273} basic_rnn 3 0\n",
      "/tmp/tensorRNN/log/logistic/05-09-17-19-31-50/basic_lstm/ts_20/\n",
      "{'train_error': 0.0719648457954, 'valid_error': 0.0990424693813, 'learning_rate': 0.003, 'num_steps': 20.0, 'num_layers': 2.0, 'hidden_size': 64.0, 'test_error': 0.366725692765} basic_lstm 3 1\n",
      "/tmp/tensorRNN/log/logistic/05-09-17-19-31-50/tensor_rnn_einsum/ts_20/\n",
      "{'train_error': 0.00792358197322, 'valid_error': 1.96641017148, 'learning_rate': 0.003, 'num_steps': 20.0, 'num_layers': 2.0, 'hidden_size': 64.0, 'test_error': 0.00239799686068} tensor_rnn_einsum 3 2\n",
      "/tmp/tensorRNN/log/logistic/05-09-17-19-31-50/basic_rnn/ts_25/\n",
      "{'train_error': 0.0714551477812, 'valid_error': 0.0706965678004, 'learning_rate': 0.001, 'num_steps': 25.0, 'num_layers': 1.0, 'hidden_size': 64.0, 'test_error': 0.335182047965} basic_rnn 4 0\n",
      "/tmp/tensorRNN/log/logistic/05-09-17-19-31-50/basic_lstm/ts_25/\n",
      "{'train_error': 0.0635949370788, 'valid_error': 0.0874579692967, 'learning_rate': 0.003, 'num_steps': 25.0, 'num_layers': 2.0, 'hidden_size': 64.0, 'test_error': 0.3680200177} basic_lstm 4 1\n",
      "/tmp/tensorRNN/log/logistic/05-09-17-19-31-50/tensor_rnn_einsum/ts_25/\n",
      "{'train_error': 0.0083324307112, 'valid_error': 1.34684107502, 'learning_rate': 0.003, 'num_steps': 25.0, 'num_layers': 2.0, 'hidden_size': 64.0, 'test_error': 0.00257245551461} tensor_rnn_einsum 4 2\n",
      "/tmp/tensorRNN/log/logistic/05-09-17-19-31-50/basic_rnn/ts_30/\n",
      "{'train_error': 0.0652341180418, 'valid_error': 0.0645254186043, 'learning_rate': 0.001, 'num_steps': 30.0, 'num_layers': 1.0, 'hidden_size': 64.0, 'test_error': 0.336337432795} basic_rnn 5 0\n",
      "/tmp/tensorRNN/log/logistic/05-09-17-19-31-50/basic_lstm/ts_30/\n",
      "{'train_error': 0.056177265035, 'valid_error': 0.0803683868968, 'learning_rate': 0.003, 'num_steps': 30.0, 'num_layers': 2.0, 'hidden_size': 64.0, 'test_error': 0.343370423562} basic_lstm 5 1\n",
      "/tmp/tensorRNN/log/logistic/05-09-17-19-31-50/tensor_rnn_einsum/ts_30/\n",
      "{'train_error': 0.00809250108047, 'valid_error': 1.5033387635, 'learning_rate': 0.003, 'num_steps': 30.0, 'num_layers': 2.0, 'hidden_size': 64.0, 'test_error': 0.00157560478588} tensor_rnn_einsum 5 2\n",
      "/tmp/tensorRNN/log/logistic/05-09-17-19-31-50/basic_rnn/ts_35/\n",
      "{'train_error': 0.0599181082572, 'valid_error': 0.0599502515395, 'learning_rate': 0.001, 'num_steps': 35.0, 'num_layers': 1.0, 'hidden_size': 64.0, 'test_error': 0.326527809053} basic_rnn 6 0\n",
      "/tmp/tensorRNN/log/logistic/05-09-17-19-31-50/basic_lstm/ts_35/\n",
      "{'train_error': 0.0518708656967, 'valid_error': 0.0716584104564, 'learning_rate': 0.003, 'num_steps': 35.0, 'num_layers': 2.0, 'hidden_size': 64.0, 'test_error': 0.395180395077} basic_lstm 6 1\n",
      "/tmp/tensorRNN/log/logistic/05-09-17-19-31-50/tensor_rnn_einsum/ts_35/\n",
      "{'train_error': 0.00821588224136, 'valid_error': 1.1967494556, 'learning_rate': 0.003, 'num_steps': 35.0, 'num_layers': 2.0, 'hidden_size': 64.0, 'test_error': 0.00845096933742} tensor_rnn_einsum 6 2\n",
      "/tmp/tensorRNN/log/logistic/05-09-17-19-31-50/basic_rnn/ts_40/\n",
      "{'train_error': 0.0577698075659, 'valid_error': 0.0558836224338, 'learning_rate': 0.001, 'num_steps': 40.0, 'num_layers': 1.0, 'hidden_size': 64.0, 'test_error': 0.337042035136} basic_rnn 7 0\n",
      "/tmp/tensorRNN/log/logistic/05-09-17-19-31-50/basic_lstm/ts_40/\n",
      "{'train_error': 0.0475934478851, 'valid_error': 0.0665699895027, 'learning_rate': 0.003, 'num_steps': 40.0, 'num_layers': 2.0, 'hidden_size': 64.0, 'test_error': 0.367208641885} basic_lstm 7 1\n",
      "/tmp/tensorRNN/log/logistic/05-09-17-19-31-50/tensor_rnn_einsum/ts_40/\n",
      "{'train_error': 0.00695130959973, 'valid_error': 0.993930003795, 'learning_rate': 0.003, 'num_steps': 40.0, 'num_layers': 2.0, 'hidden_size': 64.0, 'test_error': 0.00187299038993} tensor_rnn_einsum 7 2\n"
     ]
    }
   ],
   "source": [
    "#print_forecast(\"05-02-17-13-55-40\")\n",
    "#print_forecast(\"05-02-17-23-53-19\")\n",
    "#print_forecast(\"05-07-17-19-09-09\")\n",
    "#print_forecast(\"05-03-17-19-06-14\")\n",
    "err_mat = print_forecast(\"05-09-17-19-31-50\")\n",
    "np.save(\"/tmp/tensorRNN/log/logistic/05-09-17-19-31-50/test_err.npy\",err_mat)"
   ]
  },
  {
   "cell_type": "code",
   "execution_count": 78,
   "metadata": {
    "collapsed": false
   },
   "outputs": [
    {
     "ename": "AttributeError",
     "evalue": "'list' object has no attribute 'legend'",
     "output_type": "error",
     "traceback": [
      "\u001b[1;31m---------------------------------------------------------------------------\u001b[0m",
      "\u001b[1;31mAttributeError\u001b[0m                            Traceback (most recent call last)",
      "\u001b[1;32m<ipython-input-78-4097e066a6a5>\u001b[0m in \u001b[0;36m<module>\u001b[1;34m()\u001b[0m\n\u001b[0;32m      6\u001b[0m \u001b[0mplt\u001b[0m\u001b[1;33m.\u001b[0m\u001b[0mylabel\u001b[0m\u001b[1;33m(\u001b[0m\u001b[1;34m'rmse'\u001b[0m\u001b[1;33m)\u001b[0m\u001b[1;33m\u001b[0m\u001b[0m\n\u001b[0;32m      7\u001b[0m \u001b[1;31m# Now add the legend with some customizations.\u001b[0m\u001b[1;33m\u001b[0m\u001b[1;33m\u001b[0m\u001b[0m\n\u001b[1;32m----> 8\u001b[1;33m \u001b[0mlegend\u001b[0m \u001b[1;33m=\u001b[0m \u001b[0max\u001b[0m\u001b[1;33m.\u001b[0m\u001b[0mlegend\u001b[0m\u001b[1;33m(\u001b[0m\u001b[0mloc\u001b[0m\u001b[1;33m=\u001b[0m\u001b[1;34m'upper center'\u001b[0m\u001b[1;33m,\u001b[0m \u001b[0mshadow\u001b[0m\u001b[1;33m=\u001b[0m\u001b[0mTrue\u001b[0m\u001b[1;33m)\u001b[0m\u001b[1;33m\u001b[0m\u001b[0m\n\u001b[0m\u001b[0;32m      9\u001b[0m \u001b[1;33m\u001b[0m\u001b[0m\n\u001b[0;32m     10\u001b[0m \u001b[1;31m# The frame is matplotlib.patches.Rectangle instance surrounding the legend.\u001b[0m\u001b[1;33m\u001b[0m\u001b[1;33m\u001b[0m\u001b[0m\n",
      "\u001b[1;31mAttributeError\u001b[0m: 'list' object has no attribute 'legend'"
     ]
    },
    {
     "data": {
      "image/png": "[encoded data removed]",
      "text/plain": [
       "<matplotlib.figure.Figure at 0x7f972e31c850>"
      ]
     },
     "metadata": {},
     "output_type": "display_data"
    }
   ],
   "source": [
    "### plot the error\n",
    "%matplotlib inline\n",
    "import matplotlib.pyplot as plt\n",
    "ax = plt.plot(err_mat, label=['rnn','lstm','trnn'])\n",
    "plt.xlabel('time step')\n",
    "plt.ylabel('rmse')\n",
    "# Now add the legend with some customizations.\n",
    "legend = ax.legend(loc='upper center', shadow=True)\n",
    "\n",
    "# The frame is matplotlib.patches.Rectangle instance surrounding the legend.\n",
    "frame = legend.get_frame()\n",
    "frame.set_facecolor('0.90')\n",
    "\n",
    "# Set the fontsize\n",
    "for label in legend.get_texts():\n",
    "    label.set_fontsize('large')\n",
    "\n",
    "for label in legend.get_lines():\n",
    "    label.set_linewidth(1.5)  # the legend line width\n",
    "plt.show()\n"
   ]
  },
  {
   "cell_type": "markdown",
   "metadata": {},
   "source": [
    "### hyper-parameter tuning for lstm"
   ]
  },
  {
   "cell_type": "code",
   "execution_count": null,
   "metadata": {
    "collapsed": false
   },
   "outputs": [],
   "source": [
    "import re\n",
    "import numpy as np\n",
    "model = \"lstm\"\n",
    "err_list = []\n",
    "hz_list = []\n",
    "lr_list = []\n",
    "\n",
    "        \n",
    "for i in range(10):\n",
    "    data_path = \"/home/roseyu/Python/log/lorenz/basic_lstm_\"+str(i)\n",
    "    file_name = \"config_error.out\"\n",
    "    \n",
    "    try:\n",
    "        with open(data_path+\"/\"+file_name,'rb') as fstream:\n",
    "            #for line in fstream:\n",
    "                #print(line)\n",
    "            config = read_config(fstream)\n",
    "            print config\n",
    "            lr_list.append(config['learning_rate'])\n",
    "            hz_list.append(config['hidden_size'])\n",
    "            err_list.append(config['test_error'])\n",
    "    except IOError:\n",
    "        'no file'\n"
   ]
  },
  {
   "cell_type": "code",
   "execution_count": null,
   "metadata": {
    "collapsed": false
   },
   "outputs": [],
   "source": [
    "%matplotlib inline\n",
    "import matplotlib.pyplot as plt\n",
    "\n",
    "lr = np.asarray(lr_list)\n",
    "hz = np.asarray(hz_list)\n",
    "err = np.asarray(err_list)\n",
    "\n",
    "order = np.argsort(lr)\n",
    "lr = lr[order]\n",
    "err = err[order]\n",
    "hz = hz[order]\n",
    "\n",
    "plt.plot(lr[hz==128], err[hz==128])\n",
    "plt.plot(lr[hz==256], err[hz==256])\n",
    "plt.plot(lr[hz==64], err[hz==64])\n",
    "\n",
    "print err"
   ]
  }
 ],
 "metadata": {
  "kernelspec": {
   "display_name": "Python 2",
   "language": "python",
   "name": "python2"
  },
  "language_info": {
   "codemirror_mode": {
    "name": "ipython",
    "version": 2
   },
   "file_extension": ".py",
   "mimetype": "text/x-python",
   "name": "python",
   "nbconvert_exporter": "python",
   "pygments_lexer": "ipython2",
   "version": "2.7.6"
  }
 },
 "nbformat": 4,
 "nbformat_minor": 0
}
