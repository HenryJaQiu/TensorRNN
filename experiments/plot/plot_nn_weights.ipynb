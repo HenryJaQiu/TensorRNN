{
 "cells": [
  {
   "cell_type": "markdown",
   "metadata": {},
   "source": [
    "### actual prediction sequence"
   ]
  },
  {
   "cell_type": "code",
   "execution_count": null,
   "metadata": {
    "collapsed": false
   },
   "outputs": [],
   "source": [
    "import numpy as np\n",
    "start_time =\"05-08-17-18-57-49\" #\"05-03-17-19-06-14\"#\"05-02-17-13-55-40\"\n",
    "exps=[\"logistic\"]\n",
    "#models = [\"basic_rnn\", \"basic_lstm\", \"matrix_rnn\", \"tensor_rnn\", \"tensor_rnn_einsum\"]\n",
    "models=[\"basic_lstm\",\"tensor_rnn_einsum\"]\n",
    "\n",
    "preds = []\n",
    "for exp in exps:\n",
    "    for model in models:\n",
    "        data_path = \"/tmp/tensorRNN/log/\"+exp+\"/\"+start_time+\"/\"+model\n",
    "        file_name = \"predict.npy\"\n",
    "        print(data_path+\"/\"+file_name)\n",
    "        try:\n",
    "            pred = np.load(data_path+\"/\"+file_name) \n",
    "            preds.append(np.asarray(pred))\n",
    "        except IOError:\n",
    "            'no file'    \n",
    "print(np.shape(pred))\n"
   ]
  },
  {
   "cell_type": "code",
   "execution_count": null,
   "metadata": {
    "collapsed": false
   },
   "outputs": [],
   "source": [
    "pred_lstm = preds[0]\n",
    "pred_trnn = preds[1]\n",
    "import pandas as pd\n",
    "%matplotlib inline\n",
    "import matplotlib.pyplot as plt\n",
    "fig = plt.figure(figsize=(12, 2)) #(9*16, width=3.5)\n",
    "\n",
    "y_true, y_pred = pred_lstm\n",
    "y_true = y_true[:100]\n",
    "y_pred = y_pred[:100]\n",
    "t = np.arange(0,len(y_true))\n",
    "#plt.plot(t,y_pred,'r')\n",
    "\n",
    "plt.subplot(1,4,1)\n",
    "plt.plot(t,y_true,'b')\n",
    "\n",
    "\n",
    "plt.subplot(1,4,2)\n",
    "plt.plot(t,y_true,'r')\n",
    "\n",
    "\n",
    "y_true, y_pred = pred_trnn\n",
    "y_true = y_true[:100]\n",
    "y_pred = y_pred[:100]\n",
    "plt.subplot(1,4,3)\n",
    "plt.plot(t,y_true,'b')\n",
    "\n",
    "plt.subplot(1,4,4)\n",
    "plt.plot(t,y_true,'r')"
   ]
  },
  {
   "cell_type": "markdown",
   "metadata": {},
   "source": [
    "### version 2 logistic"
   ]
  },
  {
   "cell_type": "code",
   "execution_count": null,
   "metadata": {
    "collapsed": false
   },
   "outputs": [],
   "source": [
    "def gen_logistic_series(x0, num_steps, num_freq):\n",
    "    alpha = 4.0\n",
    "    x = np.ndarray((num_steps,1) )\n",
    "    x[0]  = x0\n",
    "    \n",
    "    xx = np.ndarray((num_steps//num_freq,1))\n",
    "    f = lambda  x ,t: alpha* x[t] * (1.0 - x[t]) \n",
    "    j = 0\n",
    "    for t in range(num_steps-1):\n",
    "        if t%num_freq ==0:\n",
    "            xx[j]  = x[t]\n",
    "            j += 1\n",
    "        x[t+1] = f(x,t)\n",
    "    logistic_series = xx\n",
    "    return logistic_series\n",
    "\n",
    "\n",
    "def gen_logistic_dataset(file_name = \"logistic.pkl\"):\n",
    "    \"\"\"generate set of chaotic time series with randomly selected initial\"\"\"\n",
    "    num_samples = int(1e2)\n",
    "    num_freq = int(1)\n",
    "    num_steps = int(1e2)*num_freq\n",
    "    \n",
    "    init_range = np.random.uniform(0.0,1.0,(num_samples,1))\n",
    "   \n",
    "    logistic_series_mat = np.ndarray((num_samples, num_steps//num_freq, 1))\n",
    "\n",
    "    for i in range(num_samples):\n",
    "        x0 = init_range[i,:]\n",
    "        series = gen_logistic_series(x0, num_steps, num_freq )\n",
    "        logistic_series_mat[i,:,:] = series\n",
    "    return logistic_series_mat\n",
    "\n",
    "data = gen_logistic_dataset()\n",
    "print(\"data_shape:\"), np.shape(data)\n",
    "#pickle.dump(data,open(\"/home/roseyu/data/tensorRNN/logistic.pkl\",\"wb\"))\n",
    "\n",
    "    #    pickle.dump(x_mat,open(file_name,\"wb\"))"
   ]
  },
  {
   "cell_type": "code",
   "execution_count": null,
   "metadata": {
    "collapsed": false
   },
   "outputs": [],
   "source": [
    "%matplotlib inline\n",
    "import matplotlib as mpl\n",
    "\n",
    "params = {\n",
    "   'axes.labelsize': 12,\n",
    "   'text.fontsize': 12,\n",
    "   'legend.fontsize': 12,\n",
    "   'xtick.labelsize': 12,\n",
    "   'ytick.labelsize': 12,\n",
    "   'text.usetex': False,\n",
    "   'figure.figsize': [2, 2]\n",
    "   }\n",
    "mpl.rcParams.update(params)\n",
    "\n",
    "\n",
    "fig = plt.figure(figsize=(5.25,3.5))\n",
    "ax = fig.gca()\n",
    "\n",
    "N = 10\n",
    "len_ts = 20\n",
    "idxs = np.random.choice(range(np.shape(data)[0]), N)\n",
    "\n",
    "\n",
    "for i in idxs:\n",
    "    ax.plot(data[i,:len_ts],'b')\n",
    "    ax.scatter(np.arange(len_ts), data[i,:len_ts], c='r',s = 50, alpha=0.5)\n",
    "\n",
    "ax.set_xlim((0,N+1))\n",
    "ax.set_ylim((-0.1,1.1))\n",
    "\n",
    "ax.set_xlabel(\"Time\")\n",
    "ax.set_ylabel(\"Value\")\n",
    "fig.savefig('/home/roseyu/logistic.pdf', transparent=True)"
   ]
  },
  {
   "cell_type": "markdown",
   "metadata": {},
   "source": [
    "### version 2 lorenz "
   ]
  },
  {
   "cell_type": "code",
   "execution_count": null,
   "metadata": {
    "collapsed": false,
    "scrolled": false
   },
   "outputs": [],
   "source": [
    "%matplotlib inline\n",
    "import matplotlib as mpl\n",
    "import seaborn as sns\n",
    "import matplotlib.pyplot as plt\n",
    "from mpl_toolkits.mplot3d import Axes3D\n",
    "\n",
    "params = {\n",
    "   'axes.labelsize': 12,\n",
    "   'text.fontsize': 12,\n",
    "   'legend.fontsize': 12,\n",
    "   'xtick.labelsize': 12,\n",
    "   'ytick.labelsize': 12,\n",
    "   'text.usetex': False,\n",
    "   'figure.figsize': [4.5, 4.5]\n",
    "   }\n",
    "mpl.rcParams.update(params)\n",
    "\n",
    "print(\"data_shape:\"), np.shape(data_mat)\n",
    "N = 10\n",
    "# xs = data_mat[0:N,:,0]\n",
    "# ys = data_mat[0:N,:,1]\n",
    "# zs = data_mat[0:N,:,2]\n",
    "fig = plt.figure(figsize=(10,8))\n",
    "ax = fig.gca(projection='3d')\n",
    "\n",
    "def mm(x):\n",
    "    return np.min(x)-10, np.max(x)+10\n",
    "\n",
    "idxs = np.random.choice(range(data_mat.shape[0]), N)\n",
    "print(idxs)\n",
    "T=50\n",
    "for i in idxs:\n",
    "    print(\"xyz0:\",data_mat[i,0])\n",
    "    ax.plot(data_mat[i,:T,0], data_mat[i,:T,1], data_mat[i,:T,2], 'b')\n",
    "    ax.scatter(data_mat[i,:T,0], data_mat[i,:T,1], data_mat[i,:T,2], c='r', s=50)\n",
    "\n",
    "ax.set_xlabel(\"X\")\n",
    "ax.set_ylabel(\"Y\")\n",
    "ax.set_zlabel(\"Z\")\n",
    "ax.set_xlim(*mm(xs))\n",
    "ax.set_ylim(*mm(ys))\n",
    "ax.set_zlim(*mm(zs))\n",
    "fig.savefig('/home/roseyu/lorenz.pdf', transparent=True)"
   ]
  },
  {
   "cell_type": "markdown",
   "metadata": {},
   "source": [
    "### test error comparison  "
   ]
  },
  {
   "cell_type": "code",
   "execution_count": 89,
   "metadata": {
    "collapsed": false
   },
   "outputs": [
    {
     "data": {
      "text/plain": [
       "<matplotlib.legend.Legend at 0x7fe69e6ac7d0>"
      ]
     },
     "execution_count": 89,
     "metadata": {},
     "output_type": "execute_result"
    },
    {
     "data": {
      "image/png": "[encoded data removed]",
      "text/plain": [
       "<matplotlib.figure.Figure at 0x7fe69c445f50>"
      ]
     },
     "metadata": {},
     "output_type": "display_data"
    },
    {
     "data": {
      "image/png": "[encoded data removed]",
      "text/plain": [
       "<matplotlib.figure.Figure at 0x7fe6656d5fd0>"
      ]
     },
     "metadata": {},
     "output_type": "display_data"
    }
   ],
   "source": [
    "lorenz_mat = np.load(\"/tmp/tensorRNN/log/lorenz/05-09-17-19-31-50/test_err.npy\")\n",
    "fig = plt.figure(figsize=(5.25,3.5))\n",
    "ax = fig.gca()\n",
    "ax.plot(lorenz_mat)\n",
    "ax.set_xlabel(\"Time Step\")\n",
    "ax.set_ylabel(\"RMSE\")\n",
    "plt.setp(plt.gca(), 'xticklabels', [str(x) for x in np.arange(5,45,5)])\n",
    "plt.legend(('RNN', 'LSTM', 'TRNN'),\n",
    "           'upper center', shadow=True, fancybox=True)\n",
    "\n",
    "lorenz_mat = np.load(\"/tmp/tensorRNN/log/logistic/05-09-17-19-31-50/test_err.npy\")\n",
    "fig = plt.figure(figsize=(5.25,3.5))\n",
    "ax = fig.gca()\n",
    "ax.plot(lorenz_mat)\n",
    "ax.set_xlabel(\"Time Step\")\n",
    "ax.set_ylabel(\"RMSE\")\n",
    "plt.setp(plt.gca(), 'xticklabels', [str(x) for x in np.arange(5,45,5)])\n",
    "plt.legend(('RNN', 'LSTM', 'TRNN'),\n",
    "           'upper center', shadow=True, fancybox=True)"
   ]
  },
  {
   "cell_type": "markdown",
   "metadata": {},
   "source": [
    "### projection of the weight vector"
   ]
  },
  {
   "cell_type": "code",
   "execution_count": null,
   "metadata": {
    "collapsed": false
   },
   "outputs": [],
   "source": [
    "import tensorflow as tf\n",
    "from tensorflow.python.framework import ops\n",
    "sess = tf.Session()\n",
    "time_stamp =\"05-08-17-19-02-03\"\n",
    "file_path = \"/tmp/tensorRNN/log/logistic/\"+time_stamp+\"/tensor_rnn_einsum/\"\n",
    "\n",
    "meta_file = \"model.ckpt-307800.meta\"\n",
    "model_file = \"model.ckpt-307800\"\n",
    "new_saver = tf.train.import_meta_graph(file_path+meta_file)\n",
    "#print( tf.train.latest_checkpoint('./'))\n",
    "what=new_saver.restore(sess, file_path+model_file)\n",
    "#print(what)\n",
    "all_vars = tf.get_collection(ops.GraphKeys.GLOBAL_VARIABLES)\n",
    "print(all_vars)\n",
    "\n",
    "w_h1_name = \"Model/tensor_rnn/multi_rnn_cell/cell_0/tensor_rnn_cell/tensor_network_tt/weights_h:0\"\n",
    "w_h2_name = \"Model/tensor_rnn/multi_rnn_cell/cell_1/tensor_rnn_cell/tensor_network_tt/weights_h:0\"\n",
    "for v in all_vars:\n",
    "    if v.name==w_h1_name:\n",
    "        w_h1 = sess.run(v)\n",
    "    if v.name==w_h2_name:\n",
    "        w_h2 = sess.run(v)\n",
    "    #     print(v_)"
   ]
  },
  {
   "cell_type": "code",
   "execution_count": null,
   "metadata": {
    "collapsed": false
   },
   "outputs": [],
   "source": [
    "# visualization the transition weights (auto-correlation)\n",
    "import numpy as np\n",
    "state_size = output_size = 64\n",
    "num_lags = 3\n",
    "num_orders = 2\n",
    "rank_vals = [1]\n",
    "\n",
    "total_state_size = (state_size * num_lags + 1 )\n",
    "print(\"total_state_size:\", total_state_size)\n",
    "mat_dims = np.ones((num_orders,)) * total_state_size\n",
    "mat_ranks = np.concatenate(([1], rank_vals, [output_size]))\n",
    "mat_dims = np.ones((num_orders,)) * total_state_size\n",
    "\n",
    "mat_ps = np.cumsum(np.concatenate(([0], mat_ranks[:-1] * mat_dims * mat_ranks[1:])),dtype=np.int32)\n",
    "mat_size = mat_ps[-1]\n",
    "Ws = []\n",
    "\n",
    "for i in range(0, num_orders ):\n",
    "    mat_core = w_h1[mat_ps[i]: mat_ps[i + 1]]\n",
    "    mat_core = np.reshape(mat_core, [mat_ranks[i], total_state_size, mat_ranks[i + 1]])\n",
    "    Ws.append(mat_core)\n",
    "print(len(Ws)) # a series of tensor-train components "
   ]
  },
  {
   "cell_type": "code",
   "execution_count": null,
   "metadata": {
    "collapsed": false
   },
   "outputs": [],
   "source": [
    "%matplotlib inline \n",
    "print Ws[0].shape, Ws[1].shape\n",
    "\n",
    "W0 = Ws[1]\n",
    "W0_t = W0[:,0:192,:]\n",
    "b0 = W0[:,-1,:]\n",
    "W0_t = np.reshape(W0_t,[num_lags,state_size, np.shape(W0)[-1]])\n",
    "for l in range(num_lags):\n",
    "    plt.imshow(W0_t[l,:,:], cmap='hot', interpolation='nearest')\n",
    "    plt.show()\n"
   ]
  },
  {
   "cell_type": "code",
   "execution_count": null,
   "metadata": {
    "collapsed": false
   },
   "outputs": [],
   "source": [
    "W0 = Ws[0]\n",
    "W0 =np.squeeze(W0)\n",
    "plt.plot(W0)\n",
    "plt.axvline(x=64, c='r')\n",
    "plt.axvline(x=128,c='r')"
   ]
  },
  {
   "cell_type": "code",
   "execution_count": null,
   "metadata": {
    "collapsed": false
   },
   "outputs": [],
   "source": [
    "for v in all_vars:\n",
    "    print v\n",
    "print w_h1.shape\n",
    "print w_h2.shape"
   ]
  }
 ],
 "metadata": {
  "kernelspec": {
   "display_name": "Python 2",
   "language": "python",
   "name": "python2"
  },
  "language_info": {
   "codemirror_mode": {
    "name": "ipython",
    "version": 2
   },
   "file_extension": ".py",
   "mimetype": "text/x-python",
   "name": "python",
   "nbconvert_exporter": "python",
   "pygments_lexer": "ipython2",
   "version": "2.7.6"
  }
 },
 "nbformat": 4,
 "nbformat_minor": 0
}
