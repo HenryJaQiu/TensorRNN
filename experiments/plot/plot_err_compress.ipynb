{
 "cells": [
  {
   "cell_type": "code",
   "execution_count": null,
   "metadata": {
    "collapsed": true
   },
   "outputs": [],
   "source": [
    "import sys, os\n",
    "sys.path.append(os.path.abspath('../utils/'))\n",
    "\n",
    "from train_utils import *\n",
    "import numpy as np\n",
    "layers = []\n",
    "layer = {}\n",
    "layer['inp_modes'] = np.array([4, 7, 4, 7], dtype='int32')\n",
    "layer['out_modes'] = np.array([5, 5, 8, 4], dtype='int32')\n",
    "layers.append(layer)\n",
    "\n",
    "layer['inp_modes'] = layer['out_modes']\n",
    "layer['out_modes'] = np.array([4, 4, 4, 4], dtype='int32')\n",
    "layers.append(layer)\n",
    "\n",
    "\n",
    "# load test error results\n",
    "path_name = '/home/roseyu/Python/TensorCompress/experiments/'\n",
    "with open(path_name + 'mnist/2-layer-tt/results/res_tt', 'r') as f:\n",
    "    line = f.read()\n",
    "    tokens = line.strip().split()\n",
    "tt_err = np.array([float(x) for x in tokens])\n",
    "\n",
    "\n",
    "with open(path_name + 'mnist/2-layer-tucker/results/res_tucker', 'r') as f:\n",
    "    line = f.read()\n",
    "    tokens = line.strip().split()\n",
    "tucker_err = np.array([float(x) for x in tokens])\n",
    "\n",
    "with open(path_name + 'mnist/2-layer-cp/results/res_cp', 'r') as f:\n",
    "    line = f.read()\n",
    "    tokens = line.strip().split()\n",
    "cp_err = np.array([float(x) for x in tokens])\n",
    "cp_err = np.delete(cp_err,5)\n",
    "\n",
    "\n",
    "with open(path_name + 'mnist/2-layer-mf/results/res_mf', 'r') as f:\n",
    "    line = f.read()\n",
    "    tokens = line.strip().split()\n",
    "mf_err = np.array([float(x) for x in tokens])\n",
    "\n",
    "tt_compres = np.zeros((5,))\n",
    "tucker_compres = np.zeros((5,))\n",
    "cp_compres = np.zeros((5,))\n",
    "mf_compres = np.zeros((5,))\n",
    "i = 0\n",
    "for rank_val in range(1,6):\n",
    "    tt_layer_ranks = [np.hstack(([1],np.ones(3, dtype='int32')*rank_val,[1])),\n",
    "                              np.hstack(([1],np.ones(3, dtype='int32')*rank_val,[1]))]\n",
    "    tt_compres[i] = compres_ratio_tt(layers, tt_layer_ranks)\n",
    "\n",
    "    tucker_layer_ranks = [np.ones(4, dtype='int32')*rank_val, np.ones(4, dtype='int32')*rank_val]\n",
    "    tucker_compres[i] = compres_ratio_tucker(layers, tucker_layer_ranks)\n",
    "    \n",
    "    # change the last point of compression due to slow decay\n",
    "    if rank_val ==5:\n",
    "        rank_val_cp = 15\n",
    "    else:\n",
    "        rank_val_cp = rank_val\n",
    "    \n",
    "    cp_layer_ranks = [rank_val_cp, rank_val_cp]\n",
    "    cp_compres[i] = compres_ratio_cp(layers, cp_layer_ranks)\n",
    "    \n",
    "    mf_layer_ranks = [rank_val, rank_val]\n",
    "    mf_compres[i] = compres_ratio_mf(layers, mf_layer_ranks)\n",
    "    \n",
    "    i = i+1\n",
    "print tt_compres, 1-tt_err\n",
    "print tucker_compres, 1-tucker_err\n",
    "print cp_compres, 1-cp_err\n",
    "print mf_compres, 1-mf_err"
   ]
  },
  {
   "cell_type": "markdown",
   "metadata": {},
   "source": [
    "### publication quality configuration"
   ]
  },
  {
   "cell_type": "code",
   "execution_count": null,
   "metadata": {
    "collapsed": true
   },
   "outputs": [],
   "source": [
    "from matplotlib import rcParams\n",
    "params = {\n",
    "   'axes.labelsize': 20,\n",
    "   'text.fontsize': 20,\n",
    "   'legend.fontsize': 20,\n",
    "   'xtick.labelsize': 20,\n",
    "   'ytick.labelsize': 20,\n",
    "   'text.usetex': False,\n",
    "   'figure.figsize': [4.5, 4.5],\n",
    "   'lines.linewidth': 3.0,\n",
    "   'lines.markersize' : 10\n",
    "   }\n",
    "rcParams.update(params)\n",
    "import brewer2mpl\n",
    "\n",
    "# brewer2mpl.get_map args: set name  set type  number of colors\n",
    "bmap = brewer2mpl.get_map('Set2', 'qualitative', 7)\n",
    "colors = bmap.mpl_colors"
   ]
  },
  {
   "cell_type": "code",
   "execution_count": null,
   "metadata": {
    "collapsed": true
   },
   "outputs": [],
   "source": [
    "%matplotlib inline\n",
    "import matplotlib\n",
    "import matplotlib.pyplot as plt\n",
    "fig = plt.figure(1, figsize=(11, 8.5), dpi=600)\n",
    "matplotlib.rcParams.update({'font.size': 20})\n",
    "plt.plot(tt_compres, 1.0-tt_err, 'r*--', tucker_compres, 1.0-tucker_err, 'bo-', \n",
    "         cp_compres, 1.0-cp_err, 'g+:', mf_compres, 1.0-mf_err, 'mD-.')\n",
    "plt.legend(['Tensor-Train', 'Tucker', 'CP','Matrix'])\n",
    "plt.xlabel('Compression Rate')\n",
    "plt.ylabel('Test Accuracy')\n",
    "plt.savefig('acc_ratio_cmp.pdf', format='pdf')"
   ]
  },
  {
   "cell_type": "markdown",
   "metadata": {},
   "source": [
    "## Plot LeNet300 with fine-grained compression ratio"
   ]
  },
  {
   "cell_type": "code",
   "execution_count": null,
   "metadata": {
    "collapsed": true
   },
   "outputs": [],
   "source": [
    "# load test error results\n",
    "path_name = '/home/roseyu/Python/TensorCompress/experiments/'\n",
    "mf_compres= []\n",
    "mf_prec = []\n",
    "with open(path_name + 'mnist/2-layer-mf/results/res_mf_LeNet300', 'r') as f:\n",
    "    line = f.read()\n",
    "    tokens = line.strip().split(\"\\t\")\n",
    "    for token in tokens:\n",
    "        rate, prec = token.split(\":\")\n",
    "        mf_compres.append(rate)\n",
    "        mf_prec.append(prec)\n",
    "        \n",
    "tt_compres= []\n",
    "tt_prec = []\n",
    "with open(path_name + 'mnist/2-layer-tt/results/res_tt_LeNet300', 'r') as f:\n",
    "    line = f.read()\n",
    "    tokens = line.strip().split(\"\\t\")\n",
    "    for token in tokens:\n",
    "        rate, prec = token.split(\":\")\n",
    "        tt_compres.append(rate)\n",
    "        tt_prec.append(prec)"
   ]
  },
  {
   "cell_type": "code",
   "execution_count": null,
   "metadata": {
    "collapsed": true
   },
   "outputs": [],
   "source": [
    "%matplotlib inline\n",
    "import matplotlib\n",
    "import matplotlib.pyplot as plt\n",
    "fig = plt.figure(1, figsize=(11, 8.5), dpi=600)\n",
    "matplotlib.rcParams.update({'font.size': 20})\n",
    "plt.plot( tt_compres, tt_prec, 'r*--', mf_compres, mf_prec, 'mD-.')\n",
    "plt.legend(['Tensor-Train','Matrix'])\n",
    "plt.xlabel('Compression Rate')\n",
    "plt.ylabel('Test Accuracy')\n",
    "plt.savefig('acc_ratio_fine_grained.pdf', format='pdf')"
   ]
  }
 ],
 "metadata": {
  "kernelspec": {
   "display_name": "Python 2",
   "language": "python",
   "name": "python2"
  },
  "language_info": {
   "codemirror_mode": {
    "name": "ipython",
    "version": 2
   },
   "file_extension": ".py",
   "mimetype": "text/x-python",
   "name": "python",
   "nbconvert_exporter": "python",
   "pygments_lexer": "ipython2",
   "version": "2.7.6"
  }
 },
 "nbformat": 4,
 "nbformat_minor": 0
}
