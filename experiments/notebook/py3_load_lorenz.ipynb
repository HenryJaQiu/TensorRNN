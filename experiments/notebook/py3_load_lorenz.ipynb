{
 "cells": [
  {
   "cell_type": "markdown",
   "metadata": {},
   "source": [
    "### load predictions from log"
   ]
  },
  {
   "cell_type": "code",
   "execution_count": 5,
   "metadata": {},
   "outputs": [
    {
     "name": "stderr",
     "output_type": "stream",
     "text": [
      "/home/roseyu/anaconda3/lib/python3.6/site-packages/matplotlib/__init__.py:913: UserWarning: text.fontsize is deprecated and replaced with font.size; please use the latter.\n",
      "  warnings.warn(self.msg_depr % (key, alt_key))\n"
     ]
    },
    {
     "data": {
      "text/plain": [
       "<matplotlib.figure.Figure at 0x7f3eec6652e8>"
      ]
     },
     "metadata": {},
     "output_type": "display_data"
    }
   ],
   "source": [
    "# plotting configuration\n",
    "%matplotlib inline\n",
    "import matplotlib.pyplot as plt\n",
    "import matplotlib as mpl\n",
    "import seaborn as sns\n",
    "import matplotlib.pyplot as plt\n",
    "from mpl_toolkits.mplot3d import Axes3D\n",
    "\n",
    "params = {\n",
    "   'axes.labelsize': 12,\n",
    "   'text.fontsize': 12,\n",
    "   'legend.fontsize': 12,\n",
    "   'xtick.labelsize': 12,\n",
    "   'ytick.labelsize': 12,\n",
    "   'text.usetex': False,\n",
    "   }\n",
    "mpl.rcParams.update(params)\n",
    "sns.set_style(\"whitegrid\")\n",
    "sns.despine()"
   ]
  },
  {
   "cell_type": "code",
   "execution_count": 10,
   "metadata": {
    "collapsed": true
   },
   "outputs": [],
   "source": [
    "#06-15-17-17-24-40\n",
    "#05-17-17-16-17-44\n",
    "#06-15-17-17-24-40\n",
    "#08-22-17-00-24-10\n",
    "#08-30-17-23-53-05\n",
    "time_stamp =\"09-18-17-11-56-02\"\n",
    "exp='lorenz'\n",
    "models =[\"LSTM\"] #phased_lstm\n",
    "hz_list= [128]\n",
    "lr_list =[2]\n",
    "steps =  [20, 40, 60, 80, 100]\n",
    "\n",
    "\n",
    "import numpy as np\n",
    "def read_config(fstream):\n",
    "    d = {}\n",
    "    for line in fstream:\n",
    "        line.rstrip()\n",
    "        tokens = line.split('\\t')\n",
    "        for token in tokens:\n",
    "            try:\n",
    "                key, val = token.split(\":\")\n",
    "                d[key] = float(val)                \n",
    "            except ValueError:\n",
    "                'error prop'\n",
    "    return d\n",
    "def load_log(st, model):\n",
    "    data_path = \"/var/tmp/tensorRNN/log/\"+exp+\"/\"+time_stamp+\"/\"+model+\"/\"+\"st_\"+str(st)+\"/\"\n",
    "    f_pred= \"predict.npy\"\n",
    "    f_err = \"config.out\"\n",
    "    pred =  np.load(data_path+f_pred )\n",
    "    with open(data_path+\"/\"+f_err,'r') as fstream:\n",
    "        config = read_config(fstream)\n",
    "    return config, pred\n",
    "\n",
    "def reshape_pred(y):\n",
    "    y = np.squeeze(y)\n",
    "    n_dim = np.shape(y)[-1]\n",
    "    y = np.reshape(y, [-1, n_dim])\n",
    "#     print('y shape', np.shape(y))\n",
    "    return y\n",
    "\n",
    "def get_best_pred(model):\n",
    "    err_best = 1e6\n",
    "    i=0\n",
    "    for model in models:\n",
    "        j=0\n",
    "        for st in steps:\n",
    "#             print('load model {:s}, hidden size {:d}, learning rate 1e-{:d}'.format(model, hz, lr))\n",
    "            try:\n",
    "                config, pred = load_log(st, model)\n",
    "    #             print('train error:',config['train_error'],'valid error:',config['valid_error'],'test err:',config['test_error'])\n",
    "                err =  config['test_error']\n",
    "            except FileNotFoundError:\n",
    "                'log does not exits'\n",
    "                err = 1e3\n",
    "            # save the best results so far\n",
    "            if err < err_best:\n",
    "                err_best = err\n",
    "                pred_best = pred     \n",
    "            j+=1\n",
    "        i+=1\n",
    "    y_true, y_pred = pred_best\n",
    "    y_true = reshape_pred(y_true)\n",
    "    y_pred = reshape_pred(y_pred)\n",
    "    return (y_true, y_pred)\n",
    "\n",
    "\n",
    "\n",
    "pred_rnn = get_best_pred('RNN')\n",
    "pred_lstm = get_best_pred('LSTM')\n",
    "pred_mrnn = get_best_pred('MRNN')\n"
   ]
  },
  {
   "cell_type": "markdown",
   "metadata": {},
   "source": [
    "### visualize the Lorenz prediction"
   ]
  },
  {
   "cell_type": "code",
   "execution_count": 3,
   "metadata": {},
   "outputs": [
    {
     "ename": "FileNotFoundError",
     "evalue": "[Errno 2] No such file or directory: '/tmp/tensorRNN/log/lorenz/10-17-17-15-23-46/TALSTM/hz-8/ts-12/predict.npy'",
     "output_type": "error",
     "traceback": [
      "\u001b[0;31m---------------------------------------------------------------------------\u001b[0m",
      "\u001b[0;31mFileNotFoundError\u001b[0m                         Traceback (most recent call last)",
      "\u001b[0;32m<ipython-input-3-f48c6e58abd6>\u001b[0m in \u001b[0;36m<module>\u001b[0;34m()\u001b[0m\n\u001b[1;32m      5\u001b[0m \u001b[0;34m\u001b[0m\u001b[0m\n\u001b[1;32m      6\u001b[0m \u001b[0mdata_path\u001b[0m\u001b[0;34m=\u001b[0m \u001b[0;34m\"/tmp/tensorRNN/log/lorenz/10-17-17-15-23-46/TALSTM/hz-8/ts-12/\"\u001b[0m\u001b[0;34m\u001b[0m\u001b[0m\n\u001b[0;32m----> 7\u001b[0;31m \u001b[0mtrue\u001b[0m\u001b[0;34m,\u001b[0m \u001b[0mpred\u001b[0m \u001b[0;34m=\u001b[0m \u001b[0mnp\u001b[0m\u001b[0;34m.\u001b[0m\u001b[0mload\u001b[0m\u001b[0;34m(\u001b[0m\u001b[0mdata_path\u001b[0m\u001b[0;34m+\u001b[0m\u001b[0;34m'predict.npy'\u001b[0m\u001b[0;34m)\u001b[0m\u001b[0;34m\u001b[0m\u001b[0m\n\u001b[0m\u001b[1;32m      8\u001b[0m \u001b[0;31m#remove the EOS\u001b[0m\u001b[0;34m\u001b[0m\u001b[0;34m\u001b[0m\u001b[0m\n\u001b[1;32m      9\u001b[0m \u001b[0;31m# print(true[0,40:50,:])\u001b[0m\u001b[0;34m\u001b[0m\u001b[0;34m\u001b[0m\u001b[0m\n",
      "\u001b[0;32m~/anaconda3/lib/python3.6/site-packages/numpy/lib/npyio.py\u001b[0m in \u001b[0;36mload\u001b[0;34m(file, mmap_mode, allow_pickle, fix_imports, encoding)\u001b[0m\n\u001b[1;32m    368\u001b[0m     \u001b[0mown_fid\u001b[0m \u001b[0;34m=\u001b[0m \u001b[0;32mFalse\u001b[0m\u001b[0;34m\u001b[0m\u001b[0m\n\u001b[1;32m    369\u001b[0m     \u001b[0;32mif\u001b[0m \u001b[0misinstance\u001b[0m\u001b[0;34m(\u001b[0m\u001b[0mfile\u001b[0m\u001b[0;34m,\u001b[0m \u001b[0mbasestring\u001b[0m\u001b[0;34m)\u001b[0m\u001b[0;34m:\u001b[0m\u001b[0;34m\u001b[0m\u001b[0m\n\u001b[0;32m--> 370\u001b[0;31m         \u001b[0mfid\u001b[0m \u001b[0;34m=\u001b[0m \u001b[0mopen\u001b[0m\u001b[0;34m(\u001b[0m\u001b[0mfile\u001b[0m\u001b[0;34m,\u001b[0m \u001b[0;34m\"rb\"\u001b[0m\u001b[0;34m)\u001b[0m\u001b[0;34m\u001b[0m\u001b[0m\n\u001b[0m\u001b[1;32m    371\u001b[0m         \u001b[0mown_fid\u001b[0m \u001b[0;34m=\u001b[0m \u001b[0;32mTrue\u001b[0m\u001b[0;34m\u001b[0m\u001b[0m\n\u001b[1;32m    372\u001b[0m     \u001b[0;32melif\u001b[0m \u001b[0mis_pathlib_path\u001b[0m\u001b[0;34m(\u001b[0m\u001b[0mfile\u001b[0m\u001b[0;34m)\u001b[0m\u001b[0;34m:\u001b[0m\u001b[0;34m\u001b[0m\u001b[0m\n",
      "\u001b[0;31mFileNotFoundError\u001b[0m: [Errno 2] No such file or directory: '/tmp/tensorRNN/log/lorenz/10-17-17-15-23-46/TALSTM/hz-8/ts-12/predict.npy'"
     ]
    }
   ],
   "source": [
    "%matplotlib inline\n",
    "import matplotlib.pyplot as plt\n",
    "from mpl_toolkits.mplot3d import Axes3D\n",
    "import numpy as np\n",
    "\n",
    "data_path= \"/tmp/tensorRNN/log/lorenz/10-17-17-15-23-46/TALSTM/hz-8/ts-12/\"\n",
    "true, pred = np.load(data_path+'predict.npy')\n",
    "#remove the EOS\n",
    "# print(true[0,40:50,:])\n",
    "# print(pred[0,40:50,:])\n",
    "true = true[:,40:60,:]\n",
    "pred = pred[:,40:60,:]\n",
    "\n",
    "def plot_sample(pred, true, sample_id):\n",
    "    fig = plt.figure()\n",
    "    ax = fig.gca(projection='3d')\n",
    "    ax.plot(true[sample_id, :,0], true[sample_id,:,1], true[sample_id, :,2], 'b')\n",
    "    ax.scatter(pred[sample_id,:,0], pred[sample_id, :,1], pred[sample_id, :,2], c='r', s=30)\n",
    "    ax.plot(pred[sample_id, :,0], pred[sample_id,:,1], pred[sample_id, :,2], 'r--')\n",
    "    ax.sca\n",
    "errs = np.ones((len(hz_list),len(ts_list)))\n",
    "i=0\n",
    "for ts in ts_list:\n",
    "    j=0\n",
    "    for model in models: \n",
    "        k=0\n",
    "        for hz in hz_list:\n",
    "            try:\n",
    "                config, pred = load_log(hz, ts*12, model)\n",
    "                print('train error:',config['train_error'],'test err:',config['test_error'])\n",
    "                errs[k,i] =  config['test_error']\n",
    "            except:\n",
    "                pass\n",
    "            k +=1\n",
    "        j +=1\n",
    "    i +=1\n",
    "tter(true[sample_id, 0,0], true[sample_id,0,1], true[sample_id, 0,2], c='k', s=50)\n",
    "\n",
    "plot_sample(pred, true,1)\n",
    "plot_sample(pred, true,3)\n",
    "plot_sample(pred, true,7)\n",
    "# np.save('../experiments/result/trnn_10_err.npy',test_vals)"
   ]
  },
  {
   "cell_type": "code",
   "execution_count": 25,
   "metadata": {},
   "outputs": [
    {
     "name": "stdout",
     "output_type": "stream",
     "text": [
      "/tmp/tensorRNN/log/lorenz/10-17-17-15-23-46/TALSTM/hz-8/ts-15/\n",
      "train error: 0.00686928 test err: 0.00691918\n",
      "/tmp/tensorRNN/log/lorenz/10-17-17-15-23-46/TALSTM/hz-16/ts-15/\n",
      "train error: 0.00541308 test err: 0.00525702\n",
      "/tmp/tensorRNN/log/lorenz/10-17-17-15-23-46/TALSTM/hz-32/ts-15/\n",
      "train error: 0.00566637 test err: 0.00524494\n",
      "/tmp/tensorRNN/log/lorenz/10-17-17-15-23-46/TALSTM/hz-8/ts-45/\n",
      "train error: 0.106662 test err: 0.109567\n",
      "/tmp/tensorRNN/log/lorenz/10-17-17-15-23-46/TALSTM/hz-16/ts-45/\n",
      "train error: 0.025335 test err: 0.022791\n",
      "/tmp/tensorRNN/log/lorenz/10-17-17-15-23-46/TALSTM/hz-32/ts-45/\n",
      "train error: 0.0216484 test err: 0.0212126\n"
     ]
    }
   ],
   "source": [
    "exp ='lorenz'\n",
    "time_stamp='10-17-17-15-23-46'\n",
    "def read_config(fstream):\n",
    "    d = {}\n",
    "    for line in fstream:\n",
    "        line.rstrip()\n",
    "        tokens = line.split('\\t')\n",
    "        for token in tokens:\n",
    "            try:\n",
    "                key, val = token.split(\":\")\n",
    "                d[key] = float(val)                \n",
    "            except ValueError:\n",
    "                'error prop'\n",
    "    return d\n",
    "def load_log(hz, ts, model):\n",
    "    f_pred= \"predict.npy\"\n",
    "    f_err = \"config.out\"\n",
    "    data_path = \"/tmp/tensorRNN/log/\"+exp+\"/\"+time_stamp+\"/\"+model+\"/\"+\"hz-\"+ str(hz)+\"/ts-\"+ str(ts) +\"/\"\n",
    " \n",
    "    try:\n",
    "        with open(data_path+f_err,'r') as fstream:\n",
    "            config = read_config(fstream)\n",
    "        print(data_path)\n",
    "        return config, pred\n",
    "    except FileNotFoundError:\n",
    "        return None, None\n",
    "    \n",
    "    \n",
    "hz_list=[8,16,32]\n",
    "ts_list = [15,45]\n",
    "models = ['TALSTM']\n",
    "errs = np.ones((len(hz_list),len(ts_list)))\n",
    "\n",
    "\n",
    "\n",
    "i=0\n",
    "for ts in ts_list:\n",
    "    j=0\n",
    "    for model in models: \n",
    "        k=0\n",
    "        for hz in hz_list:\n",
    "            try:\n",
    "                config, pred = load_log(hz, ts, model)\n",
    "                print('train error:',config['train_error'],'test err:',config['test_error'])\n",
    "                errs[k,i] =  config['test_error']\n",
    "            except:\n",
    "                pass\n",
    "            k +=1\n",
    "        j +=1\n",
    "    i +=1\n"
   ]
  },
  {
   "cell_type": "markdown",
   "metadata": {},
   "source": [
    "### Visualize with delta"
   ]
  },
  {
   "cell_type": "code",
   "execution_count": null,
   "metadata": {
    "collapsed": true
   },
   "outputs": [],
   "source": [
    "import numpy as np\n",
    "#10-01-17-18-37-00 \n",
    "\n",
    "\n",
    "%matplotlib inline\n",
    "import matplotlib.pyplot as plt\n",
    "from mpl_toolkits.mplot3d import Axes3D\n",
    "import numpy as np\n",
    "\n",
    "inp_steps = 5\n",
    "# data_path= \"/var/tmp/tensorRNN/log/lorenz/09-29-17-22-36-36/TLSTM/64-1e-3/decay\"\n",
    "data_path= \"/var/tmp/tensorRNN/log/lorenz/10-02-17-00-24-54/MLSTM/32/1e-3/\"\n",
    "true, pred = np.load(data_path+'predict.npy')\n",
    "\n",
    "\n",
    "def recover_orbit(test_outs):\n",
    "    test_outs_denorm = denormalize_colums(test_outs, stats[ntest:,])\n",
    "    start_orig = data_orig[ntest:,num_steps,:]\n",
    "    test_outs_orig = diff_2_orig(test_outs_denorm, start_orig )\n",
    "    return test_outs_orig\n",
    "\n",
    "\n",
    "def first_add(dat, init=None):\n",
    "    res = np.zeros(dat.shape)\n",
    "    if init is None:\n",
    "        res[0,:]= dat[0,:]\n",
    "    else:\n",
    "        res[0,:]= init\n",
    "    for i in range(1,dat.shape[0]):\n",
    "        res[i,:] = dat[i,:]+ res[i-1,:]\n",
    "    return res\n",
    "\n",
    "def diff_2_orig(lorenz_diff, inits=None):\n",
    "    lorenz = np.zeros(lorenz_diff.shape)\n",
    "    for i in range(lorenz_diff.shape[0]):\n",
    "        if inits is None:\n",
    "            lorenz[i,:,:]=first_add(lorenz_diff[i,:,:])\n",
    "        else:\n",
    "            lorenz[i,:,:]=first_add(lorenz_diff[i,:,:], inits[i,:])\n",
    "    return lorenz\n",
    "    \n",
    "def plot_sample(pred, true, sample_id):\n",
    "    fig = plt.figure()\n",
    "    ax = fig.gca(projection='3d')\n",
    "    ax.plot(true[sample_id, :,0], true[sample_id,:,1], true[sample_id, :,2], 'b')\n",
    "    ax.scatter(pred[sample_id,:,0], pred[sample_id, :,1], pred[sample_id, :,2], c='r', s=30)\n",
    "    ax.plot(pred[sample_id, :,0], pred[sample_id,:,1], pred[sample_id, :,2], 'r--')\n",
    "    ax.scatter(true[sample_id, 0,0], true[sample_id,0,1], true[sample_id, 0,2], c='k', s=50)\n",
    "\n",
    "    \n",
    "true = recover_orbit(true)\n",
    "pred = recover_orbit(pred)\n",
    "\n",
    "for i in range(10):\n",
    "    plot_sample(pred[:,:-2,:], true[:,:-2,:],i)"
   ]
  },
  {
   "cell_type": "markdown",
   "metadata": {},
   "source": [
    "### visualize and evaluate prediction "
   ]
  },
  {
   "cell_type": "code",
   "execution_count": 7,
   "metadata": {},
   "outputs": [
    {
     "name": "stdout",
     "output_type": "stream",
     "text": [
      "ND 0.376402641859\n",
      "NRMSE 0.539556852247\n",
      "RMSE 0.275052472833\n"
     ]
    }
   ],
   "source": [
    "import numpy as np\n",
    "\n",
    "def nd(y_pred, y_true):\n",
    "    \"\"\"normalized deviation\"\"\"\n",
    "    t1 = np.sum(abs(y_pred-y_true))/ np.size(y_true)\n",
    "    t2 = np.sum(abs(y_true))/np.size(y_true)\n",
    "    return t1/t2\n",
    "    \n",
    "def nrmse(y_pred, y_true):\n",
    "    \"\"\"normalized RMSE\"\"\"\n",
    "    t1 = np.linalg.norm(y_pred-y_true)**2 / np.size(y_true)\n",
    "    t2 = np.sum(abs(y_true))/np.size(y_true)\n",
    "    return np.sqrt(t1) / (t2)\n",
    "\n",
    "def rmse(y_pred, y_true):\n",
    "    \"\"\"RMSE\"\"\"\n",
    "    t1 = np.linalg.norm(y_pred-y_true)**2 / np.size(y_true)\n",
    "    return np.sqrt(t1)\n",
    "\n",
    "def eval_forecast(pred):\n",
    "    y_true, y_pred = pred\n",
    "#     print('y true shape', y_true.shape, 'y_pred shape', y_pred.shape)\n",
    "\n",
    "\n",
    "    print('ND', nd(y_pred, y_true))\n",
    "    print('NRMSE',nrmse(y_pred, y_true))\n",
    "    print('RMSE', rmse(y_pred, y_true))\n",
    "    return y_true, y_pred\n",
    "\n",
    "# eval_forecast(pred_rnn)\n",
    "# eval_forecast(pred_lstm)\n",
    "# eval_forecast(pred_mrnn)\n",
    "# eval_forecast(pred_trnn)\n",
    "y_true, y_pred = eval_forecast(pred_trnn)"
   ]
  }
 ],
 "metadata": {
  "kernelspec": {
   "display_name": "Python 3",
   "language": "python",
   "name": "python3"
  },
  "language_info": {
   "codemirror_mode": {
    "name": "ipython",
    "version": 3
   },
   "file_extension": ".py",
   "mimetype": "text/x-python",
   "name": "python",
   "nbconvert_exporter": "python",
   "pygments_lexer": "ipython3",
   "version": "3.6.2"
  }
 },
 "nbformat": 4,
 "nbformat_minor": 2
}
