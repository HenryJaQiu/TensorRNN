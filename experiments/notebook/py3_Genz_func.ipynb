{
 "cells": [
  {
   "cell_type": "markdown",
   "metadata": {},
   "source": [
    "### simulate time series given parameters"
   ]
  },
  {
   "cell_type": "code",
   "execution_count": null,
   "metadata": {
    "collapsed": true
   },
   "outputs": [],
   "source": [
    "# spectral tensor train decomposition page 20\n",
    "import numpy as np \n",
    "def f1(x, w, c):\n",
    "    y=np.cos(2*np.pi*w +  c*x)\n",
    "    return y\n",
    "\n",
    "def f2(x, w, c):\n",
    "    y=(c**(-2) + (x+w)**2)**(-1)\n",
    "    return y\n",
    "\n",
    "def f3(x, w, c):\n",
    "    y = 1 + c*x\n",
    "    return y\n",
    "\n",
    "def f4(x, w, c):\n",
    "    y = np.exp(- c**2 *(x-w)**2)\n",
    "    return y\n",
    "\n",
    "def f5(x, w, c):\n",
    "    y = np.exp(- c**2 *np.abs(x-w) )\n",
    "    return y\n",
    "\n",
    "def f6(x, w, c):\n",
    "    if x > w:\n",
    "        y = 0\n",
    "    else:\n",
    "        y = np.exp(c * x)\n",
    "    return y"
   ]
  },
  {
   "cell_type": "code",
   "execution_count": null,
   "metadata": {
    "collapsed": true
   },
   "outputs": [],
   "source": [
    "# YS Parameters\n",
    "N = 100\n",
    "w = 0.5\n",
    "c = 10\n",
    "T = int(1e4)\n",
    "\n",
    "def gen_xs(Genz):\n",
    "    # Generate the function\n",
    "    ys = []\n",
    "    xs = np.linspace(0,1.0,N)\n",
    "    for x_i in xs:\n",
    "        ys.append(Genz(x_i, w, c))\n",
    "    print('ys generated')\n",
    "    return ys\n",
    "\n",
    "\n",
    "def gen_ts(Genz):\n",
    "    # Generate the dynamics\n",
    "    h1 = 0.0\n",
    "    ts = []\n",
    "    for i in range(N):\n",
    "        h2 = Genz(h1, w, c)\n",
    "        h1 = np.copy(h2)\n",
    "        ts.append(h1)\n",
    "    print('ts generated')\n",
    "    return ts"
   ]
  },
  {
   "cell_type": "code",
   "execution_count": null,
   "metadata": {},
   "outputs": [],
   "source": [
    "%matplotlib inline\n",
    "import matplotlib as mpl\n",
    "import seaborn as sns\n",
    "import matplotlib.pyplot as plt\n",
    "from mpl_toolkits.mplot3d import Axes3D\n",
    "import numpy as np\n",
    "\n",
    "\n",
    "params = {\n",
    "   'axes.labelsize': 20,\n",
    "   'font.size': 20,\n",
    "   'legend.fontsize': 12,\n",
    "   'xtick.labelsize': 15,\n",
    "   'ytick.labelsize': 15,\n",
    "   'text.usetex': False,\n",
    "   }\n",
    "mpl.rcParams.update(params)\n",
    "\n",
    "sns.set_style(\"whitegrid\")\n",
    "sns.despine()\n",
    "\n",
    "for n in range(1,7):\n",
    "    print('f'+str(n))\n",
    "    Genz = globals()[\"f\"+str(n)]\n",
    "    xs = gen_xs(Genz)\n",
    "    ts = gen_ts(Genz)  \n",
    " \n",
    "    plt.plot(xs[:100])\n",
    "    plt.savefig('../result/f'+str(n)+'.png')\n",
    "    plt.gcf().clear()\n",
    "    np.save('../result/f'+str(n)+'.npy', xs)\n",
    "\n",
    "    plt.plot(ts[:100])\n",
    "    plt.savefig('../result/df'+str(n)+'.png')\n",
    "    plt.gcf().clear()\n",
    "    np.save('../result/df'+str(n)+'.npy', xs)"
   ]
  },
  {
   "cell_type": "markdown",
   "metadata": {},
   "source": [
    "### generate Genz time series set"
   ]
  },
  {
   "cell_type": "code",
   "execution_count": null,
   "metadata": {
    "collapsed": true
   },
   "outputs": [],
   "source": []
  }
 ],
 "metadata": {
  "kernelspec": {
   "display_name": "Python 3",
   "language": "python",
   "name": "python3"
  },
  "language_info": {
   "codemirror_mode": {
    "name": "ipython",
    "version": 3
   },
   "file_extension": ".py",
   "mimetype": "text/x-python",
   "name": "python",
   "nbconvert_exporter": "python",
   "pygments_lexer": "ipython3",
   "version": "3.6.1"
  }
 },
 "nbformat": 4,
 "nbformat_minor": 2
}
