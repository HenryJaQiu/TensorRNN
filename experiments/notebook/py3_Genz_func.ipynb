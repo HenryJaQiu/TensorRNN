{
 "cells": [
  {
   "cell_type": "markdown",
   "metadata": {},
   "source": [
    "### simulate time series given parameters"
   ]
  },
  {
   "cell_type": "code",
   "execution_count": 129,
   "metadata": {},
   "outputs": [
    {
     "data": {
      "text/plain": [
       "<matplotlib.figure.Figure at 0x7f43c64c3b70>"
      ]
     },
     "metadata": {},
     "output_type": "display_data"
    }
   ],
   "source": [
    "# spectral tensor train decomposition page 20\n",
    "import numpy as np \n",
    "%matplotlib inline\n",
    "import matplotlib as mpl\n",
    "import seaborn as sns\n",
    "import matplotlib.pyplot as plt\n",
    "from mpl_toolkits.mplot3d import Axes3D\n",
    "import numpy as np\n",
    "\n",
    "\n",
    "params = {\n",
    "   'axes.labelsize': 20,\n",
    "   'font.size': 20,\n",
    "   'legend.fontsize': 12,\n",
    "   'xtick.labelsize': 15,\n",
    "   'ytick.labelsize': 15,\n",
    "   'text.usetex': False,\n",
    "   }\n",
    "mpl.rcParams.update(params)\n",
    "\n",
    "sns.set_style(\"whitegrid\")\n",
    "sns.despine()\n",
    "\n",
    "def f1(x, w, c):\n",
    "    y=np.cos(2*np.pi*w +  c*x)\n",
    "    return y\n",
    "\n",
    "def f2(x, w, c):\n",
    "    y=(c**(-2) + (x+w)**2)**(-1)\n",
    "    return y\n",
    "\n",
    "def f3(x, w, c):\n",
    "    y = (1 + c*x)**(-2)\n",
    "    return y\n",
    "\n",
    "def f4(x, w, c):\n",
    "    y = np.exp(- c**2 *(x-w)**2)\n",
    "    return y\n",
    "\n",
    "def f5(x, w, c):\n",
    "    y = np.exp(- c**2 *np.abs(x-w) )\n",
    "    return y\n",
    "\n",
    "def f6(x, w, c):\n",
    "    if x > w:\n",
    "        y = 0\n",
    "    else:\n",
    "        y = np.exp(c * x)\n",
    "    return y"
   ]
  },
  {
   "cell_type": "code",
   "execution_count": 29,
   "metadata": {
    "collapsed": true
   },
   "outputs": [],
   "source": [
    "# YS Parameters\n",
    "# w = 0.5\n",
    "# c = 10\n",
    "def gen_xs(Genz, T):\n",
    "    # Generate the function\n",
    "    ys = []\n",
    "    xs = np.linspace(0,1.0,T)\n",
    "    for x_i in xs:\n",
    "        ys.append(Genz(x_i, w, c))\n",
    "    print('ys generated')\n",
    "    return ys\n",
    "\n",
    "\n",
    "def gen_ts(Genz, h0, T):\n",
    "    # Generate the dynamics\n",
    "    ts = []\n",
    "    h1 = h0\n",
    "    for i in range(T):\n",
    "        h2 = Genz(h1, w, c)\n",
    "        h1 = np.copy(h2)\n",
    "        ts.append(h1)\n",
    "#     print('ts generated')\n",
    "    return ts\n",
    "\n",
    "def gen_dat(Genz, N, T):\n",
    "    # generate n x t x 1 \n",
    "    dat = np.empty((N,T,1))\n",
    "    #random initial \n",
    "    init_range = np.random.uniform(-1,1,(N,))\n",
    "\n",
    "    for i in range(N):\n",
    "        h0 = init_range[i]\n",
    "        dat[i,:,0] = np.asarray(gen_ts(Genz, h0, T))\n",
    "    return dat"
   ]
  },
  {
   "cell_type": "markdown",
   "metadata": {},
   "source": [
    "### Visualize the generated sequence"
   ]
  },
  {
   "cell_type": "code",
   "execution_count": 134,
   "metadata": {},
   "outputs": [
    {
     "data": {
      "text/plain": [
       "[<matplotlib.lines.Line2D at 0x7f43c622c0b8>]"
      ]
     },
     "execution_count": 134,
     "metadata": {},
     "output_type": "execute_result"
    },
    {
     "data": {
      "image/png": "[encoded data removed]",
      "text/plain": [
       "<matplotlib.figure.Figure at 0x7f43c64c70f0>"
      ]
     },
     "metadata": {},
     "output_type": "display_data"
    }
   ],
   "source": [
    "# generate one \n",
    "%matplotlib inline\n",
    "# w = 0.5\n",
    "# c = 10\n",
    "Genz = f5\n",
    "dat = gen_dat(Genz, 1, 100)\n",
    "plt.plot(np.squeeze(dat))"
   ]
  },
  {
   "cell_type": "code",
   "execution_count": null,
   "metadata": {
    "collapsed": true
   },
   "outputs": [],
   "source": [
    "for n in range(1,7):\n",
    "    print('f'+str(n))\n",
    "    Genz = globals()[\"f\"+str(n)]\n",
    "    xs = gen_xs(Genz, T)\n",
    "    ts = gen_ts(Genz, T)  \n",
    " \n",
    "    plt.plot(xs[:100])\n",
    "    plt.savefig('../result/f'+str(n)+'.png')\n",
    "    plt.gcf().clear()\n",
    "    np.save('../result/f'+str(n)+'.npy', xs)\n",
    "\n",
    "    plt.plot(ts[:100])\n",
    "    plt.savefig('../result/df'+str(n)+'.png')\n",
    "    plt.gcf().clear()\n",
    "    np.save('../result/df'+str(n)+'.npy', xs)"
   ]
  },
  {
   "cell_type": "markdown",
   "metadata": {},
   "source": [
    "### generate Genz time series set"
   ]
  },
  {
   "cell_type": "code",
   "execution_count": 112,
   "metadata": {},
   "outputs": [
    {
     "name": "stdout",
     "output_type": "stream",
     "text": [
      "f3\n"
     ]
    }
   ],
   "source": [
    "N = int(1e4)\n",
    "T = 100\n",
    "for n in range(3,4):\n",
    "    print('f'+str(n))\n",
    "    Genz = globals()[\"f\"+str(n)]\n",
    "    dat = gen_dat(Genz, N, T)\n",
    "    np.save('/home/qiyu/data/'+'f'+str(n)+'.npy', dat)\n"
   ]
  }
 ],
 "metadata": {
  "kernelspec": {
   "display_name": "Python 3",
   "language": "python",
   "name": "python3"
  },
  "language_info": {
   "codemirror_mode": {
    "name": "ipython",
    "version": 3
   },
   "file_extension": ".py",
   "mimetype": "text/x-python",
   "name": "python",
   "nbconvert_exporter": "python",
   "pygments_lexer": "ipython3",
   "version": "3.6.2"
  }
 },
 "nbformat": 4,
 "nbformat_minor": 2
}
