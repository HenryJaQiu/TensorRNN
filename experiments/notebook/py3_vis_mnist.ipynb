{
 "cells": [
  {
   "cell_type": "markdown",
   "metadata": {},
   "source": [
    "### Load test error"
   ]
  },
  {
   "cell_type": "code",
   "execution_count": 8,
   "metadata": {},
   "outputs": [
    {
     "name": "stdout",
     "output_type": "stream",
     "text": [
      "../log/mnist/debug/TLSTM/ts-10/\n",
      "train error: 0.18002 valid err: 0.234417 test err: 0.254093\n"
     ]
    }
   ],
   "source": [
    "exp='mnist'\n",
    "time_stamp = \"debug\"#\"10-19-17-23-29-41\"\n",
    "models =[\"LSTM\",\"MLSTM\",\"TLSTM\"] #'phased_lstm']#\n",
    "hz_list= [16]\n",
    "ts_list =[10] \n",
    "lr_list =[3]\n",
    "\n",
    "\n",
    "\n",
    "import numpy as np\n",
    "%matplotlib inline\n",
    "import matplotlib.pyplot as plt\n",
    "\n",
    "\n",
    "\n",
    "def read_config(fstream):\n",
    "    d = {}\n",
    "    for line in fstream:\n",
    "        line.rstrip()\n",
    "        tokens = line.split('\\t')\n",
    "        for token in tokens:\n",
    "            try:\n",
    "                key, val = token.split(\":\")\n",
    "                d[key] = float(val)                \n",
    "            except ValueError:\n",
    "                'error prop'\n",
    "    return d\n",
    "\n",
    "def load_log(ts, model):    \n",
    "    data_path = \"../log/\"+exp+\"/\"+time_stamp+\"/\"+model+\"/\"+ \"ts-\"+ str(ts) +\"/\"\n",
    "    f_pred= \"predict.npy\"\n",
    "    f_err = \"config.out\"\n",
    "    try:\n",
    "        pred =  np.load(data_path+f_pred )\n",
    "        with open(data_path+\"\"+f_err,'r') as fstream:\n",
    "            config = read_config(fstream)\n",
    "        print(data_path)\n",
    "        return config, pred\n",
    "    except FileNotFoundError:\n",
    "        return None, None\n",
    "\n",
    "errs = np.ones((len(ts_list),len(models), 2))\n",
    "i=0\n",
    "for ts in ts_list:\n",
    "    j=0\n",
    "    for model in models: \n",
    "        try:\n",
    "            config, pred = load_log(ts, model)\n",
    "            print('train error:',config['train_error'],'valid err:',config['valid_error'],'test err:',config['test_error'])\n",
    "            errs[i,j,k] =  config['test_error']\n",
    "        except:\n",
    "            pass\n",
    "        j +=1\n",
    "    i +=1\n"
   ]
  },
  {
   "cell_type": "markdown",
   "metadata": {},
   "source": [
    "## Load test true/pred"
   ]
  },
  {
   "cell_type": "code",
   "execution_count": 18,
   "metadata": {},
   "outputs": [
    {
     "name": "stdout",
     "output_type": "stream",
     "text": [
      "../log/mnist/debug/TLSTM/ts-10/\n",
      "(80, 10, 1024)\n"
     ]
    }
   ],
   "source": [
    "def get_pred(model):\n",
    "    data_path = \"../log/\"+exp+\"/\"+time_stamp+\"/\"+model+\"/\"+ \"ts-\"+ str(ts) +\"/\"\n",
    "    try:\n",
    "        true, pred = np.load(data_path+'predict.npy')\n",
    "        print(data_path)\n",
    "    except:\n",
    "        pass\n",
    "    return true,pred\n",
    "\n",
    "tlstm_true, tlstm_pred = get_pred('TLSTM')\n",
    "print(tlstm_true.shape)"
   ]
  },
  {
   "cell_type": "markdown",
   "metadata": {},
   "source": [
    "## Display image"
   ]
  },
  {
   "cell_type": "code",
   "execution_count": 25,
   "metadata": {},
   "outputs": [],
   "source": [
    "import matplotlib.pyplot as plt\n",
    "from six.moves import xrange \n",
    "%matplotlib inline\n",
    "def draw_seq(data, image_size, case_id=0, fig=1):\n",
    "    data = data[case_id, :].reshape(-1, image_size, image_size)\n",
    "    seq_length = data.shape[0]\n",
    "    num_rows = 1\n",
    "\n",
    "    plt.figure(2*fig, figsize=(10, 1))\n",
    "    plt.clf()\n",
    "    for i in xrange(seq_length):\n",
    "        plt.subplot(num_rows,seq_length, i+1)\n",
    "        plt.imshow(data[i, :, :], cmap=plt.cm.gray, interpolation=\"nearest\")\n",
    "        plt.axis('off')\n",
    "    plt.draw()\n",
    "    \n",
    "image_size = 32"
   ]
  },
  {
   "cell_type": "code",
   "execution_count": 26,
   "metadata": {},
   "outputs": [
    {
     "data": {
      "image/png": "[encoded data removed]",
      "text/plain": [
       "<matplotlib.figure.Figure at 0x7f41042b3978>"
      ]
     },
     "metadata": {},
     "output_type": "display_data"
    }
   ],
   "source": [
    "draw_seq(tlstm_true, image_size)"
   ]
  },
  {
   "cell_type": "code",
   "execution_count": 27,
   "metadata": {},
   "outputs": [
    {
     "data": {
      "image/png": "[encoded data removed]",
      "text/plain": [
       "<matplotlib.figure.Figure at 0x7f41042b3898>"
      ]
     },
     "metadata": {},
     "output_type": "display_data"
    }
   ],
   "source": [
    "draw_seq(tlstm_pred, image_size)"
   ]
  }
 ],
 "metadata": {
  "kernelspec": {
   "display_name": "Python 3",
   "language": "python",
   "name": "python3"
  },
  "language_info": {
   "codemirror_mode": {
    "name": "ipython",
    "version": 3
   },
   "file_extension": ".py",
   "mimetype": "text/x-python",
   "name": "python",
   "nbconvert_exporter": "python",
   "pygments_lexer": "ipython3",
   "version": "3.6.2"
  }
 },
 "nbformat": 4,
 "nbformat_minor": 2
}
