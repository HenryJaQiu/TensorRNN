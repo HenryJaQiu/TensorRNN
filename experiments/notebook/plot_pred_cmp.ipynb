{
 "cells": [
  {
   "cell_type": "code",
   "execution_count": null,
   "metadata": {},
   "outputs": [],
   "source": [
    "import numpy as np\n",
    "file_path = \"/home/roseyu/Python/log/\"\n",
    "data_file = \"lorenz/tt_rnn/predict.npy\"\n",
    "test_rslt = np.load(file_path+data_file)\n",
    "test_true = test_rslt[0]\n",
    "test_pred = test_rslt[1]"
   ]
  },
  {
   "cell_type": "code",
   "execution_count": null,
   "metadata": {},
   "outputs": [],
   "source": [
    "%matplotlib inline\n",
    "import matplotlib.pyplot as plt\n",
    "\n",
    "plt.plot(test_pred[8000:9000,0])\n",
    "plt.plot(test_true[8000:9000,0])\n",
    "\n",
    "print(test_pred.shape)\n",
    "from sklearn.metrics import mean_squared_error\n",
    "print(np.sqrt(mean_squared_error(test_true, test_pred)))"
   ]
  },
  {
   "cell_type": "markdown",
   "metadata": {},
   "source": [
    "## Compare the randomized hyper-parameter tuning "
   ]
  },
  {
   "cell_type": "code",
   "execution_count": 2,
   "metadata": {},
   "outputs": [],
   "source": [
    "#data_path = \"/home/roseyu/Python/log/lorenz/\"\n",
    "#exp=\"lorenz\" start_time=\"05-02-17-00-25-36\"\n",
    "import numpy as np\n",
    "\n",
    "def read_config(fstream):\n",
    "    d = {}\n",
    "    for line in fstream:\n",
    "        line.rstrip()\n",
    "        tokens = line.split('\\t')\n",
    "        for token in tokens:\n",
    "            try:\n",
    "                key, val = token.split(\":\")\n",
    "                d[key] = float(val)                \n",
    "            except ValueError:\n",
    "                'error prop'\n",
    "    return d\n",
    "def print_forecast(start_time):\n",
    "    i=0\n",
    "    err_mat = np.ndarray((8,4))\n",
    "    \"\"\"pass in start-up of the experiments\"\"\"\n",
    "    exps=[\"climate\"]#\"logistic\",\"lorenz\"] #,\"traffic\",\"climate\"\n",
    "    models = [\"basic_rnn\", \"basic_lstm\", \"matrix_rnn\", \"tensor_rnn_einsum\"] #\"matrix_rnn\", \"tensor_rnn\",\n",
    "\n",
    "    ts = \"\"\n",
    "    use_error = False\n",
    "\n",
    "    for exp in exps:\n",
    "#         for ts in range(10, 50, 5):\n",
    "            j = 0\n",
    "            for model in models:\n",
    "                if use_error:\n",
    "                    data_path = \"/tmp/tensorRNN/log/\"+exp+\"/\"+start_time+\"/\"+\"ts_\"+str(ts)+\"/\"+model+\"/\"\n",
    "                else:\n",
    "                    data_path = \"/tmp/tensorRNN/log/\"+exp+\"/\"+start_time+\"/\"+\"/\"+model+\"/\"\n",
    "                file_name = \"config_error.out\"\n",
    "                print(data_path)\n",
    "                try:\n",
    "                    with open(data_path+\"/\"+file_name,'rb') as fstream:\n",
    "#                         for line in fstream:\n",
    "#                             print(line)\n",
    "                        config = read_config(fstream)\n",
    "                        print config, model\n",
    "                        err_mat[i,j]=config['test_error']\n",
    "                        \n",
    "                        j +=1\n",
    "                        \n",
    "                except IOError:\n",
    "                    'no file'\n",
    "                    \n",
    "            i+=1\n",
    "    return err_mat"
   ]
  },
  {
   "cell_type": "markdown",
   "metadata": {},
   "source": [
    "### forecasting with error propagation"
   ]
  },
  {
   "cell_type": "code",
   "execution_count": 3,
   "metadata": {},
   "outputs": [
    {
     "name": "stdout",
     "output_type": "stream",
     "text": [
      "/tmp/tensorRNN/log/climate/05-13-17-16-59-56//basic_rnn/\n",
      "/tmp/tensorRNN/log/climate/05-13-17-16-59-56//basic_lstm/\n",
      "/tmp/tensorRNN/log/climate/05-13-17-16-59-56//matrix_rnn/\n",
      "/tmp/tensorRNN/log/climate/05-13-17-16-59-56//tensor_rnn_einsum/\n"
     ]
    }
   ],
   "source": [
    "#print_forecast(\"05-02-17-13-55-40\")\n",
    "#print_forecast(\"05-02-17-23-53-19\")\n",
    "#print_forecast(\"05-07-17-19-09-09\")\n",
    "#print_forecast(\"05-03-17-19-06-14\")\n",
    "time_stamp= \"05-13-17-16-59-56\"\n",
    "err_mat = print_forecast(time_stamp)\n",
    "# err_mat[9,3] = err_mat[9,3]+ 0.02\n",
    "# print(err_mat)\n",
    "# np.save(\"/tmp/tensorRNN/log/logistic/\"+time_stamp + \"/test_err.npy\",err_mat)"
   ]
  },
  {
   "cell_type": "code",
   "execution_count": 5,
   "metadata": {},
   "outputs": [
    {
     "data": {
      "text/plain": [
       "<matplotlib.legend.Legend at 0x7fbb7c9b90d0>"
      ]
     },
     "execution_count": 5,
     "metadata": {},
     "output_type": "execute_result"
    },
    {
     "data": {
      "image/png": "[encoded data removed]",
      "text/plain": [
       "<matplotlib.figure.Figure at 0x7fbb7c9ea950>"
      ]
     },
     "metadata": {},
     "output_type": "display_data"
    }
   ],
   "source": [
    "### plot the error\n",
    "%matplotlib inline\n",
    "import matplotlib.pyplot as plt\n",
    "fig = plt.figure(figsize=(5.25,3.5))\n",
    "ax = fig.gca()\n",
    "ax.plot(err_mat)\n",
    "ax.set_xlabel(\"Time Step\")\n",
    "ax.set_ylabel(\"RMSE\")\n",
    "plt.setp(plt.gca(), 'xticklabels', [str(x) for x in np.arange(10,55,5)])\n",
    "plt.legend(('RNN', 'LSTM', 'HORNN','TRNN'),\n",
    "           'upper right', shadow=True, fancybox=True)\n"
   ]
  },
  {
   "cell_type": "markdown",
   "metadata": {},
   "source": [
    "### hyper-parameter tuning for lstm"
   ]
  },
  {
   "cell_type": "code",
   "execution_count": null,
   "metadata": {},
   "outputs": [],
   "source": [
    "import re\n",
    "import numpy as np\n",
    "model = \"lstm\"\n",
    "err_list = []\n",
    "hz_list = []\n",
    "lr_list = []\n",
    "\n",
    "        \n",
    "for i in range(10):\n",
    "    data_path = \"/home/roseyu/Python/log/lorenz/basic_lstm_\"+str(i)\n",
    "    file_name = \"config_error.out\"\n",
    "    \n",
    "    try:\n",
    "        with open(data_path+\"/\"+file_name,'rb') as fstream:\n",
    "            #for line in fstream:\n",
    "                #print(line)\n",
    "            config = read_config(fstream)\n",
    "            print config\n",
    "            lr_list.append(config['learning_rate'])\n",
    "            hz_list.append(config['hidden_size'])\n",
    "            err_list.append(config['test_error'])\n",
    "    except IOError:\n",
    "        'no file'\n"
   ]
  },
  {
   "cell_type": "code",
   "execution_count": null,
   "metadata": {},
   "outputs": [],
   "source": [
    "%matplotlib inline\n",
    "import matplotlib.pyplot as plt\n",
    "\n",
    "lr = np.asarray(lr_list)\n",
    "hz = np.asarray(hz_list)\n",
    "err = np.asarray(err_list)\n",
    "\n",
    "order = np.argsort(lr)\n",
    "lr = lr[order]\n",
    "err = err[order]\n",
    "hz = hz[order]\n",
    "\n",
    "plt.plot(lr[hz==128], err[hz==128])\n",
    "plt.plot(lr[hz==256], err[hz==256])\n",
    "plt.plot(lr[hz==64], err[hz==64])\n",
    "\n",
    "print err"
   ]
  }
 ],
 "metadata": {
  "kernelspec": {
   "display_name": "Python 2",
   "language": "python",
   "name": "python2"
  },
  "language_info": {
   "codemirror_mode": {
    "name": "ipython",
    "version": 2
   },
   "file_extension": ".py",
   "mimetype": "text/x-python",
   "name": "python",
   "nbconvert_exporter": "python",
   "pygments_lexer": "ipython2",
   "version": "2.7.6"
  }
 },
 "nbformat": 4,
 "nbformat_minor": 1
}
