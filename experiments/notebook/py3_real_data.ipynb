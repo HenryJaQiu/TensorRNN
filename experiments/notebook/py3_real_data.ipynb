{
 "cells": [
  {
   "cell_type": "markdown",
   "metadata": {},
   "source": [
    "## Traffic Data: Every 5 min"
   ]
  },
  {
   "cell_type": "code",
   "execution_count": null,
   "metadata": {},
   "outputs": [],
   "source": [
    "data_path = \"/home/qiyu/data/\"\n",
    "data_set = \"traffic\"\n",
    "file_name = data_path+data_set+\".npy\"\n",
    "import numpy as np\n",
    "dat = np.load(file_name)\n",
    "print(dat.shape)\n",
    "print(type(dat))"
   ]
  },
  {
   "cell_type": "code",
   "execution_count": null,
   "metadata": {
    "scrolled": false
   },
   "outputs": [],
   "source": [
    "%matplotlib inline\n",
    "import matplotlib as mpl\n",
    "import seaborn as sns\n",
    "import matplotlib.pyplot as plt\n",
    "from mpl_toolkits.mplot3d import Axes3D\n",
    "import numpy as np\n",
    "\n",
    "params = {\n",
    "   'axes.labelsize': 12,\n",
    "   'font.size': 20,\n",
    "   'legend.fontsize': 15,\n",
    "   'xtick.labelsize': 15,\n",
    "   'ytick.labelsize': 15,\n",
    "   'text.usetex': False,\n",
    "   'figure.figsize':[10,8]\n",
    "   }\n",
    "mpl.rcParams.update(params)\n",
    "\n",
    "x = np.arange(0,dat.shape[0])\n",
    "\n",
    "for i in range(200,210):\n",
    "    plt.figure()\n",
    "    plt.plot(x, dat[i,:])\n",
    "    plt.xlabel('Hour')\n",
    "    plt.ylabel('mph')"
   ]
  },
  {
   "cell_type": "markdown",
   "metadata": {},
   "source": [
    "### Fill missing (zero) value \n",
    "\n",
    "Use the mean of same time, other days to fill in"
   ]
  },
  {
   "cell_type": "code",
   "execution_count": null,
   "metadata": {
    "collapsed": true
   },
   "outputs": [],
   "source": [
    "import numpy as np\n",
    "def fill_zero_daily(x):\n",
    "    nz_idx = np.nonzero(x)\n",
    "  \n",
    "    zero_idx = np.argwhere(x==0)\n",
    "    if len(nz_idx[0])==0:\n",
    "         print('all zero')\n",
    "    else:\n",
    "        mean_val = np.mean(x[nz_idx])\n",
    "        x[zero_idx] = mean_val\n",
    "    return x\n",
    "\n",
    "def fill_zero(dat):\n",
    "    n_dim = dat.shape[1]\n",
    "    dat_reshape = dat.reshape((-1,12*24,n_dim)) # daily traffic\n",
    "\n",
    "    mat_nz = np.copy(dat_reshape)\n",
    "    for i in range(mat.shape[1]):\n",
    "        for j in range(mat.shape[2]):\n",
    "            mat_nz[:,i,j] = fill_zero_daily(mat_nz[:,i,j])\n",
    "    return mat_nz"
   ]
  },
  {
   "cell_type": "markdown",
   "metadata": {},
   "source": [
    "### Subsample the data  20 min for every day"
   ]
  },
  {
   "cell_type": "code",
   "execution_count": null,
   "metadata": {},
   "outputs": [],
   "source": [
    "dat_nz = fill_zero(dat)\n",
    "n_days = dat_nz.shape[0]\n",
    "dat_aug = []\n",
    "\n",
    "def up_sample(x):\n",
    "    \"\"\"upsample each day into 72 examples\"\"\"\n",
    "    x_aug = []\n",
    "    for j in range(24*3):\n",
    "        x_aug.append(np.roll(x,-j*4, axis=0))\n",
    "    return np.array(x_aug)\n",
    "    \n",
    "for i in range(n_days):\n",
    "    dat_up = up_sample(dat_nz[i,:,:])\n",
    "    dat_aug.append(dat_up)\n",
    "dat_aug = np.concatenate(dat_aug, axis=0)\n",
    "print(dat_aug.shape)\n",
    "dat_aug_sub = dat_aug[:,:,:15]\n",
    "print(dat_aug_sub.shape)\n",
    "np.save('/home/qiyu/data/traffic_s2s.npy',dat_aug_sub)"
   ]
  },
  {
   "cell_type": "markdown",
   "metadata": {},
   "source": [
    "### rescale and save"
   ]
  },
  {
   "cell_type": "code",
   "execution_count": null,
   "metadata": {
    "collapsed": true
   },
   "outputs": [],
   "source": [
    "dat = rescale_ts(dat)\n",
    "\n",
    "import numpy as np\n",
    "np.save(data_path+data_set, dat)"
   ]
  },
  {
   "cell_type": "code",
   "execution_count": null,
   "metadata": {},
   "outputs": [],
   "source": [
    "import pandas as pd\n",
    "df = pd.DataFrame(dat)\n",
    "df.describe()"
   ]
  },
  {
   "cell_type": "markdown",
   "metadata": {},
   "source": [
    "### visualize traffic series"
   ]
  },
  {
   "cell_type": "code",
   "execution_count": null,
   "metadata": {},
   "outputs": [],
   "source": [
    "import matplotlib.ticker as ticker\n",
    "\n",
    "params = {\n",
    "   'axes.labelsize': 20,\n",
    "   'text.fontsize': 20,\n",
    "   'legend.fontsize': 12,\n",
    "   'xtick.labelsize': 12,\n",
    "   'ytick.labelsize': 12,\n",
    "   'text.usetex': False,\n",
    "   'figure.figsize': [4.5, 4.5]\n",
    "   }\n",
    "fig = plt.figure(figsize=(10,8))\n",
    "ax = fig.gca()\n",
    "\n",
    "data_mat = dat\n",
    "T = 600\n",
    "ax.plot(data_mat[:T,1], 'b')\n",
    "# ax.plot(data_mat[:T,1], 'c')\n",
    "ax.plot(data_mat[:T,2], 'c')\n",
    "ax.set_xlabel(\"Time (minutes)\")\n",
    "ax.set_ylabel(\"Speed (m/h)\")\n",
    "\n",
    "\n",
    "x = len(data_mat)\n",
    "tick_spacing = 144\n",
    "ax.xaxis.set_major_locator(ticker.MultipleLocator(tick_spacing))\n",
    "plt.xticks([0,144, 288, 432, 576 ], ['00:00','06:00','12:00','18:00', '24:00'])\n",
    "\n",
    "fig.savefig('traffic.png')"
   ]
  },
  {
   "cell_type": "markdown",
   "metadata": {},
   "source": [
    "## Climate (TMAX) data: daily"
   ]
  },
  {
   "cell_type": "code",
   "execution_count": null,
   "metadata": {},
   "outputs": [],
   "source": [
    "data_path = \"/home/qiyu/data/\"\n",
    "data_set = \"climate\"\n",
    "file_name = data_path+data_set+\".npy\"\n",
    "import numpy as np\n",
    "dat = np.load(file_name)\n",
    "print(dat.shape)\n",
    "print(type(dat))"
   ]
  },
  {
   "cell_type": "code",
   "execution_count": null,
   "metadata": {
    "collapsed": true
   },
   "outputs": [],
   "source": [
    "    \n",
    "f, (ax1, ax2, ax3) = plt.subplots(3, sharex=True, sharey=True)\n",
    "ax1.plot(x[:365], dat[10000:10365,1],'b')\n",
    "ax2.plot(x[:365], dat[10000:10365,5],'g')\n",
    "ax3.plot(x[:365], dat[10000:10365,10],'m')\n",
    "ax3.set_xlabel('Day',fontsize = 18.0)\n",
    "ax2.set_ylabel('$^\\circ$ F', fontsize = 18.0)"
   ]
  },
  {
   "cell_type": "code",
   "execution_count": null,
   "metadata": {
    "collapsed": true
   },
   "outputs": [],
   "source": [
    "# remove the anomalous high values\n",
    "dat[dat>200]=-1"
   ]
  },
  {
   "cell_type": "code",
   "execution_count": null,
   "metadata": {},
   "outputs": [],
   "source": [
    "import numpy as np\n",
    "def fill_missing_daily(x):\n",
    "    nz_idx = np.nonzero(x+1)\n",
    "  \n",
    "    missing_idx = np.argwhere(x==-1)\n",
    "    if len(nz_idx[0])==0:\n",
    "         print('all missing')\n",
    "    else:\n",
    "        mean_val = np.mean(x[nz_idx])\n",
    "        x[missing_idx] = mean_val\n",
    "    return x\n",
    "\n",
    "def fill_missing(dat):\n",
    "    n_dim = dat.shape[1]\n",
    "    dat_reshape = dat.reshape((-1,24,n_dim)) # daily traffic\n",
    "\n",
    "    mat_nz = np.copy(dat_reshape)\n",
    "    for i in range(mat_nz.shape[1]):\n",
    "        for j in range(mat_nz.shape[2]):\n",
    "            mat_nz[:,i,j] = fill_missing_daily(mat_nz[:,i,j])\n",
    "    return mat_nz\n",
    "dat_nz = fill_missing(dat)\n",
    "print(dat_nz.shape)"
   ]
  },
  {
   "cell_type": "code",
   "execution_count": null,
   "metadata": {
    "scrolled": false
   },
   "outputs": [],
   "source": [
    "%matplotlib inline\n",
    "import matplotlib as mpl\n",
    "import seaborn as sns\n",
    "import matplotlib.pyplot as plt\n",
    "from mpl_toolkits.mplot3d import Axes3D\n",
    "import numpy as np\n",
    "\n",
    "params = {\n",
    "   'axes.labelsize': 12,\n",
    "   'text.fontsize': 12,\n",
    "   'legend.fontsize': 12,\n",
    "   'xtick.labelsize': 12,\n",
    "   'ytick.labelsize': 12,\n",
    "   'text.usetex': False\n",
    "   }\n",
    "mpl.rcParams.update(params)\n",
    "\n",
    "dat_reshape = dat.reshape((-1,24,54)) # daily traffic\n",
    "\n",
    "for i in range(0,10):\n",
    "    plt.figure()\n",
    "    plt.plot(mat_nz[i,:,0], 'r-')"
   ]
  },
  {
   "cell_type": "code",
   "execution_count": null,
   "metadata": {},
   "outputs": [],
   "source": [
    "n_days = dat_nz.shape[0]\n",
    "dat_aug = []\n",
    "\n",
    "def up_sample(x):\n",
    "    \"\"\"upsample each day into 6 examples (every 4 hour)\"\"\"\n",
    "    x_aug = []\n",
    "    for j in range(6):\n",
    "        x_aug.append(np.roll(x,-j*4, axis=0))\n",
    "    return np.array(x_aug)\n",
    "    \n",
    "for i in range(n_days):\n",
    "    dat_up = up_sample(dat_nz[i,:,:])\n",
    "    dat_aug.append(dat_up)\n",
    "dat_aug = np.concatenate(dat_aug, axis=0)\n",
    "print(dat_aug.shape)\n",
    "# dat_aug_sub = dat_aug[:,:,:15]\n",
    "# print(dat_aug_sub.shape)\n",
    "np.save('/home/qiyu/data/climate_s2s.npy',dat_aug)"
   ]
  }
 ],
 "metadata": {
  "kernelspec": {
   "display_name": "Python 3",
   "language": "python",
   "name": "python3"
  },
  "language_info": {
   "codemirror_mode": {
    "name": "ipython",
    "version": 3
   },
   "file_extension": ".py",
   "mimetype": "text/x-python",
   "name": "python",
   "nbconvert_exporter": "python",
   "pygments_lexer": "ipython3",
   "version": "3.6.2"
  }
 },
 "nbformat": 4,
 "nbformat_minor": 1
}
