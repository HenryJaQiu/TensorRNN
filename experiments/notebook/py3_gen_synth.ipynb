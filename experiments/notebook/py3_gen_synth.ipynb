{
 "cells": [
  {
   "cell_type": "code",
   "execution_count": null,
   "metadata": {
    "collapsed": true
   },
   "outputs": [],
   "source": [
    "import numpy as np\n",
    "def lorenz(x, y, z, s=10, r=28, b=2.667):\n",
    "    x_dot = s*(y - x)\n",
    "    y_dot = r*x - y - x*z\n",
    "    z_dot = x*y - b*z\n",
    "    return x_dot, y_dot, z_dot\n",
    "\n",
    "def gen_lorenz_series(x0, y0, z0, num_steps, num_freq):\n",
    "    dt = 0.01\n",
    "    stepCnt = num_steps\n",
    "\n",
    "    # Need one more for the initial values\n",
    "    xs = np.empty((stepCnt,))\n",
    "    ys = np.empty((stepCnt,))\n",
    "    zs = np.empty((stepCnt,))\n",
    "\n",
    "    # Setting initial values\n",
    "    #xs[0], ys[0], zs[0] = (0., 1., 1.05)\n",
    "    xs[0] = x0\n",
    "    ys[0] = y0\n",
    "    zs[0] = z0\n",
    "\n",
    "    xss = np.empty((stepCnt//num_freq,))\n",
    "    yss = np.empty((stepCnt//num_freq,))\n",
    "    zss = np.empty((stepCnt//num_freq,))\n",
    "    # Stepping through \"time\".\n",
    "    j = 0\n",
    "    for i in range(stepCnt-1):\n",
    "        # Derivatives of the X, Y, Z state\n",
    "        if i%num_freq ==0:\n",
    "            xss[j] = xs[i]\n",
    "            yss[j] = ys[i]\n",
    "            zss[j] = zs[i]\n",
    "            j += 1\n",
    "        x_dot, y_dot, z_dot = lorenz(xs[i], ys[i], zs[i])\n",
    "        xs[i + 1] = xs[i] + (x_dot * dt)\n",
    "        ys[i + 1] = ys[i] + (y_dot * dt)\n",
    "        zs[i + 1] = zs[i] + (z_dot * dt)\n",
    "\n",
    "    #save the sequence for training\n",
    "    lorenz_series = np.transpose(np.vstack((xss,yss,zss)))\n",
    "    return lorenz_series"
   ]
  },
  {
   "cell_type": "markdown",
   "metadata": {},
   "source": [
    "### simulate data with inital range"
   ]
  },
  {
   "cell_type": "code",
   "execution_count": null,
   "metadata": {
    "collapsed": true
   },
   "outputs": [],
   "source": [
    "#define initial range\n",
    "num_samples = int(1e4)\n",
    "num_freq = int(5)\n",
    "num_steps = int(1e2)*num_freq\n",
    "\n",
    "init_range = np.random.uniform(-0.1,0.1,(num_samples,3))\n",
    "lorenz_series_mat = np.ndarray((num_samples, num_steps//num_freq, 3))\n",
    "for i in range(num_samples):\n",
    "    x0,y0,z0 = init_range[i,:]\n",
    "    series = gen_lorenz_series(x0,y0,z0, num_steps, num_freq )\n",
    "    lorenz_series_mat[i,:,:] = series"
   ]
  },
  {
   "cell_type": "markdown",
   "metadata": {},
   "source": [
    "### simulate train and test in different initial range"
   ]
  },
  {
   "cell_type": "code",
   "execution_count": null,
   "metadata": {},
   "outputs": [],
   "source": [
    "num_freq = int(5)\n",
    "num_steps = int(1e2)*num_freq\n",
    "\n",
    "#train\n",
    "train_samples = int(9000)\n",
    "train_range = np.random.uniform(-0.1,0.1,(train_samples,3))\n",
    "train_mat = np.ndarray((train_samples, num_steps//num_freq, 3))\n",
    "for i in range(train_samples):\n",
    "    x0,y0,z0 = train_range[i,:]\n",
    "    series = gen_lorenz_series(x0,y0,z0, num_steps, num_freq )\n",
    "    train_mat[i,:,:] = series\n",
    "    \n",
    "    \n",
    "# test\n",
    "test_samples = int(1000)\n",
    "test_range = np.random.uniform(-0.1+1,0.1+1,(test_samples,3))\n",
    "test_mat = np.ndarray((test_samples, num_steps//num_freq, 3))\n",
    "for i in range(test_samples):\n",
    "    x0,y0,z0 = test_range[i,:]\n",
    "    series = gen_lorenz_series(x0,y0,z0, num_steps, num_freq )\n",
    "    test_mat[i,:,:] = series\n",
    "    \n",
    "# combine\n",
    "lorenz_mat = np.concatenate((train_mat, test_mat), axis=0 )\n",
    "print('data shape', lorenz_mat.shape)\n"
   ]
  },
  {
   "cell_type": "markdown",
   "metadata": {},
   "source": [
    "### simulate data with equal interval \n",
    "this is account for the sample bias near the center"
   ]
  },
  {
   "cell_type": "code",
   "execution_count": null,
   "metadata": {
    "collapsed": true
   },
   "outputs": [],
   "source": [
    "init = np.random.uniform(-0.1,0.1,(1,3))\n",
    "\n",
    "x0 = init[0,0]\n",
    "y0 = init[0,1]\n",
    "z0 = init[0,2]\n",
    "\n",
    "dt = 0.01\n",
    "stepCnt = num_steps\n",
    "\n",
    "# Need one more for the initial values\n",
    "xs = np.empty((stepCnt,))\n",
    "ys = np.empty((stepCnt,))\n",
    "zs = np.empty((stepCnt,))\n",
    "\n",
    "# Save the velocity\n",
    "xds = np.empty((stepCnt,))\n",
    "yds= np.empty((stepCnt,))\n",
    "zds = np.empty((stepCnt,))\n",
    "# Setting initial values\n",
    "#xs[0], ys[0], zs[0] = (0., 1., 1.05)\n",
    "xs[0] = x0\n",
    "ys[0] = y0\n",
    "zs[0] = z0\n",
    "\n",
    "\n",
    "xss = np.empty((stepCnt//num_freq,))\n",
    "yss = np.empty((stepCnt//num_freq,))\n",
    "zss = np.empty((stepCnt//num_freq,))\n",
    "# Stepping through \"time\".\n",
    "j = 0\n",
    "for i in range(stepCnt-1):\n",
    "    # Derivatives of the X, Y, Z state\n",
    "    if i%num_freq ==0:\n",
    "        xss[j] = xs[i]\n",
    "        yss[j] = ys[i]\n",
    "        zss[j] = zs[i]\n",
    "        j += 1\n",
    "    x_dot, y_dot, z_dot = lorenz(xs[i], ys[i], zs[i])\n",
    "    xds[i] = x_dot\n",
    "    yds[i] = y_dot\n",
    "    zds[i] = z_dot\n",
    "    xs[i + 1] = xs[i] + (x_dot * dt)\n",
    "    ys[i + 1] = ys[i] + (y_dot * dt)\n",
    "    zs[i + 1] = zs[i] + (z_dot * dt)\n",
    "\n",
    "#save the sequence for training\n",
    "lorenz_series = np.transpose(np.vstack((xss,yss,zss)))"
   ]
  },
  {
   "cell_type": "code",
   "execution_count": null,
   "metadata": {},
   "outputs": [],
   "source": [
    "StepCnt = len(xds)\n",
    "for i in range(StepCnt-1):\n",
    "    v = np.array([xds[i], yds[i], zds[i]])\n",
    "    if i%num_freq ==0:\n",
    "        print(np.linalg.norm(v))"
   ]
  },
  {
   "cell_type": "markdown",
   "metadata": {},
   "source": [
    "### visualization of the simulated data"
   ]
  },
  {
   "cell_type": "code",
   "execution_count": 64,
   "metadata": {},
   "outputs": [
    {
     "data": {
      "text/plain": [
       "<mpl_toolkits.mplot3d.art3d.Path3DCollection at 0x7eff21a8b860>"
      ]
     },
     "execution_count": 64,
     "metadata": {},
     "output_type": "execute_result"
    },
    {
     "data": {
      "image/png": "[encoded data removed]",
      "text/plain": [
       "<matplotlib.figure.Figure at 0x7eff2144c5c0>"
      ]
     },
     "metadata": {},
     "output_type": "display_data"
    }
   ],
   "source": [
    "%matplotlib inline\n",
    "import matplotlib.pyplot as plt\n",
    "from mpl_toolkits.mplot3d import Axes3D\n",
    "\n",
    "\n",
    "T = stepCnt\n",
    "\n",
    "fig = plt.figure()\n",
    "ax = fig.gca(projection='3d')\n",
    "ax.plot(xs[:T], ys[:T], zs[:T], 'b')\n",
    "ax.scatter(xss[:T], yss[:T], zss[:T], c='r', s=30)"
   ]
  },
  {
   "cell_type": "markdown",
   "metadata": {},
   "source": [
    "### save the simulation data"
   ]
  },
  {
   "cell_type": "code",
   "execution_count": null,
   "metadata": {},
   "outputs": [],
   "source": [
    "print(lorenz_series_mat.shape)"
   ]
  },
  {
   "cell_type": "markdown",
   "metadata": {},
   "source": [
    "### load the simulation data"
   ]
  },
  {
   "cell_type": "code",
   "execution_count": null,
   "metadata": {
    "scrolled": false
   },
   "outputs": [],
   "source": [
    "# import numpy as np\n",
    "# data_path=\"../lorenz_10k.npy\"\n",
    "# lorenz = np.load(data_path)\n",
    "# print('data shape', lorenz_mat.shape)\n",
    "sample_id = 0\n",
    "for i in range(0,5):\n",
    "    plot_sample(lorenz, i)\n",
    "for i in range(9005,9010):\n",
    "    plot_sample(lorenz, i)"
   ]
  },
  {
   "cell_type": "markdown",
   "metadata": {},
   "source": [
    "### append time stamps to the data"
   ]
  },
  {
   "cell_type": "code",
   "execution_count": null,
   "metadata": {},
   "outputs": [],
   "source": [
    "ts_stamps = np.tile(np.arange(0,100), (10000,1))\n",
    "ts_stamps = np.expand_dims(ts_stamps, axis = 2)\n",
    "print(ts_stamps.shape)\n",
    "lorenz  = np.concatenate((lorenz_series_mat, ts_stamps), axis=2) \n",
    "print(lorenz.shape)"
   ]
  },
  {
   "cell_type": "markdown",
   "metadata": {},
   "source": [
    "### predict the first-order difference"
   ]
  },
  {
   "cell_type": "code",
   "execution_count": null,
   "metadata": {},
   "outputs": [],
   "source": [
    "import numpy as np\n",
    "\n",
    "def first_diff(dat):\n",
    "    # dat is time x dim\n",
    "    res = np.zeros(dat.shape)\n",
    "    res[0,:]= dat[0,:]\n",
    "    res[1:,:] = dat[1:] - dat[:-1,:]\n",
    "    return res\n",
    "def first_add(dat):\n",
    "    res = np.zeros(dat.shape)\n",
    "    res[0,:]= dat[0,:]\n",
    "    for i in range(1,dat.shape[0]):\n",
    "        res[i,:] = dat[i,:]+ res[i-1,:]\n",
    "    return res\n",
    "\n",
    "data_path=\"../lorenz.npy\"\n",
    "lorenz_mat = np.load(data_path)\n",
    "print(lorenz_mat.shape)\n",
    "\n",
    "lorenz_diff = np.zeros(lorenz_mat.shape)\n",
    "for i in range(lorenz_mat.shape[0]):\n",
    "    lorenz_diff[i,:,:]=first_diff(lorenz_mat[i,:,:])\n",
    "\n",
    "lorenz = np.zeros(lorenz_diff.shape)\n",
    "for i in range(lorenz_diff.shape[0]):\n",
    "    lorenz[i,:,:]=first_add(lorenz_diff[i,:,:])\n"
   ]
  },
  {
   "cell_type": "code",
   "execution_count": null,
   "metadata": {
    "collapsed": true
   },
   "outputs": [],
   "source": [
    "np.save('../lorenz_diff.npy',lorenz_diff)"
   ]
  }
 ],
 "metadata": {
  "kernelspec": {
   "display_name": "Python 3",
   "language": "python",
   "name": "python3"
  },
  "language_info": {
   "codemirror_mode": {
    "name": "ipython",
    "version": 3
   },
   "file_extension": ".py",
   "mimetype": "text/x-python",
   "name": "python",
   "nbconvert_exporter": "python",
   "pygments_lexer": "ipython3",
   "version": "3.6.1"
  }
 },
 "nbformat": 4,
 "nbformat_minor": 2
}
