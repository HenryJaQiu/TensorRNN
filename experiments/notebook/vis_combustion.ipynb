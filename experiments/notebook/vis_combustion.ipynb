{
 "cells": [
  {
   "cell_type": "code",
   "execution_count": 19,
   "metadata": {
    "collapsed": false
   },
   "outputs": [],
   "source": [
    "import scipy.io\n",
    "import numpy as np\n",
    "import pandas as pd\n",
    "def load_mat(var):\n",
    "    file_name =\"/home/roseyu/Data/combustion/\"+var+\".mat\"\n",
    "    array =scipy.io.loadmat(file_name)\n",
    "    a_val = array[var]\n",
    "    return a_val"
   ]
  },
  {
   "cell_type": "markdown",
   "metadata": {
    "collapsed": false
   },
   "source": [
    "### turn a 3-d ndarray to a movie clip ( time x width x height )"
   ]
  },
  {
   "cell_type": "code",
   "execution_count": null,
   "metadata": {
    "collapsed": false
   },
   "outputs": [],
   "source": [
    "import moviepy.editor as mpy\n",
    "import matplotlib.pyplot as plt\n",
    "def rescale_arr_to_255(m):\n",
    "    _min = np.amin(m)\n",
    "    _max = np.amax(m)\n",
    "    rgb_scale = 255.\n",
    "    _m = m\n",
    "    _m = m + _min\n",
    "    _m = _m / (_max - _min)\n",
    "    _m = _m * rgb_scale\n",
    "    return _m.astype(int)\n",
    "\n",
    "def scale(f, factor=1):\n",
    "    from numpy.lib.stride_tricks import as_strided\n",
    "    M, N = factor,factor # number of time to replicate each point in each dimension\n",
    "    C, H, W = f.shape\n",
    "    _f = as_strided(f,\n",
    "    (C, 1, H, M, W, N),\n",
    "    (f.strides[0], 0, f.strides[1], 0, f.strides[2], 0))\n",
    "    _f = _f.reshape((C, H*M, W*N))\n",
    "    return _f\n",
    "\n",
    "def create_clip(frames, fps, factor):\n",
    "\n",
    "    T = frames.shape[0]\n",
    "    duration = T / fps\n",
    "    print(\"Creating clip of {} timesteps = {} secs\".format(T, duration))\n",
    "\n",
    "    def make_frame(t):\n",
    "        _t = min(int(t * fps), T - 1)\n",
    "        f = frames[_t]\n",
    "        f = rescale_arr_to_255(f)\n",
    "        f = scale(f, factor=factor)\n",
    "        f = np.transpose(f, (1, 2, 0))\n",
    "        return f\n",
    "#     fig, ax = plt.subplots()\n",
    "#     def make_frame(t):\n",
    "#         ax.clear()\n",
    "#         _t = min(int(t * fps), T - 1)\n",
    "#         ax.imshow(a_val[_t,:,:])\n",
    "# #         ax.set_ylim(-1.5, 2.5)\n",
    "#         return mplfig_to_npimage(fig)\n",
    "\n",
    "\n",
    "    clip = mpy.VideoClip(make_frame=make_frame, duration=duration)\n",
    "    clip.duration = duration\n",
    "    clip.fps = fps\n",
    "    clip.size = factor*frames[0].shape[2],factor*frames[0].shape[1]\n",
    "    return clip"
   ]
  },
  {
   "cell_type": "code",
   "execution_count": null,
   "metadata": {
    "collapsed": true
   },
   "outputs": [],
   "source": [
    "def array2movie(var):\n",
    "    a = load_mat(var)\n",
    "    frames = np.expand_dims(a, 1)\n",
    "    fps, factor = 60, 1\n",
    "    movie = create_clip(frames, fps, factor)\n",
    "    return movie"
   ]
  },
  {
   "cell_type": "code",
   "execution_count": null,
   "metadata": {
    "collapsed": false
   },
   "outputs": [],
   "source": [
    "%matplotlib inline\n",
    "clip_U = array2movie('U')\n",
    "clip_U.ipython_display(fps=20, loop=0, autoplay=1)"
   ]
  },
  {
   "cell_type": "code",
   "execution_count": null,
   "metadata": {
    "collapsed": false
   },
   "outputs": [],
   "source": [
    "clip_V = array2movie('V')\n",
    "clip_V.ipython_display(fps=20, loop=0, autoplay=1)"
   ]
  },
  {
   "cell_type": "code",
   "execution_count": null,
   "metadata": {
    "collapsed": false
   },
   "outputs": [],
   "source": [
    "clip_V = array2movie('P')\n",
    "clip_V.ipython_display(fps=20, loop=0, autoplay=1)"
   ]
  },
  {
   "cell_type": "code",
   "execution_count": null,
   "metadata": {
    "collapsed": false
   },
   "outputs": [],
   "source": [
    "clip_V = array2movie('W')\n",
    "clip_V.ipython_display(fps=20, loop=0, autoplay=1)"
   ]
  },
  {
   "cell_type": "markdown",
   "metadata": {},
   "source": [
    "### evenly sample time series from the 3-d array"
   ]
  },
  {
   "cell_type": "code",
   "execution_count": 22,
   "metadata": {
    "collapsed": false
   },
   "outputs": [],
   "source": [
    "def sample_ts(var, nx, ny, verbose=False):\n",
    "    a = load_mat(var)\n",
    "    lx = a.shape[1]\n",
    "    ly = a.shape[1]\n",
    "    print('x dim', lx, 'y dim', ly)\n",
    "    x = np.linspace(0,lx-1, nx, dtype=int)\n",
    "    y = np.linspace(0,ly-1, ny, dtype=int)\n",
    "    xv, yv = np.meshgrid(x, y, sparse=False, indexing='ij')\n",
    "    a_r = np.empty((a.shape[0],0))\n",
    "    # treat xv[i,j], yv[i,j]\n",
    "    for i in range(nx):\n",
    "        for j in range(ny):\n",
    "            if verbose:\n",
    "                print('pose:',xv[i,j], yv[i,j])\n",
    "\n",
    "            a_r = np.append(a_r, np.expand_dims(a[:,xv[i,j], yv[i,j]],axis=1), axis =1)\n",
    "    return a_r\n",
    "\n",
    "def rescale_ts(ts):\n",
    "    df = pd.DataFrame(ts)\n",
    "    df_norm = (df - df.mean()) / (df.max() - df.min())\n",
    "    ts_norm = df_norm.as_matrix()\n",
    "    return ts_norm"
   ]
  },
  {
   "cell_type": "markdown",
   "metadata": {},
   "source": [
    "### TODO: the time series length for combusion is too short"
   ]
  },
  {
   "cell_type": "code",
   "execution_count": 29,
   "metadata": {
    "collapsed": false
   },
   "outputs": [
    {
     "name": "stdout",
     "output_type": "stream",
     "text": [
      "('x dim', 128, 'y dim', 128)\n",
      "('U', ' shape:', (1408, 16))\n",
      "('x dim', 128, 'y dim', 128)\n",
      "('V', ' shape:', (1408, 16))\n",
      "('x dim', 128, 'y dim', 128)\n",
      "('W', ' shape:', (1408, 16))\n",
      "('x dim', 128, 'y dim', 128)\n",
      "('P', ' shape:', (1408, 16))\n",
      "(1408, 64)\n"
     ]
    }
   ],
   "source": [
    "ts_list= []\n",
    "for var in ['U','V','W','P']:\n",
    "    ts = sample_ts(var, 4, 4)\n",
    "    print(var, ' shape:',ts.shape)\n",
    "    ts = rescale_ts(ts)\n",
    "    ts_list += [ts]\n",
    "\n",
    "ts_all = np.concatenate(ts_list, axis=1)\n",
    "print(ts_all.shape)\n",
    "    \n",
    "# save_path = '/home/roseyu/Data/TensorRNN/'+ var\n",
    "# np.save(save_path, ts)\n",
    "# print('saved to '+ save_path)\n",
    "# import pickle\n",
    "# with open('/home/roseyu/data/tensorRNN/'+ var+ '.pkl', 'wb') as f:\n",
    "#     pickle.dump(ts, f)"
   ]
  },
  {
   "cell_type": "code",
   "execution_count": null,
   "metadata": {
    "collapsed": false
   },
   "outputs": [],
   "source": [
    "plt.plot(ts[:,20])"
   ]
  },
  {
   "cell_type": "markdown",
   "metadata": {},
   "source": [
    "### rescale the time series to be [-1,1]"
   ]
  },
  {
   "cell_type": "code",
   "execution_count": null,
   "metadata": {
    "collapsed": false
   },
   "outputs": [],
   "source": [
    "\n",
    "\n",
    "file_name = '/home/roseyu/Data/tensorRNN/U.pkl'\n",
    "\n",
    "with open(file_name,'wb') as f:\n",
    "     pickle.dump(ts_norm,f)\n",
    "plt.plot(ts_norm[:,20])"
   ]
  }
 ],
 "metadata": {
  "kernelspec": {
   "display_name": "Python 2",
   "language": "python",
   "name": "python2"
  },
  "language_info": {
   "codemirror_mode": {
    "name": "ipython",
    "version": 2
   },
   "file_extension": ".py",
   "mimetype": "text/x-python",
   "name": "python",
   "nbconvert_exporter": "python",
   "pygments_lexer": "ipython2",
   "version": "2.7.6"
  }
 },
 "nbformat": 4,
 "nbformat_minor": 0
}
