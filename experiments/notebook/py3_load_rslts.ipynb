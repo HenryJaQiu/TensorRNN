{
 "cells": [
  {
   "cell_type": "markdown",
   "metadata": {},
   "source": [
    "## load logistic and lorenz logs"
   ]
  },
  {
   "cell_type": "code",
   "execution_count": 38,
   "metadata": {
    "collapsed": true
   },
   "outputs": [],
   "source": [
    "import seaborn as sns\n",
    "import matplotlib.pyplot as plt\n",
    "%matplotlib notebook"
   ]
  },
  {
   "cell_type": "code",
   "execution_count": 39,
   "metadata": {
    "collapsed": true
   },
   "outputs": [],
   "source": [
    "# fig = plt.figure(figsize=(20,3.5))\n",
    "# ax = plt.gca()\n",
    "\n",
    "def plot_ts(pred):\n",
    "    y_true, y_pred =pred\n",
    "    ax = fig.add_subplot(1, 4, i+1)\n",
    "    ax.plot(y_true[:100,seq_id],'g')\n",
    "    ax.set_ylim([-20,20])\n",
    "    ax = fig.add_subplot(2, 4, i+1)\n",
    "    ax.plot(y_pred[:100,seq_id], 'r')\n",
    "    ax.set_ylim([-20,20])\n",
    "    ax.set_title(model)"
   ]
  },
  {
   "cell_type": "markdown",
   "metadata": {},
   "source": [
    "### load logs for lorenz and print test error"
   ]
  },
  {
   "cell_type": "code",
   "execution_count": 21,
   "metadata": {},
   "outputs": [
    {
     "name": "stdout",
     "output_type": "stream",
     "text": [
      "load model MRNN, step\n",
      "/var/tmp/tensorRNN/log/lorenz/09-18-17-11-56-02/MRNN/st_20/\n",
      "train error: 0.0014894 valid error: 0.00199704 test err: 0.0395344\n",
      "load model MRNN, step\n",
      "/var/tmp/tensorRNN/log/lorenz/09-18-17-11-56-02/MRNN/st_40/\n",
      "train error: 0.00196658 valid error: 0.00248175 test err: 0.0575352\n",
      "load model MRNN, step\n",
      "/var/tmp/tensorRNN/log/lorenz/09-18-17-11-56-02/MRNN/st_60/\n",
      "train error: 0.00100921 valid error: 0.00188238 test err: 0.0579524\n",
      "load model MRNN, step\n",
      "/var/tmp/tensorRNN/log/lorenz/09-18-17-11-56-02/MRNN/st_80/\n",
      "train error: 0.00287597 valid error: 0.00349535 test err: 0.0606476\n",
      "load model MRNN, step\n",
      "/var/tmp/tensorRNN/log/lorenz/09-18-17-11-56-02/MRNN/st_100/\n",
      "train error: 0.00183309 valid error: 0.00265485 test err: 0.066126\n",
      "load model LSTM, step\n",
      "/var/tmp/tensorRNN/log/lorenz/09-18-17-11-56-02/LSTM/st_20/\n",
      "train error: 0.000105404 valid error: 0.00306108 test err: 0.041038\n",
      "load model LSTM, step\n",
      "/var/tmp/tensorRNN/log/lorenz/09-18-17-11-56-02/LSTM/st_40/\n",
      "train error: 0.000124258 valid error: 0.00332262 test err: 0.065417\n",
      "load model LSTM, step\n",
      "/var/tmp/tensorRNN/log/lorenz/09-18-17-11-56-02/LSTM/st_60/\n",
      "train error: 0.00012264 valid error: 0.00321301 test err: 0.0690443\n",
      "load model LSTM, step\n",
      "/var/tmp/tensorRNN/log/lorenz/09-18-17-11-56-02/LSTM/st_80/\n",
      "train error: 0.000120033 valid error: 0.00297625 test err: 0.0821315\n",
      "load model LSTM, step\n",
      "/var/tmp/tensorRNN/log/lorenz/09-18-17-11-56-02/LSTM/st_100/\n",
      "train error: 0.000131628 valid error: 0.00323797 test err: 0.0726326\n",
      "load model TRNN, step\n",
      "/var/tmp/tensorRNN/log/lorenz/09-18-17-11-56-02/TRNN/st_20/\n",
      "train error: 0.00118755 valid error: 0.00166127 test err: 0.0404106\n",
      "load model TRNN, step\n",
      "/var/tmp/tensorRNN/log/lorenz/09-18-17-11-56-02/TRNN/st_40/\n"
     ]
    },
    {
     "ename": "FileNotFoundError",
     "evalue": "[Errno 2] No such file or directory: '/var/tmp/tensorRNN/log/lorenz/09-18-17-11-56-02/TRNN/st_40/predict.npy'",
     "output_type": "error",
     "traceback": [
      "\u001b[0;31m---------------------------------------------------------------------------\u001b[0m",
      "\u001b[0;31mFileNotFoundError\u001b[0m                         Traceback (most recent call last)",
      "\u001b[0;32m<ipython-input-21-ecb0c47fe7c3>\u001b[0m in \u001b[0;36m<module>\u001b[0;34m()\u001b[0m\n\u001b[1;32m     42\u001b[0m     \u001b[0;32mfor\u001b[0m \u001b[0mstep\u001b[0m \u001b[0;32min\u001b[0m \u001b[0msteps\u001b[0m\u001b[0;34m:\u001b[0m\u001b[0;34m\u001b[0m\u001b[0m\n\u001b[1;32m     43\u001b[0m         \u001b[0mprint\u001b[0m\u001b[0;34m(\u001b[0m\u001b[0;34m'load model {:s}, step'\u001b[0m\u001b[0;34m.\u001b[0m\u001b[0mformat\u001b[0m\u001b[0;34m(\u001b[0m\u001b[0mmodel\u001b[0m\u001b[0;34m,\u001b[0m\u001b[0mstep\u001b[0m\u001b[0;34m)\u001b[0m\u001b[0;34m)\u001b[0m\u001b[0;34m\u001b[0m\u001b[0m\n\u001b[0;32m---> 44\u001b[0;31m         \u001b[0mconfig\u001b[0m\u001b[0;34m,\u001b[0m \u001b[0mpred\u001b[0m \u001b[0;34m=\u001b[0m \u001b[0mload_log\u001b[0m\u001b[0;34m(\u001b[0m\u001b[0mstep\u001b[0m\u001b[0;34m,\u001b[0m \u001b[0mmodel\u001b[0m\u001b[0;34m)\u001b[0m\u001b[0;34m\u001b[0m\u001b[0m\n\u001b[0m\u001b[1;32m     45\u001b[0m         \u001b[0mprint\u001b[0m\u001b[0;34m(\u001b[0m\u001b[0;34m'train error:'\u001b[0m\u001b[0;34m,\u001b[0m\u001b[0mconfig\u001b[0m\u001b[0;34m[\u001b[0m\u001b[0;34m'train_error'\u001b[0m\u001b[0;34m]\u001b[0m\u001b[0;34m,\u001b[0m\u001b[0;34m'valid error:'\u001b[0m\u001b[0;34m,\u001b[0m\u001b[0mconfig\u001b[0m\u001b[0;34m[\u001b[0m\u001b[0;34m'valid_error'\u001b[0m\u001b[0;34m]\u001b[0m\u001b[0;34m,\u001b[0m\u001b[0;34m'test err:'\u001b[0m\u001b[0;34m,\u001b[0m\u001b[0mconfig\u001b[0m\u001b[0;34m[\u001b[0m\u001b[0;34m'test_error'\u001b[0m\u001b[0;34m]\u001b[0m\u001b[0;34m)\u001b[0m\u001b[0;34m\u001b[0m\u001b[0m\n\u001b[1;32m     46\u001b[0m         \u001b[0merrs\u001b[0m\u001b[0;34m[\u001b[0m\u001b[0mi\u001b[0m\u001b[0;34m,\u001b[0m\u001b[0mj\u001b[0m\u001b[0;34m]\u001b[0m \u001b[0;34m=\u001b[0m  \u001b[0mconfig\u001b[0m\u001b[0;34m[\u001b[0m\u001b[0;34m'test_error'\u001b[0m\u001b[0;34m]\u001b[0m\u001b[0;34m\u001b[0m\u001b[0m\n",
      "\u001b[0;32m<ipython-input-21-ecb0c47fe7c3>\u001b[0m in \u001b[0;36mload_log\u001b[0;34m(st, model)\u001b[0m\n\u001b[1;32m     31\u001b[0m     \u001b[0mf_pred\u001b[0m\u001b[0;34m=\u001b[0m \u001b[0;34m\"predict.npy\"\u001b[0m\u001b[0;34m\u001b[0m\u001b[0m\n\u001b[1;32m     32\u001b[0m     \u001b[0mf_err\u001b[0m \u001b[0;34m=\u001b[0m \u001b[0;34m\"config.out\"\u001b[0m\u001b[0;34m\u001b[0m\u001b[0m\n\u001b[0;32m---> 33\u001b[0;31m     \u001b[0mpred\u001b[0m \u001b[0;34m=\u001b[0m  \u001b[0mnp\u001b[0m\u001b[0;34m.\u001b[0m\u001b[0mload\u001b[0m\u001b[0;34m(\u001b[0m\u001b[0mdata_path\u001b[0m\u001b[0;34m+\u001b[0m\u001b[0mf_pred\u001b[0m \u001b[0;34m)\u001b[0m\u001b[0;34m\u001b[0m\u001b[0m\n\u001b[0m\u001b[1;32m     34\u001b[0m     \u001b[0;32mwith\u001b[0m \u001b[0mopen\u001b[0m\u001b[0;34m(\u001b[0m\u001b[0mdata_path\u001b[0m\u001b[0;34m+\u001b[0m\u001b[0;34m\"\"\u001b[0m\u001b[0;34m+\u001b[0m\u001b[0mf_err\u001b[0m\u001b[0;34m,\u001b[0m\u001b[0;34m'r'\u001b[0m\u001b[0;34m)\u001b[0m \u001b[0;32mas\u001b[0m \u001b[0mfstream\u001b[0m\u001b[0;34m:\u001b[0m\u001b[0;34m\u001b[0m\u001b[0m\n\u001b[1;32m     35\u001b[0m         \u001b[0mconfig\u001b[0m \u001b[0;34m=\u001b[0m \u001b[0mread_config\u001b[0m\u001b[0;34m(\u001b[0m\u001b[0mfstream\u001b[0m\u001b[0;34m)\u001b[0m\u001b[0;34m\u001b[0m\u001b[0m\n",
      "\u001b[0;32m/home/roseyu/anaconda3/lib/python3.6/site-packages/numpy/lib/npyio.py\u001b[0m in \u001b[0;36mload\u001b[0;34m(file, mmap_mode, allow_pickle, fix_imports, encoding)\u001b[0m\n\u001b[1;32m    368\u001b[0m     \u001b[0mown_fid\u001b[0m \u001b[0;34m=\u001b[0m \u001b[0;32mFalse\u001b[0m\u001b[0;34m\u001b[0m\u001b[0m\n\u001b[1;32m    369\u001b[0m     \u001b[0;32mif\u001b[0m \u001b[0misinstance\u001b[0m\u001b[0;34m(\u001b[0m\u001b[0mfile\u001b[0m\u001b[0;34m,\u001b[0m \u001b[0mbasestring\u001b[0m\u001b[0;34m)\u001b[0m\u001b[0;34m:\u001b[0m\u001b[0;34m\u001b[0m\u001b[0m\n\u001b[0;32m--> 370\u001b[0;31m         \u001b[0mfid\u001b[0m \u001b[0;34m=\u001b[0m \u001b[0mopen\u001b[0m\u001b[0;34m(\u001b[0m\u001b[0mfile\u001b[0m\u001b[0;34m,\u001b[0m \u001b[0;34m\"rb\"\u001b[0m\u001b[0;34m)\u001b[0m\u001b[0;34m\u001b[0m\u001b[0m\n\u001b[0m\u001b[1;32m    371\u001b[0m         \u001b[0mown_fid\u001b[0m \u001b[0;34m=\u001b[0m \u001b[0;32mTrue\u001b[0m\u001b[0;34m\u001b[0m\u001b[0m\n\u001b[1;32m    372\u001b[0m     \u001b[0;32melif\u001b[0m \u001b[0mis_pathlib_path\u001b[0m\u001b[0;34m(\u001b[0m\u001b[0mfile\u001b[0m\u001b[0;34m)\u001b[0m\u001b[0;34m:\u001b[0m\u001b[0;34m\u001b[0m\u001b[0m\n",
      "\u001b[0;31mFileNotFoundError\u001b[0m: [Errno 2] No such file or directory: '/var/tmp/tensorRNN/log/lorenz/09-18-17-11-56-02/TRNN/st_40/predict.npy'"
     ]
    }
   ],
   "source": [
    "time_stamp =\"09-18-17-11-56-02\"\n",
    "exp='lorenz'\n",
    "models =[\"MRNN\", \"LSTM\",\"TRNN\"] #'phased_lstm']#\n",
    "hz_list= [128]\n",
    "lr_list =[2]\n",
    "steps =  [20, 40, 60, 80, 100]\n",
    "\n",
    "\n",
    "import numpy as np\n",
    "%matplotlib inline\n",
    "import matplotlib.pyplot as plt\n",
    "\n",
    "\n",
    "\n",
    "def read_config(fstream):\n",
    "    d = {}\n",
    "    for line in fstream:\n",
    "        line.rstrip()\n",
    "        tokens = line.split('\\t')\n",
    "        for token in tokens:\n",
    "            try:\n",
    "                key, val = token.split(\":\")\n",
    "                d[key] = float(val)                \n",
    "            except ValueError:\n",
    "                'error prop'\n",
    "    return d\n",
    "\n",
    "def load_log(st, model):\n",
    "    data_path = \"/var/tmp/tensorRNN/log/\"+exp+\"/\"+time_stamp+\"/\"+model+\"/\"+\"st_\"+str(st)+\"/\"\n",
    "    print(data_path)\n",
    "    f_pred= \"predict.npy\"\n",
    "    f_err = \"config.out\"\n",
    "    pred =  np.load(data_path+f_pred )\n",
    "    with open(data_path+\"\"+f_err,'r') as fstream:\n",
    "        config = read_config(fstream)\n",
    "    return config, pred\n",
    "\n",
    "errs = np.ones((len(models), len(steps)))\n",
    "i=0\n",
    "for model in models:\n",
    "    j=0\n",
    "    for step in steps:\n",
    "        print('load model {:s}, step'.format(model,step))\n",
    "        config, pred = load_log(step, model)\n",
    "        print('train error:',config['train_error'],'valid error:',config['valid_error'],'test err:',config['test_error'])\n",
    "        errs[i,j] =  config['test_error']\n",
    "        j +=1\n",
    "    i +=1\n"
   ]
  },
  {
   "cell_type": "code",
   "execution_count": 16,
   "metadata": {},
   "outputs": [
    {
     "name": "stdout",
     "output_type": "stream",
     "text": [
      "[[ 0.0395344  0.0575352  0.0579524  0.0606476  0.066126 ]\n",
      " [ 0.041038   0.065417   0.0690443  0.0821315  0.0726326]\n",
      " [ 1.         1.         1.         1.         1.       ]\n",
      " [ 1.         1.         1.         1.         1.       ]]\n"
     ]
    },
    {
     "data": {
      "image/png": "[encoded data removed]",
      "text/plain": [
       "<matplotlib.figure.Figure at 0x7f4d3ac3a978>"
      ]
     },
     "metadata": {},
     "output_type": "display_data"
    }
   ],
   "source": [
    "%matplotlib inline  \n",
    "import matplotlib.pyplot as plt\n",
    "print(errs)\n",
    "\n",
    "plt.plot(steps,errs[0,:])\n",
    "np.save('../result/lstm_lorenz.npy', errs[1,:])"
   ]
  },
  {
   "cell_type": "code",
   "execution_count": 3,
   "metadata": {},
   "outputs": [
    {
     "name": "stdout",
     "output_type": "stream",
     "text": [
      "basic_rnn\n",
      "0.290116404903\n",
      "hz 256 lr 3\n",
      "basic_lstm\n",
      "0.312160490196\n",
      "hz 32 lr 1\n",
      "matrix_rnn\n",
      "0.295931844584\n",
      "hz 32 lr 1\n",
      "tensor_rnn\n",
      "0.275052446295\n",
      "hz 256 lr 4\n"
     ]
    }
   ],
   "source": [
    "np.set_printoptions(precision=3)\n",
    "for k in range(len(models)):\n",
    "    print(models[k])\n",
    "    print(np.min(errs[:,:,k])) #row min--hidden size\n",
    "    i,j = np.unravel_index(np.argmin(errs[:,:,k]),(4,4))\n",
    "    print('hz', hz_list[i], 'lr', lr_list[j])"
   ]
  }
 ],
 "metadata": {
  "kernelspec": {
   "display_name": "Python 3",
   "language": "python",
   "name": "python3"
  },
  "language_info": {
   "codemirror_mode": {
    "name": "ipython",
    "version": 3
   },
   "file_extension": ".py",
   "mimetype": "text/x-python",
   "name": "python",
   "nbconvert_exporter": "python",
   "pygments_lexer": "ipython3",
   "version": "3.6.1"
  }
 },
 "nbformat": 4,
 "nbformat_minor": 2
}
