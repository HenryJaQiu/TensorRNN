{
 "cells": [
  {
   "cell_type": "markdown",
   "metadata": {},
   "source": [
    "## load logistic and lorenz logs"
   ]
  },
  {
   "cell_type": "code",
   "execution_count": 38,
   "metadata": {
    "collapsed": true
   },
   "outputs": [],
   "source": [
    "import seaborn as sns\n",
    "import matplotlib.pyplot as plt\n",
    "%matplotlib notebook"
   ]
  },
  {
   "cell_type": "code",
   "execution_count": 39,
   "metadata": {
    "collapsed": true
   },
   "outputs": [],
   "source": [
    "# fig = plt.figure(figsize=(20,3.5))\n",
    "# ax = plt.gca()\n",
    "\n",
    "def plot_ts(pred):\n",
    "    y_true, y_pred =pred\n",
    "    ax = fig.add_subplot(1, 4, i+1)\n",
    "    ax.plot(y_true[:100,seq_id],'g')\n",
    "    ax.set_ylim([-20,20])\n",
    "    ax = fig.add_subplot(2, 4, i+1)\n",
    "    ax.plot(y_pred[:100,seq_id], 'r')\n",
    "    ax.set_ylim([-20,20])\n",
    "    ax.set_title(model)"
   ]
  },
  {
   "cell_type": "markdown",
   "metadata": {},
   "source": [
    "### load logs for lorenz and print test error"
   ]
  },
  {
   "cell_type": "code",
   "execution_count": 12,
   "metadata": {},
   "outputs": [
    {
     "name": "stdout",
     "output_type": "stream",
     "text": [
      "load model RNN, step\n",
      "/var/tmp/tensorRNN/log/lorenz/09-16-17-23-44-40/RNN/st_20\n",
      "train error: 0.00147697 valid error: 0.00226037 test err: 0.0356949\n",
      "load model RNN, step\n",
      "/var/tmp/tensorRNN/log/lorenz/09-16-17-23-44-40/RNN/st_40\n",
      "train error: 0.0011381 valid error: 0.00443325 test err: 0.0453757\n",
      "load model RNN, step\n",
      "/var/tmp/tensorRNN/log/lorenz/09-16-17-23-44-40/RNN/st_60\n",
      "train error: 0.000822631 valid error: 0.00111262 test err: 0.0509396\n",
      "load model RNN, step\n",
      "/var/tmp/tensorRNN/log/lorenz/09-16-17-23-44-40/RNN/st_80\n",
      "train error: 0.00233249 valid error: 0.00389729 test err: 0.0537472\n",
      "load model RNN, step\n",
      "/var/tmp/tensorRNN/log/lorenz/09-16-17-23-44-40/RNN/st_100\n",
      "train error: 0.000675414 valid error: 0.00158632 test err: 0.0762369\n"
     ]
    }
   ],
   "source": [
    "time_stamp =\"09-16-17-23-44-40\"\n",
    "exp='lorenz'\n",
    "models =[\"RNN\"] #'phased_lstm']#\n",
    "hz_list= [128]\n",
    "lr_list =[2]\n",
    "steps =  [20,40,60,80,100]\n",
    "\n",
    "\n",
    "import numpy as np\n",
    "%matplotlib inline\n",
    "import matplotlib.pyplot as plt\n",
    "\n",
    "\n",
    "\n",
    "def read_config(fstream):\n",
    "    d = {}\n",
    "    for line in fstream:\n",
    "        line.rstrip()\n",
    "        tokens = line.split('\\t')\n",
    "        for token in tokens:\n",
    "            try:\n",
    "                key, val = token.split(\":\")\n",
    "                d[key] = float(val)                \n",
    "            except ValueError:\n",
    "                'error prop'\n",
    "    return d\n",
    "\n",
    "def load_log(st, model):\n",
    "    data_path = \"/var/tmp/tensorRNN/log/\"+exp+\"/\"+time_stamp+\"/\"+model+\"/\"+\"st_\"+str(st)\n",
    "    print(data_path)\n",
    "    f_pred= \"predict.npy\"\n",
    "    f_err = \"config.out\"\n",
    "    pred =  np.load(data_path+f_pred )\n",
    "    with open(data_path+\"\"+f_err,'r') as fstream:\n",
    "        config = read_config(fstream)\n",
    "    return config, pred\n",
    "\n",
    "errs = np.ones((len(models), len(steps)))\n",
    "i=0\n",
    "j=0\n",
    "for model in models:\n",
    "    for step in steps:\n",
    "        print('load model {:s}, step'.format(model,step))\n",
    "        config, pred = load_log(step, model)\n",
    "        print('train error:',config['train_error'],'valid error:',config['valid_error'],'test err:',config['test_error'])\n",
    "        errs[i,j] =  config['test_error']\n",
    "        j +=1\n",
    "    i +=1\n"
   ]
  },
  {
   "cell_type": "code",
   "execution_count": 21,
   "metadata": {},
   "outputs": [
    {
     "name": "stdout",
     "output_type": "stream",
     "text": [
      "[[ 0.0356949  0.0453757  0.0509396  0.0537472  0.0762369]]\n"
     ]
    },
    {
     "data": {
      "image/png": "[encoded data removed]",
      "text/plain": [
       "<matplotlib.figure.Figure at 0x7f554e71e978>"
      ]
     },
     "metadata": {},
     "output_type": "display_data"
    }
   ],
   "source": [
    "%matplotlib inline  \n",
    "import matplotlib.pyplot as plt\n",
    "print(errs)\n",
    "\n",
    "plt.plot(steps,errs[0,:])\n",
    "np.save('../result/rnn_lorenz.npy', errs[0,:])"
   ]
  },
  {
   "cell_type": "code",
   "execution_count": 3,
   "metadata": {},
   "outputs": [
    {
     "name": "stdout",
     "output_type": "stream",
     "text": [
      "basic_rnn\n",
      "0.290116404903\n",
      "hz 256 lr 3\n",
      "basic_lstm\n",
      "0.312160490196\n",
      "hz 32 lr 1\n",
      "matrix_rnn\n",
      "0.295931844584\n",
      "hz 32 lr 1\n",
      "tensor_rnn\n",
      "0.275052446295\n",
      "hz 256 lr 4\n"
     ]
    }
   ],
   "source": [
    "np.set_printoptions(precision=3)\n",
    "for k in range(len(models)):\n",
    "    print(models[k])\n",
    "    print(np.min(errs[:,:,k])) #row min--hidden size\n",
    "    i,j = np.unravel_index(np.argmin(errs[:,:,k]),(4,4))\n",
    "    print('hz', hz_list[i], 'lr', lr_list[j])"
   ]
  }
 ],
 "metadata": {
  "kernelspec": {
   "display_name": "Python 3",
   "language": "python",
   "name": "python3"
  },
  "language_info": {
   "codemirror_mode": {
    "name": "ipython",
    "version": 3
   },
   "file_extension": ".py",
   "mimetype": "text/x-python",
   "name": "python",
   "nbconvert_exporter": "python",
   "pygments_lexer": "ipython3",
   "version": "3.6.1"
  }
 },
 "nbformat": 4,
 "nbformat_minor": 2
}
