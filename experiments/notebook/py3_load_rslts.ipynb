{
 "cells": [
  {
   "cell_type": "markdown",
   "metadata": {},
   "source": [
    "## load logistic and lorenz logs"
   ]
  },
  {
   "cell_type": "code",
   "execution_count": 38,
   "metadata": {
    "collapsed": true
   },
   "outputs": [],
   "source": [
    "import seaborn as sns\n",
    "import matplotlib.pyplot as plt\n",
    "%matplotlib notebook"
   ]
  },
  {
   "cell_type": "code",
   "execution_count": 39,
   "metadata": {},
   "outputs": [],
   "source": [
    "# fig = plt.figure(figsize=(20,3.5))\n",
    "# ax = plt.gca()\n",
    "\n",
    "def plot_ts(pred):\n",
    "    y_true, y_pred =pred\n",
    "    ax = fig.add_subplot(1, 4, i+1)\n",
    "    ax.plot(y_true[:100,seq_id],'g')\n",
    "    ax.set_ylim([-20,20])\n",
    "    ax = fig.add_subplot(2, 4, i+1)\n",
    "    ax.plot(y_pred[:100,seq_id], 'r')\n",
    "    ax.set_ylim([-20,20])\n",
    "    ax.set_title(model)"
   ]
  },
  {
   "cell_type": "markdown",
   "metadata": {},
   "source": [
    "### load logs for lorenz and print test error"
   ]
  },
  {
   "cell_type": "code",
   "execution_count": 3,
   "metadata": {},
   "outputs": [
    {
     "name": "stdout",
     "output_type": "stream",
     "text": [
      "load model phased_lstm, hidden size 32, learning rate 1e-1\n",
      "train error: 0.0666334535888 valid error: 0.0629022839206 test err: 0.0634530523668\n",
      "load model phased_lstm, hidden size 32, learning rate 1e-2\n",
      "train error: 0.064218395853 valid error: 0.0610823549881 test err: 0.0611290274212\n",
      "load model phased_lstm, hidden size 32, learning rate 1e-3\n",
      "train error: 0.0671160686177 valid error: 0.0636726009658 test err: 0.0654946523342\n",
      "load model phased_lstm, hidden size 32, learning rate 1e-4\n",
      "train error: 0.129395608013 valid error: 0.126906792182 test err: 0.105089335216\n",
      "load model phased_lstm, hidden size 64, learning rate 1e-1\n",
      "train error: 0.0677855613446 valid error: 0.0651852338048 test err: 0.065485479904\n",
      "load model phased_lstm, hidden size 64, learning rate 1e-2\n",
      "train error: 0.0655154684239 valid error: 0.0623087467617 test err: 0.0634029915749\n",
      "load model phased_lstm, hidden size 64, learning rate 1e-3\n",
      "train error: 0.0663142645245 valid error: 0.0632882828837 test err: 0.0603891893869\n",
      "load model phased_lstm, hidden size 64, learning rate 1e-4\n",
      "train error: 0.101504848411 valid error: 0.0986293796848 test err: 0.10836768627\n",
      "load model phased_lstm, hidden size 128, learning rate 1e-1\n",
      "train error: 0.0663816529112 valid error: 0.0629489452419 test err: 0.0610114645276\n",
      "load model phased_lstm, hidden size 128, learning rate 1e-2\n",
      "train error: 0.0578438703004 valid error: 0.0563580929348 test err: 0.054023356006\n",
      "load model phased_lstm, hidden size 128, learning rate 1e-3\n",
      "train error: 0.0645472414889 valid error: 0.061499838428 test err: 0.0633179944443\n",
      "load model phased_lstm, hidden size 128, learning rate 1e-4\n",
      "train error: 0.109980095137 valid error: 0.108742255872 test err: 0.0957750456478\n",
      "load model phased_lstm, hidden size 256, learning rate 1e-1\n",
      "train error: 0.0636550472112 valid error: 0.0618310986214 test err: 0.0627786204396\n",
      "load model phased_lstm, hidden size 256, learning rate 1e-2\n",
      "train error: 0.0573831259192 valid error: 0.0565464255902 test err: 0.0563782231741\n",
      "load model phased_lstm, hidden size 256, learning rate 1e-3\n"
     ]
    },
    {
     "ename": "FileNotFoundError",
     "evalue": "[Errno 2] No such file or directory: '/var/tmp/tensorRNN/log/traffic_uci/08-24-17-23-36-53/hz_256/lr_1e-3/phased_lstm/predict.npy'",
     "output_type": "error",
     "traceback": [
      "\u001b[0;31m---------------------------------------------------------------------------\u001b[0m",
      "\u001b[0;31mFileNotFoundError\u001b[0m                         Traceback (most recent call last)",
      "\u001b[0;32m<ipython-input-3-5b2dbcf0eef5>\u001b[0m in \u001b[0;36m<module>\u001b[0;34m()\u001b[0m\n\u001b[1;32m     42\u001b[0m         \u001b[0;32mfor\u001b[0m \u001b[0mmodel\u001b[0m \u001b[0;32min\u001b[0m \u001b[0mmodels\u001b[0m\u001b[0;34m:\u001b[0m\u001b[0;34m\u001b[0m\u001b[0m\n\u001b[1;32m     43\u001b[0m             \u001b[0mprint\u001b[0m\u001b[0;34m(\u001b[0m\u001b[0;34m'load model {:s}, hidden size {:d}, learning rate 1e-{:d}'\u001b[0m\u001b[0;34m.\u001b[0m\u001b[0mformat\u001b[0m\u001b[0;34m(\u001b[0m\u001b[0mmodel\u001b[0m\u001b[0;34m,\u001b[0m \u001b[0mhz\u001b[0m\u001b[0;34m,\u001b[0m \u001b[0mlr\u001b[0m\u001b[0;34m)\u001b[0m\u001b[0;34m)\u001b[0m\u001b[0;34m\u001b[0m\u001b[0m\n\u001b[0;32m---> 44\u001b[0;31m             \u001b[0mconfig\u001b[0m\u001b[0;34m,\u001b[0m \u001b[0mpred\u001b[0m \u001b[0;34m=\u001b[0m \u001b[0mload_log\u001b[0m\u001b[0;34m(\u001b[0m\u001b[0mhz\u001b[0m\u001b[0;34m,\u001b[0m \u001b[0mlr\u001b[0m\u001b[0;34m,\u001b[0m \u001b[0mmodel\u001b[0m\u001b[0;34m)\u001b[0m\u001b[0;34m\u001b[0m\u001b[0m\n\u001b[0m\u001b[1;32m     45\u001b[0m             \u001b[0mprint\u001b[0m\u001b[0;34m(\u001b[0m\u001b[0;34m'train error:'\u001b[0m\u001b[0;34m,\u001b[0m\u001b[0mconfig\u001b[0m\u001b[0;34m[\u001b[0m\u001b[0;34m'train_error'\u001b[0m\u001b[0;34m]\u001b[0m\u001b[0;34m,\u001b[0m\u001b[0;34m'valid error:'\u001b[0m\u001b[0;34m,\u001b[0m\u001b[0mconfig\u001b[0m\u001b[0;34m[\u001b[0m\u001b[0;34m'valid_error'\u001b[0m\u001b[0;34m]\u001b[0m\u001b[0;34m,\u001b[0m\u001b[0;34m'test err:'\u001b[0m\u001b[0;34m,\u001b[0m\u001b[0mconfig\u001b[0m\u001b[0;34m[\u001b[0m\u001b[0;34m'test_error'\u001b[0m\u001b[0;34m]\u001b[0m\u001b[0;34m)\u001b[0m\u001b[0;34m\u001b[0m\u001b[0m\n\u001b[1;32m     46\u001b[0m             \u001b[0merrs\u001b[0m\u001b[0;34m[\u001b[0m\u001b[0mi\u001b[0m\u001b[0;34m,\u001b[0m\u001b[0mj\u001b[0m\u001b[0;34m,\u001b[0m\u001b[0mk\u001b[0m\u001b[0;34m]\u001b[0m \u001b[0;34m=\u001b[0m  \u001b[0mconfig\u001b[0m\u001b[0;34m[\u001b[0m\u001b[0;34m'test_error'\u001b[0m\u001b[0;34m]\u001b[0m\u001b[0;34m\u001b[0m\u001b[0m\n",
      "\u001b[0;32m<ipython-input-3-5b2dbcf0eef5>\u001b[0m in \u001b[0;36mload_log\u001b[0;34m(hz, lr, model)\u001b[0m\n\u001b[1;32m     29\u001b[0m     \u001b[0mf_pred\u001b[0m\u001b[0;34m=\u001b[0m \u001b[0;34m\"predict.npy\"\u001b[0m\u001b[0;34m\u001b[0m\u001b[0m\n\u001b[1;32m     30\u001b[0m     \u001b[0mf_err\u001b[0m \u001b[0;34m=\u001b[0m \u001b[0;34m\"config_error.out\"\u001b[0m\u001b[0;34m\u001b[0m\u001b[0m\n\u001b[0;32m---> 31\u001b[0;31m     \u001b[0mpred\u001b[0m \u001b[0;34m=\u001b[0m  \u001b[0mnp\u001b[0m\u001b[0;34m.\u001b[0m\u001b[0mload\u001b[0m\u001b[0;34m(\u001b[0m\u001b[0mdata_path\u001b[0m\u001b[0;34m+\u001b[0m\u001b[0mf_pred\u001b[0m \u001b[0;34m)\u001b[0m\u001b[0;34m\u001b[0m\u001b[0m\n\u001b[0m\u001b[1;32m     32\u001b[0m     \u001b[0;32mwith\u001b[0m \u001b[0mopen\u001b[0m\u001b[0;34m(\u001b[0m\u001b[0mdata_path\u001b[0m\u001b[0;34m+\u001b[0m\u001b[0;34m\"/\"\u001b[0m\u001b[0;34m+\u001b[0m\u001b[0mf_err\u001b[0m\u001b[0;34m,\u001b[0m\u001b[0;34m'r'\u001b[0m\u001b[0;34m)\u001b[0m \u001b[0;32mas\u001b[0m \u001b[0mfstream\u001b[0m\u001b[0;34m:\u001b[0m\u001b[0;34m\u001b[0m\u001b[0m\n\u001b[1;32m     33\u001b[0m         \u001b[0mconfig\u001b[0m \u001b[0;34m=\u001b[0m \u001b[0mread_config\u001b[0m\u001b[0;34m(\u001b[0m\u001b[0mfstream\u001b[0m\u001b[0;34m)\u001b[0m\u001b[0;34m\u001b[0m\u001b[0m\n",
      "\u001b[0;32m/home/roseyu/anaconda3/lib/python3.6/site-packages/numpy/lib/npyio.py\u001b[0m in \u001b[0;36mload\u001b[0;34m(file, mmap_mode, allow_pickle, fix_imports, encoding)\u001b[0m\n\u001b[1;32m    368\u001b[0m     \u001b[0mown_fid\u001b[0m \u001b[0;34m=\u001b[0m \u001b[0;32mFalse\u001b[0m\u001b[0;34m\u001b[0m\u001b[0m\n\u001b[1;32m    369\u001b[0m     \u001b[0;32mif\u001b[0m \u001b[0misinstance\u001b[0m\u001b[0;34m(\u001b[0m\u001b[0mfile\u001b[0m\u001b[0;34m,\u001b[0m \u001b[0mbasestring\u001b[0m\u001b[0;34m)\u001b[0m\u001b[0;34m:\u001b[0m\u001b[0;34m\u001b[0m\u001b[0m\n\u001b[0;32m--> 370\u001b[0;31m         \u001b[0mfid\u001b[0m \u001b[0;34m=\u001b[0m \u001b[0mopen\u001b[0m\u001b[0;34m(\u001b[0m\u001b[0mfile\u001b[0m\u001b[0;34m,\u001b[0m \u001b[0;34m\"rb\"\u001b[0m\u001b[0;34m)\u001b[0m\u001b[0;34m\u001b[0m\u001b[0m\n\u001b[0m\u001b[1;32m    371\u001b[0m         \u001b[0mown_fid\u001b[0m \u001b[0;34m=\u001b[0m \u001b[0;32mTrue\u001b[0m\u001b[0;34m\u001b[0m\u001b[0m\n\u001b[1;32m    372\u001b[0m     \u001b[0;32melif\u001b[0m \u001b[0mis_pathlib_path\u001b[0m\u001b[0;34m(\u001b[0m\u001b[0mfile\u001b[0m\u001b[0;34m)\u001b[0m\u001b[0;34m:\u001b[0m\u001b[0;34m\u001b[0m\u001b[0m\n",
      "\u001b[0;31mFileNotFoundError\u001b[0m: [Errno 2] No such file or directory: '/var/tmp/tensorRNN/log/traffic_uci/08-24-17-23-36-53/hz_256/lr_1e-3/phased_lstm/predict.npy'"
     ]
    }
   ],
   "source": [
    "time_stamp =\"08-24-17-23-36-53\"\n",
    "exp='traffic_uci'\n",
    "models =['phased_lstm']#[\"basic_rnn\",\"basic_lstm\",\"matrix_rnn\",\"tensor_rnn\"]\n",
    "hz_list= [32, 64, 128, 256]\n",
    "lr_list =[1,2,3,4]\n",
    "\n",
    "\n",
    "import numpy as np\n",
    "%matplotlib inline\n",
    "import matplotlib.pyplot as plt\n",
    "\n",
    "\n",
    "\n",
    "def read_config(fstream):\n",
    "    d = {}\n",
    "    for line in fstream:\n",
    "        line.rstrip()\n",
    "        tokens = line.split('\\t')\n",
    "        for token in tokens:\n",
    "            try:\n",
    "                key, val = token.split(\":\")\n",
    "                d[key] = float(val)                \n",
    "            except ValueError:\n",
    "                'error prop'\n",
    "    return d\n",
    "\n",
    "def load_log(hz, lr, model):\n",
    "    data_path = \"/var/tmp/tensorRNN/log/\"+exp+\"/\"+time_stamp+\"/hz_\"+str(hz)+\"/\"+\"lr_1e-\"+str(lr)+\"/\"+model+\"/\"\n",
    "    f_pred= \"predict.npy\"\n",
    "    f_err = \"config_error.out\"\n",
    "    pred =  np.load(data_path+f_pred )\n",
    "    with open(data_path+\"/\"+f_err,'r') as fstream:\n",
    "        config = read_config(fstream)\n",
    "    return config, pred\n",
    "\n",
    "errs = np.ones((len(hz_list), len(lr_list), len(models)))\n",
    "i=0\n",
    "for hz in hz_list:\n",
    "    j=0\n",
    "    for lr in lr_list:\n",
    "        k=0\n",
    "        for model in models:\n",
    "            print('load model {:s}, hidden size {:d}, learning rate 1e-{:d}'.format(model, hz, lr))\n",
    "            config, pred = load_log(hz, lr, model)\n",
    "            print('train error:',config['train_error'],'valid error:',config['valid_error'],'test err:',config['test_error'])\n",
    "            errs[i,j,k] =  config['test_error']\n",
    "            k +=1\n",
    "        j+=1\n",
    "\n",
    "    i+=1"
   ]
  },
  {
   "cell_type": "code",
   "execution_count": 4,
   "metadata": {},
   "outputs": [
    {
     "name": "stdout",
     "output_type": "stream",
     "text": [
      "0.054023356006\n",
      "hz 128 lr 2\n"
     ]
    }
   ],
   "source": [
    "np.set_printoptions(precision=3)\n",
    "for k in range(len(models)):\n",
    "    print(np.min(errs[:,:,k])) #row min--hidden size\n",
    "    i,j = np.unravel_index(np.argmin(errs[:,:,k]),(4,4))\n",
    "    print('hz', hz_list[i], 'lr', lr_list[j])"
   ]
  }
 ],
 "metadata": {
  "kernelspec": {
   "display_name": "Python 3",
   "language": "python",
   "name": "python3"
  },
  "language_info": {
   "codemirror_mode": {
    "name": "ipython",
    "version": 3
   },
   "file_extension": ".py",
   "mimetype": "text/x-python",
   "name": "python",
   "nbconvert_exporter": "python",
   "pygments_lexer": "ipython3",
   "version": "3.6.1"
  }
 },
 "nbformat": 4,
 "nbformat_minor": 2
}
