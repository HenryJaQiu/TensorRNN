{
 "cells": [
  {
   "cell_type": "markdown",
   "metadata": {},
   "source": [
    "## load traffic and climate logs"
   ]
  },
  {
   "cell_type": "code",
   "execution_count": 38,
   "metadata": {
    "collapsed": true
   },
   "outputs": [],
   "source": [
    "import seaborn as sns\n",
    "import matplotlib.pyplot as plt\n",
    "%matplotlib notebook"
   ]
  },
  {
   "cell_type": "markdown",
   "metadata": {},
   "source": [
    "### load logs and print test error"
   ]
  },
  {
   "cell_type": "code",
   "execution_count": 26,
   "metadata": {
    "scrolled": false
   },
   "outputs": [
    {
     "name": "stdout",
     "output_type": "stream",
     "text": [
      "/tmp/tensorRNN/log/traffic/10-09-17-22-46-45/LSTM/lr-1e-3/ts-12/\n",
      "train error: 0.0785841 test err: 0.0732137\n",
      "/tmp/tensorRNN/log/traffic/10-09-17-22-46-45/MLSTM/lr-1e-3/ts-12/\n",
      "train error: 0.075233 test err: 0.0736874\n",
      "/tmp/tensorRNN/log/traffic/10-09-17-22-46-45/TLSTM/lr-1e-3/ts-12/\n",
      "train error: 0.0644969 test err: 0.0731769\n",
      "/tmp/tensorRNN/log/traffic/10-09-17-22-46-45/LSTM/lr-1e-3/ts-84/\n",
      "train error: 0.0942038 test err: 0.091027\n",
      "/tmp/tensorRNN/log/traffic/10-09-17-22-46-45/MLSTM/lr-1e-3/ts-84/\n",
      "train error: 0.0827003 test err: 0.0851568\n",
      "/tmp/tensorRNN/log/traffic/10-09-17-22-46-45/TLSTM/lr-1e-3/ts-84/\n",
      "train error: 0.0785938 test err: 0.0841647\n",
      "/tmp/tensorRNN/log/traffic/10-09-17-22-46-45/LSTM/lr-1e-3/ts-156/\n",
      "train error: 0.0889405 test err: 0.0906258\n",
      "/tmp/tensorRNN/log/traffic/10-09-17-22-46-45/MLSTM/lr-1e-3/ts-156/\n",
      "train error: 0.0911063 test err: 0.0878277\n",
      "/tmp/tensorRNN/log/traffic/10-09-17-22-46-45/TLSTM/lr-1e-3/ts-156/\n",
      "train error: 0.085764 test err: 0.0875574\n",
      "/tmp/tensorRNN/log/traffic/10-09-17-22-46-45/LSTM/lr-1e-3/ts-228/\n",
      "train error: 0.0886724 test err: 0.093162\n",
      "/tmp/tensorRNN/log/traffic/10-09-17-22-46-45/MLSTM/lr-1e-3/ts-228/\n",
      "train error: 0.109968 test err: 0.114864\n",
      "/tmp/tensorRNN/log/traffic/10-09-17-22-46-45/TLSTM/lr-1e-3/ts-228/\n",
      "train error: 0.0909342 test err: 0.0912317\n",
      "/tmp/tensorRNN/log/traffic/10-09-17-22-46-45/LSTM/lr-1e-3/ts-276/\n",
      "train error: 0.093757 test err: 0.0911721\n",
      "/tmp/tensorRNN/log/traffic/10-09-17-22-46-45/MLSTM/lr-1e-3/ts-276/\n",
      "train error: 0.0911972 test err: 0.0913979\n",
      "/tmp/tensorRNN/log/traffic/10-09-17-22-46-45/TLSTM/lr-1e-3/ts-276/\n",
      "train error: 0.0898128 test err: 0.0942423\n"
     ]
    }
   ],
   "source": [
    "exp='traffic'\n",
    "time_stamp =\"10-09-17-22-46-45\"\n",
    "models =[\"LSTM\",\"MLSTM\",\"TLSTM\"] #'phased_lstm']#\n",
    "hz_list= [16, 32, 64]\n",
    "ts_list = [1, 7 , 13, 19, 23]\n",
    "lr_list =[3]\n",
    "\n",
    "\n",
    "\n",
    "import numpy as np\n",
    "%matplotlib inline\n",
    "import matplotlib.pyplot as plt\n",
    "\n",
    "\n",
    "\n",
    "def read_config(fstream):\n",
    "    d = {}\n",
    "    for line in fstream:\n",
    "        line.rstrip()\n",
    "        tokens = line.split('\\t')\n",
    "        for token in tokens:\n",
    "            try:\n",
    "                key, val = token.split(\":\")\n",
    "                d[key] = float(val)                \n",
    "            except ValueError:\n",
    "                'error prop'\n",
    "    return d\n",
    "\n",
    "def load_log(lr, ts, model):\n",
    "    data_path = \"/tmp/tensorRNN/log/\"+exp+\"/\"+time_stamp+\"/\"+model+\"/\"+\"lr-1e-\"+ str(lr)+\"/ts-\"+ str(ts) +\"/\"\n",
    "    f_pred= \"predict.npy\"\n",
    "    f_err = \"config.out\"\n",
    "    try:\n",
    "        pred =  np.load(data_path+f_pred )\n",
    "        with open(data_path+\"\"+f_err,'r') as fstream:\n",
    "            config = read_config(fstream)\n",
    "        print(data_path)\n",
    "        return config, pred\n",
    "    except FileNotFoundError:\n",
    "        return None, None\n",
    "\n",
    "errs = np.ones((len(ts_list),len(models)))\n",
    "i=0\n",
    "for ts in ts_list:\n",
    "    j=0\n",
    "    for model in models: \n",
    "        k=0\n",
    "        for lr in lr_list:\n",
    "            try:\n",
    "                config, pred = load_log(lr, ts*12, model)\n",
    "                print('train error:',config['train_error'],'test err:',config['test_error'])\n",
    "                errs[i,j] =  config['test_error']\n",
    "            except:\n",
    "                pass\n",
    "            k +=1\n",
    "        j +=1\n",
    "    i +=1\n"
   ]
  },
  {
   "cell_type": "markdown",
   "metadata": {},
   "source": [
    "### Compare different methods"
   ]
  },
  {
   "cell_type": "code",
   "execution_count": 86,
   "metadata": {},
   "outputs": [
    {
     "name": "stdout",
     "output_type": "stream",
     "text": [
      "(5, 3)\n",
      "[[ 0.0732137  0.0736874  0.0731769]\n",
      " [ 0.091027   0.0851568  0.0841647]\n",
      " [ 0.0906258  0.0878277  0.0875574]\n",
      " [ 0.093162   0.114864   0.0912317]\n",
      " [ 0.0911721  0.0913979  0.0942423]]\n"
     ]
    },
    {
     "data": {
      "image/png": "[encoded data removed]",
      "text/plain": [
       "<matplotlib.figure.Figure at 0x7f0d90b58128>"
      ]
     },
     "metadata": {},
     "output_type": "display_data"
    }
   ],
   "source": [
    "%matplotlib inline\n",
    "import matplotlib.pyplot as plt\n",
    "import matplotlib as mpl\n",
    "import seaborn as sns\n",
    "import matplotlib.pyplot as plt\n",
    "from mpl_toolkits.mplot3d import Axes3D\n",
    "\n",
    "params = {\n",
    "   'axes.labelsize': 20,\n",
    "   'font.size': 12,\n",
    "   'legend.fontsize': 15,\n",
    "   'xtick.labelsize': 20,\n",
    "   'ytick.labelsize': 20,\n",
    "   'text.usetex': False,\n",
    "   }\n",
    "mpl.rcParams.update(params)\n",
    "sns.set_style(\"whitegrid\")\n",
    "sns.despine()\n",
    "print(errs.shape)\n",
    "\n",
    "print(errs)\n",
    "xs = np.array([ts for ts in ts_list])\n",
    "plt.plot(xs[:-1], errs[:-1,:])\n",
    "plt.legend(['LSTM','MLSTM','TLSTM'])\n",
    "plt.xlabel('Hour')\n",
    "plt.ylabel('RMSE')\n",
    "\n",
    "np.save('./traffic_model_step.npy',errs)"
   ]
  },
  {
   "cell_type": "markdown",
   "metadata": {},
   "source": [
    "### load test prediction"
   ]
  },
  {
   "cell_type": "code",
   "execution_count": 97,
   "metadata": {},
   "outputs": [
    {
     "name": "stdout",
     "output_type": "stream",
     "text": [
      "rmse 0.0912316915465\n",
      "rmse 0.114863596061\n",
      "rmse 0.0931619659464\n"
     ]
    },
    {
     "data": {
      "text/plain": [
       "<matplotlib.legend.Legend at 0x7f0d9095def0>"
      ]
     },
     "execution_count": 97,
     "metadata": {},
     "output_type": "execute_result"
    },
    {
     "data": {
      "image/png": "[encoded data removed]",
      "text/plain": [
       "<matplotlib.figure.Figure at 0x7f0d913280b8>"
      ]
     },
     "metadata": {},
     "output_type": "display_data"
    }
   ],
   "source": [
    "import numpy as np\n",
    "import sklearn \n",
    "from sklearn.metrics import mean_squared_error\n",
    "\n",
    "\n",
    "def RMSE(y_pred, y_true):\n",
    "    \"\"\"RMSE\"\"\"\n",
    "    t1 = np.linalg.norm(y_pred-y_true)**2 / np.size(y_true)\n",
    "    return np.sqrt(t1)\n",
    "\n",
    "exp=\"traffic\"\n",
    "model=\"MLSTM\"\n",
    "\n",
    "def get_pred(model):\n",
    "    ts= 19\n",
    "    data_path = \"/tmp/tensorRNN/log/\"+exp+\"/\"+time_stamp+\"/\"+model+\"/\"+\"lr-1e-\"+ str(lr)+\"/ts-\"+ str(ts*12) +\"/\"\n",
    "    true, pred = np.load(data_path+'predict.npy')\n",
    "\n",
    "    diff = (true-pred)**2\n",
    "    diff = diff.flatten()\n",
    "    mse = np.sum(diff)/diff.size\n",
    "    val = np.sqrt(mse)\n",
    "\n",
    "    print('rmse', val)\n",
    "    return pred\n",
    "\n",
    "    \n",
    "x1  = get_pred('TLSTM')\n",
    "x2  = get_pred('MLSTM')\n",
    "x3  = get_pred('LSTM')\n",
    "\n",
    "%matplotlib inline\n",
    "import matplotlib.pyplot as plt\n",
    "import matplotlib as mpl\n",
    "import seaborn as sns\n",
    "import matplotlib.pyplot as plt\n",
    "\n",
    "i= 2\n",
    "x = np.arange(0,ts*12)/12\n",
    "fig = plt.figure()\n",
    "ax = fig.gca()\n",
    "ax.plot(x, true[i,:,0],'b',label='True')\n",
    "ax.plot(x, x1[i,:,0],'r-', label='TLSTM')\n",
    "ax.plot(x, x2[i,:,0],'g-',label='MLSTM')\n",
    "ax.plot(x, x3[i,:,0],'y-', label='LSTM')\n",
    "\n",
    "# ax.legend(['True','TLSTM','MLSTM','LSTM'])\n",
    "plt.xlabel('Hour')\n",
    "plt.ylabel('RMSE')\n",
    "ax.legend(loc='lower center', bbox_to_anchor=(0.5, 1.),\n",
    "          ncol=4, fancybox=True, shadow=True)"
   ]
  },
  {
   "cell_type": "markdown",
   "metadata": {},
   "source": [
    "## Load Genz function results"
   ]
  },
  {
   "cell_type": "code",
   "execution_count": 16,
   "metadata": {},
   "outputs": [
    {
     "name": "stdout",
     "output_type": "stream",
     "text": [
      "/var/tmp/tensorRNN/log/f1/10-04-17-19-02-07/genz-f1/LSTM/\n",
      "train error: 0.347011 test err: 0.351472\n",
      "/var/tmp/tensorRNN/log/f1/10-04-17-19-02-07/genz-f1/TLSTM/\n",
      "train error: 0.354349 test err: 0.35702\n",
      "/var/tmp/tensorRNN/log/f2/10-04-17-19-02-07/genz-f2/LSTM/\n",
      "train error: 0.390485 test err: 0.346096\n",
      "/var/tmp/tensorRNN/log/f2/10-04-17-19-02-07/genz-f2/TLSTM/\n",
      "train error: 0.04945 test err: 0.0558077\n",
      "/var/tmp/tensorRNN/log/f3/10-04-17-19-02-07/genz-f3/LSTM/\n",
      "train error: 0.106089 test err: 0.102564\n",
      "/var/tmp/tensorRNN/log/f3/10-04-17-19-02-07/genz-f3/TLSTM/\n",
      "train error: 0.0858084 test err: 0.0852617\n",
      "/var/tmp/tensorRNN/log/f4/10-04-17-19-02-07/genz-f4/LSTM/\n",
      "train error: 0.0721665 test err: 0.0714413\n",
      "/var/tmp/tensorRNN/log/f4/10-04-17-19-02-07/genz-f4/TLSTM/\n",
      "train error: 0.0599616 test err: 0.0618439\n",
      "/var/tmp/tensorRNN/log/f5/10-04-17-19-02-07/genz-f5/LSTM/\n",
      "train error: 0.0563368 test err: 0.0639078\n",
      "/var/tmp/tensorRNN/log/f5/10-04-17-19-02-07/genz-f5/TLSTM/\n",
      "train error: 0.0620569 test err: 0.0695114\n",
      "/var/tmp/tensorRNN/log/f6/10-04-17-19-02-07/genz-f6/LSTM/\n",
      "train error: 0.0255759 test err: 0.0269717\n",
      "/var/tmp/tensorRNN/log/f6/10-04-17-19-02-07/genz-f6/TLSTM/\n",
      "train error: 0.0281984 test err: 0.0264223\n"
     ]
    }
   ],
   "source": [
    "time_stamp =\"10-04-17-19-01-04\"\n",
    "exps= ['f1','f2','f3','f4','f5','f6']\n",
    "models =[\"LSTM\",\"TLSTM\"] #'phased_lstm']#\n",
    "\n",
    "import numpy as np\n",
    "%matplotlib inline\n",
    "import matplotlib.pyplot as plt\n",
    "\n",
    "def read_config(fstream):\n",
    "    d = {}\n",
    "    for line in fstream:\n",
    "        line.rstrip()\n",
    "        tokens = line.split('\\t')\n",
    "        for token in tokens:\n",
    "            try:\n",
    "                key, val = token.split(\":\")\n",
    "                d[key] = float(val)                \n",
    "            except ValueError:\n",
    "                'error prop'\n",
    "    return d\n",
    "\n",
    "def load_log(exp, model):\n",
    "    data_path = \"/var/tmp/tensorRNN/log/\"+exp+\"/10-04-17-19-02-07/genz-\"+exp+\"/\"+model+\"/\"\n",
    "    print(data_path)\n",
    "    f_pred= \"predict.npy\"\n",
    "    f_err = \"config.out\"\n",
    "    pred =  np.load(data_path+f_pred )\n",
    "    with open(data_path+\"\"+f_err,'r') as fstream:\n",
    "        config = read_config(fstream)\n",
    "    return config, pred\n",
    "\n",
    "errs = np.ones((len(exps), len(models)))\n",
    "i=0\n",
    "for exp in exps:\n",
    "    j=0\n",
    "    for model in models:\n",
    "        try:\n",
    "            config, pred = load_log(exp, model)\n",
    "            print('train error:',config['train_error'],'test err:',config['test_error'])\n",
    "            errs[i,j] =  config['test_error']\n",
    "        except FileNotFoundError:\n",
    "            print('not found')\n",
    "            \n",
    "        j +=1\n",
    "    i +=1\n"
   ]
  },
  {
   "cell_type": "code",
   "execution_count": 10,
   "metadata": {},
   "outputs": [
    {
     "ename": "FileNotFoundError",
     "evalue": "[Errno 2] No such file or directory: '/var/tmp/tensorRNN/log/genz/f5/10-09-17-23-17-29/LSTM/predict.npy'",
     "output_type": "error",
     "traceback": [
      "\u001b[0;31m---------------------------------------------------------------------------\u001b[0m",
      "\u001b[0;31mFileNotFoundError\u001b[0m                         Traceback (most recent call last)",
      "\u001b[0;32m<ipython-input-10-0dde19a26fed>\u001b[0m in \u001b[0;36m<module>\u001b[0;34m()\u001b[0m\n\u001b[1;32m     31\u001b[0m \u001b[0mdata_path\u001b[0m \u001b[0;34m=\u001b[0m \u001b[0;34m\"/var/tmp/tensorRNN/log/genz/\"\u001b[0m\u001b[0;34m+\u001b[0m\u001b[0mexp\u001b[0m\u001b[0;34m+\u001b[0m\u001b[0;34m\"/10-09-17-23-17-29\"\u001b[0m\u001b[0;34m+\u001b[0m\u001b[0;34m\"/\"\u001b[0m\u001b[0;34m+\u001b[0m\u001b[0mmodel\u001b[0m\u001b[0;34m+\u001b[0m\u001b[0;34m\"/\"\u001b[0m\u001b[0;34m\u001b[0m\u001b[0m\n\u001b[1;32m     32\u001b[0m \u001b[0;34m\u001b[0m\u001b[0m\n\u001b[0;32m---> 33\u001b[0;31m \u001b[0mtrue\u001b[0m\u001b[0;34m,\u001b[0m \u001b[0mpred\u001b[0m \u001b[0;34m=\u001b[0m \u001b[0mnp\u001b[0m\u001b[0;34m.\u001b[0m\u001b[0mload\u001b[0m\u001b[0;34m(\u001b[0m\u001b[0mdata_path\u001b[0m\u001b[0;34m+\u001b[0m\u001b[0;34m'predict.npy'\u001b[0m\u001b[0;34m)\u001b[0m\u001b[0;34m\u001b[0m\u001b[0m\n\u001b[0m\u001b[1;32m     34\u001b[0m \u001b[0mplt\u001b[0m\u001b[0;34m.\u001b[0m\u001b[0mfigure\u001b[0m\u001b[0;34m(\u001b[0m\u001b[0;34m)\u001b[0m\u001b[0;34m\u001b[0m\u001b[0m\n\u001b[1;32m     35\u001b[0m \u001b[0mplt\u001b[0m\u001b[0;34m.\u001b[0m\u001b[0mplot\u001b[0m\u001b[0;34m(\u001b[0m\u001b[0mtrue\u001b[0m\u001b[0;34m[\u001b[0m\u001b[0mi\u001b[0m\u001b[0;34m,\u001b[0m\u001b[0;34m:\u001b[0m\u001b[0;34m,\u001b[0m\u001b[0;36m0\u001b[0m\u001b[0;34m]\u001b[0m\u001b[0;34m)\u001b[0m\u001b[0;34m\u001b[0m\u001b[0m\n",
      "\u001b[0;32m~/anaconda3/lib/python3.6/site-packages/numpy/lib/npyio.py\u001b[0m in \u001b[0;36mload\u001b[0;34m(file, mmap_mode, allow_pickle, fix_imports, encoding)\u001b[0m\n\u001b[1;32m    368\u001b[0m     \u001b[0mown_fid\u001b[0m \u001b[0;34m=\u001b[0m \u001b[0;32mFalse\u001b[0m\u001b[0;34m\u001b[0m\u001b[0m\n\u001b[1;32m    369\u001b[0m     \u001b[0;32mif\u001b[0m \u001b[0misinstance\u001b[0m\u001b[0;34m(\u001b[0m\u001b[0mfile\u001b[0m\u001b[0;34m,\u001b[0m \u001b[0mbasestring\u001b[0m\u001b[0;34m)\u001b[0m\u001b[0;34m:\u001b[0m\u001b[0;34m\u001b[0m\u001b[0m\n\u001b[0;32m--> 370\u001b[0;31m         \u001b[0mfid\u001b[0m \u001b[0;34m=\u001b[0m \u001b[0mopen\u001b[0m\u001b[0;34m(\u001b[0m\u001b[0mfile\u001b[0m\u001b[0;34m,\u001b[0m \u001b[0;34m\"rb\"\u001b[0m\u001b[0;34m)\u001b[0m\u001b[0;34m\u001b[0m\u001b[0m\n\u001b[0m\u001b[1;32m    371\u001b[0m         \u001b[0mown_fid\u001b[0m \u001b[0;34m=\u001b[0m \u001b[0;32mTrue\u001b[0m\u001b[0;34m\u001b[0m\u001b[0m\n\u001b[1;32m    372\u001b[0m     \u001b[0;32melif\u001b[0m \u001b[0mis_pathlib_path\u001b[0m\u001b[0;34m(\u001b[0m\u001b[0mfile\u001b[0m\u001b[0;34m)\u001b[0m\u001b[0;34m:\u001b[0m\u001b[0;34m\u001b[0m\u001b[0m\n",
      "\u001b[0;31mFileNotFoundError\u001b[0m: [Errno 2] No such file or directory: '/var/tmp/tensorRNN/log/genz/f5/10-09-17-23-17-29/LSTM/predict.npy'"
     ]
    },
    {
     "data": {
      "text/plain": [
       "<matplotlib.figure.Figure at 0x7f4f011388d0>"
      ]
     },
     "metadata": {},
     "output_type": "display_data"
    }
   ],
   "source": [
    "%matplotlib inline\n",
    "import matplotlib.pyplot as plt\n",
    "import matplotlib as mpl\n",
    "import seaborn as sns\n",
    "import matplotlib.pyplot as plt\n",
    "# plotting configuration\n",
    "%matplotlib inline\n",
    "import matplotlib.pyplot as plt\n",
    "import matplotlib as mpl\n",
    "import seaborn as sns\n",
    "import matplotlib.pyplot as plt\n",
    "from mpl_toolkits.mplot3d import Axes3D\n",
    "import numpy as np\n",
    "params = {\n",
    "   'axes.labelsize': 20,\n",
    "   'font.size': 20,\n",
    "   'legend.fontsize': 20,\n",
    "   'xtick.labelsize': 12,\n",
    "   'ytick.labelsize': 12,\n",
    "   'text.usetex': False,\n",
    "   }\n",
    "mpl.rcParams.update(params)\n",
    "sns.set_style(\"whitegrid\")\n",
    "sns.despine()\n",
    "\n",
    "exp = 'f5'\n",
    "\n",
    "i= 4\n",
    "\n",
    "model = 'LSTM'\n",
    "data_path = \"/var/tmp/tensorRNN/log/genz/\"+exp+\"/10-09-17-23-17-29\"+\"/\"+model+\"/\"\n",
    "\n",
    "true, pred = np.load(data_path+'predict.npy')\n",
    "plt.figure()\n",
    "plt.plot(true[i,:,0])\n",
    "\n",
    "plt.figure()\n",
    "plt.plot(pred[i,:,0],'g--',label=model)\n",
    "model = 'TLSTM'\n",
    "data_path = \"/var/tmp/tensorRNN/log/genz/\"+exp+\"/10-09-17-23-17-29\"+\"/\"+model+\"/\"\n",
    "true, pred = np.load(data_path+'predict.npy')\n",
    "plt.plot(pred[i,:,0],'r-',label=model)\n"
   ]
  }
 ],
 "metadata": {
  "kernelspec": {
   "display_name": "Python 3",
   "language": "python",
   "name": "python3"
  },
  "language_info": {
   "codemirror_mode": {
    "name": "ipython",
    "version": 3
   },
   "file_extension": ".py",
   "mimetype": "text/x-python",
   "name": "python",
   "nbconvert_exporter": "python",
   "pygments_lexer": "ipython3",
   "version": "3.6.2"
  }
 },
 "nbformat": 4,
 "nbformat_minor": 2
}
