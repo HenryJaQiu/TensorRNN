{
 "cells": [
  {
   "cell_type": "markdown",
   "metadata": {},
   "source": [
    "## load logistic and lorenz logs"
   ]
  },
  {
   "cell_type": "code",
   "execution_count": 38,
   "metadata": {
    "collapsed": true
   },
   "outputs": [],
   "source": [
    "import seaborn as sns\n",
    "import matplotlib.pyplot as plt\n",
    "%matplotlib notebook"
   ]
  },
  {
   "cell_type": "code",
   "execution_count": 39,
   "metadata": {
    "collapsed": true
   },
   "outputs": [],
   "source": [
    "# fig = plt.figure(figsize=(20,3.5))\n",
    "# ax = plt.gca()\n",
    "\n",
    "def plot_ts(pred):\n",
    "    y_true, y_pred =pred\n",
    "    ax = fig.add_subplot(1, 4, i+1)\n",
    "    ax.plot(y_true[:100,seq_id],'g')\n",
    "    ax.set_ylim([-20,20])\n",
    "    ax = fig.add_subplot(2, 4, i+1)\n",
    "    ax.plot(y_pred[:100,seq_id], 'r')\n",
    "    ax.set_ylim([-20,20])\n",
    "    ax.set_title(model)"
   ]
  },
  {
   "cell_type": "markdown",
   "metadata": {},
   "source": [
    "### load logs and print test error"
   ]
  },
  {
   "cell_type": "code",
   "execution_count": 38,
   "metadata": {
    "scrolled": false
   },
   "outputs": [
    {
     "name": "stdout",
     "output_type": "stream",
     "text": [
      "/tmp/tensorRNN/log/traffic/10-08-17-22-31-34/LSTM/lr-1e-3/ts-12/\n",
      "train error: 0.0647732 test err: 0.0702164\n",
      "/tmp/tensorRNN/log/traffic/10-08-17-22-31-34/LSTM/lr-1e-3/ts-36/\n",
      "train error: 0.155588 test err: 0.152988\n",
      "/tmp/tensorRNN/log/traffic/10-08-17-22-31-34/LSTM/lr-1e-3/ts-84/\n",
      "train error: 0.123547 test err: 0.120307\n",
      "/tmp/tensorRNN/log/traffic/10-08-17-22-31-34/MLSTM/lr-1e-3/ts-12/\n",
      "train error: 0.0668581 test err: 0.0691809\n",
      "/tmp/tensorRNN/log/traffic/10-08-17-22-31-34/MLSTM/lr-1e-3/ts-36/\n",
      "train error: 0.0886787 test err: 0.0800566\n",
      "/tmp/tensorRNN/log/traffic/10-08-17-22-31-34/MLSTM/lr-1e-3/ts-84/\n",
      "train error: 0.12543 test err: 0.125637\n",
      "/tmp/tensorRNN/log/traffic/10-08-17-22-31-34/MLSTM/lr-1e-3/ts-276/\n",
      "train error: 0.0982523 test err: 0.104022\n",
      "/tmp/tensorRNN/log/traffic/10-08-17-22-31-34/TLSTM/lr-1e-3/ts-12/\n",
      "train error: 0.0599713 test err: 0.0698619\n",
      "/tmp/tensorRNN/log/traffic/10-08-17-22-31-34/TLSTM/lr-1e-3/ts-36/\n",
      "train error: 0.0689813 test err: 0.0795333\n",
      "/tmp/tensorRNN/log/traffic/10-08-17-22-31-34/TLSTM/lr-1e-3/ts-84/\n",
      "train error: 0.0873595 test err: 0.0859398\n",
      "/tmp/tensorRNN/log/traffic/10-08-17-22-31-34/TLSTM/lr-1e-3/ts-276/\n",
      "train error: 0.100657 test err: 0.104524\n"
     ]
    }
   ],
   "source": [
    "exp='traffic'\n",
    "time_stamp =\"10-08-17-22-31-34\"\n",
    "models =[\"LSTM\",\"MLSTM\",\"TLSTM\"] #'phased_lstm']#\n",
    "hz_list= [16, 32, 64]\n",
    "ts_list = [12,36, 84, 276]\n",
    "lr_list =[3]\n",
    "\n",
    "\n",
    "\n",
    "import numpy as np\n",
    "%matplotlib inline\n",
    "import matplotlib.pyplot as plt\n",
    "\n",
    "\n",
    "\n",
    "def read_config(fstream):\n",
    "    d = {}\n",
    "    for line in fstream:\n",
    "        line.rstrip()\n",
    "        tokens = line.split('\\t')\n",
    "        for token in tokens:\n",
    "            try:\n",
    "                key, val = token.split(\":\")\n",
    "                d[key] = float(val)                \n",
    "            except ValueError:\n",
    "                'error prop'\n",
    "    return d\n",
    "\n",
    "def load_log(lr, ts, model):\n",
    "    data_path = \"/tmp/tensorRNN/log/\"+exp+\"/\"+time_stamp+\"/\"+model+\"/\"+\"lr-1e-\"+ str(lr)+\"/ts-\"+ str(ts) +\"/\"\n",
    "    f_pred= \"predict.npy\"\n",
    "    f_err = \"config.out\"\n",
    "    try:\n",
    "        pred =  np.load(data_path+f_pred )\n",
    "        with open(data_path+\"\"+f_err,'r') as fstream:\n",
    "            config = read_config(fstream)\n",
    "        print(data_path)\n",
    "        return config, pred\n",
    "    except FileNotFoundError:\n",
    "        return None, None\n",
    "\n",
    "errs = np.ones((len(models), len(hz_list)))\n",
    "i=0\n",
    "for model in models:\n",
    "    j=0\n",
    "    for lr in lr_list:\n",
    "        k=0\n",
    "        for ts in ts_list:\n",
    "            try:\n",
    "                config, pred = load_log(lr, ts, model)\n",
    "                print('train error:',config['train_error'],'test err:',config['test_error'])\n",
    "                errs[i,j] =  config['test_error']\n",
    "            except:\n",
    "                pass\n",
    "            k +=1\n",
    "        j +=1\n",
    "    i +=1\n"
   ]
  },
  {
   "cell_type": "markdown",
   "metadata": {},
   "source": [
    "### load test prediction"
   ]
  },
  {
   "cell_type": "code",
   "execution_count": 37,
   "metadata": {},
   "outputs": [
    {
     "name": "stdout",
     "output_type": "stream",
     "text": [
      "rmse 0.104022536104\n"
     ]
    },
    {
     "data": {
      "text/plain": [
       "[<matplotlib.lines.Line2D at 0x7f31c5ab14a8>]"
      ]
     },
     "execution_count": 37,
     "metadata": {},
     "output_type": "execute_result"
    },
    {
     "data": {
      "image/png": "[encoded data removed]",
      "text/plain": [
       "<matplotlib.figure.Figure at 0x7f31c5ab1128>"
      ]
     },
     "metadata": {},
     "output_type": "display_data"
    }
   ],
   "source": [
    "import numpy as np\n",
    "import sklearn \n",
    "from sklearn.metrics import mean_squared_error\n",
    "\n",
    "\n",
    "def RMSE(y_pred, y_true):\n",
    "    \"\"\"RMSE\"\"\"\n",
    "    t1 = np.linalg.norm(y_pred-y_true)**2 / np.size(y_true)\n",
    "    return np.sqrt(t1)\n",
    "\n",
    "exp=\"traffic\"\n",
    "model=\"MLSTM\"\n",
    "ts=\"276\"\n",
    "data_path = \"/tmp/tensorRNN/log/\"+exp+\"/\"+time_stamp+\"/\"+model+\"/\"+\"lr-1e-\"+ str(lr)+\"/ts-\"+ str(ts) +\"/\"\n",
    "true, pred = np.load(data_path+'predict.npy')\n",
    "\n",
    "diff = (true-pred)**2\n",
    "diff = diff.flatten()\n",
    "mse = np.sum(diff)/diff.size\n",
    "val = np.sqrt(mse)\n",
    "\n",
    "print('rmse', val)\n",
    "\n",
    "%matplotlib inline\n",
    "import matplotlib.pyplot as plt\n",
    "import matplotlib as mpl\n",
    "import seaborn as sns\n",
    "import matplotlib.pyplot as plt\n",
    "\n",
    "i=50\n",
    "plt.plot(true[i,:,0],'b')\n",
    "plt.plot(pred[i,:,0],'r-')"
   ]
  }
 ],
 "metadata": {
  "kernelspec": {
   "display_name": "Python 3",
   "language": "python",
   "name": "python3"
  },
  "language_info": {
   "codemirror_mode": {
    "name": "ipython",
    "version": 3
   },
   "file_extension": ".py",
   "mimetype": "text/x-python",
   "name": "python",
   "nbconvert_exporter": "python",
   "pygments_lexer": "ipython3",
   "version": "3.6.2"
  }
 },
 "nbformat": 4,
 "nbformat_minor": 2
}
