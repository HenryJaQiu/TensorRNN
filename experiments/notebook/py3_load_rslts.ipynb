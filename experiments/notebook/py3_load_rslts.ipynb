{
 "cells": [
  {
   "cell_type": "markdown",
   "metadata": {},
   "source": [
    "## load logistic and lorenz logs"
   ]
  },
  {
   "cell_type": "code",
   "execution_count": 38,
   "metadata": {
    "collapsed": true
   },
   "outputs": [],
   "source": [
    "import seaborn as sns\n",
    "import matplotlib.pyplot as plt\n",
    "%matplotlib notebook"
   ]
  },
  {
   "cell_type": "code",
   "execution_count": 39,
   "metadata": {
    "collapsed": true
   },
   "outputs": [],
   "source": [
    "# fig = plt.figure(figsize=(20,3.5))\n",
    "# ax = plt.gca()\n",
    "\n",
    "def plot_ts(pred):\n",
    "    y_true, y_pred =pred\n",
    "    ax = fig.add_subplot(1, 4, i+1)\n",
    "    ax.plot(y_true[:100,seq_id],'g')\n",
    "    ax.set_ylim([-20,20])\n",
    "    ax = fig.add_subplot(2, 4, i+1)\n",
    "    ax.plot(y_pred[:100,seq_id], 'r')\n",
    "    ax.set_ylim([-20,20])\n",
    "    ax.set_title(model)"
   ]
  },
  {
   "cell_type": "markdown",
   "metadata": {},
   "source": [
    "### load logs for lorenz and print test error"
   ]
  },
  {
   "cell_type": "code",
   "execution_count": 40,
   "metadata": {},
   "outputs": [
    {
     "name": "stdout",
     "output_type": "stream",
     "text": [
      "load model LSTM, hidden_size\n",
      "/var/tmp/tensorRNN/log/lorenz/09-29-17-17-52-47/LSTM/8/1e-1/\n",
      "train error: 0.392867 test err: 0.447346\n",
      "load model LSTM, hidden_size\n",
      "/var/tmp/tensorRNN/log/lorenz/09-29-17-17-52-47/LSTM/8/1e-2/\n",
      "train error: 0.0461032 test err: 0.314293\n",
      "load model LSTM, hidden_size\n",
      "/var/tmp/tensorRNN/log/lorenz/09-29-17-17-52-47/LSTM/8/1e-3/\n",
      "train error: 0.0428238 test err: 0.313333\n",
      "load model LSTM, hidden_size\n",
      "/var/tmp/tensorRNN/log/lorenz/09-29-17-17-52-47/LSTM/16/1e-1/\n",
      "train error: 0.402023 test err: 0.373593\n",
      "load model LSTM, hidden_size\n",
      "/var/tmp/tensorRNN/log/lorenz/09-29-17-17-52-47/LSTM/16/1e-2/\n",
      "train error: 0.040606 test err: 0.279543\n",
      "load model LSTM, hidden_size\n",
      "/var/tmp/tensorRNN/log/lorenz/09-29-17-17-52-47/LSTM/16/1e-3/\n",
      "train error: 0.0497216 test err: 0.251171\n",
      "load model LSTM, hidden_size\n",
      "/var/tmp/tensorRNN/log/lorenz/09-29-17-17-52-47/LSTM/32/1e-1/\n",
      "train error: 0.0419611 test err: 0.32877\n",
      "load model LSTM, hidden_size\n",
      "/var/tmp/tensorRNN/log/lorenz/09-29-17-17-52-47/LSTM/32/1e-2/\n",
      "train error: 0.0286643 test err: 0.330037\n",
      "load model LSTM, hidden_size\n",
      "/var/tmp/tensorRNN/log/lorenz/09-29-17-17-52-47/LSTM/32/1e-3/\n",
      "train error: 0.0569421 test err: 0.27523\n",
      "load model HOLSTM, hidden_size\n",
      "/var/tmp/tensorRNN/log/lorenz/09-29-17-17-52-47/HOLSTM/8/1e-1/\n",
      "train error: 0.085191 test err: 0.350972\n",
      "load model HOLSTM, hidden_size\n",
      "/var/tmp/tensorRNN/log/lorenz/09-29-17-17-52-47/HOLSTM/8/1e-2/\n",
      "train error: 0.0998043 test err: 0.326612\n",
      "load model HOLSTM, hidden_size\n",
      "/var/tmp/tensorRNN/log/lorenz/09-29-17-17-52-47/HOLSTM/8/1e-3/\n",
      "train error: 0.0736029 test err: 0.298071\n",
      "load model HOLSTM, hidden_size\n",
      "/var/tmp/tensorRNN/log/lorenz/09-29-17-17-52-47/HOLSTM/16/1e-1/\n",
      "train error: 0.0742966 test err: 0.352477\n",
      "load model HOLSTM, hidden_size\n",
      "/var/tmp/tensorRNN/log/lorenz/09-29-17-17-52-47/HOLSTM/16/1e-2/\n",
      "train error: 0.0702676 test err: 0.338532\n",
      "load model HOLSTM, hidden_size\n",
      "/var/tmp/tensorRNN/log/lorenz/09-29-17-17-52-47/HOLSTM/16/1e-3/\n",
      "train error: 0.0684034 test err: 0.297537\n",
      "load model HOLSTM, hidden_size\n",
      "/var/tmp/tensorRNN/log/lorenz/09-29-17-17-52-47/HOLSTM/32/1e-1/\n",
      "train error: 0.070414 test err: 0.347803\n",
      "load model HOLSTM, hidden_size\n",
      "/var/tmp/tensorRNN/log/lorenz/09-29-17-17-52-47/HOLSTM/32/1e-2/\n",
      "train error: 0.061964 test err: 0.342273\n",
      "load model HOLSTM, hidden_size\n",
      "/var/tmp/tensorRNN/log/lorenz/09-29-17-17-52-47/HOLSTM/32/1e-3/\n",
      "train error: 0.0717696 test err: 0.291966\n"
     ]
    }
   ],
   "source": [
    "time_stamp =\"09-29-17-17-52-47\"\n",
    "exp='lorenz'\n",
    "models =[\"LSTM\",\"HOLSTM\"] #'phased_lstm']#\n",
    "hz_list= [8,16, 32]\n",
    "lr_list =[1,2,3]\n",
    "\n",
    "\n",
    "\n",
    "import numpy as np\n",
    "%matplotlib inline\n",
    "import matplotlib.pyplot as plt\n",
    "\n",
    "\n",
    "\n",
    "def read_config(fstream):\n",
    "    d = {}\n",
    "    for line in fstream:\n",
    "        line.rstrip()\n",
    "        tokens = line.split('\\t')\n",
    "        for token in tokens:\n",
    "            try:\n",
    "                key, val = token.split(\":\")\n",
    "                d[key] = float(val)                \n",
    "            except ValueError:\n",
    "                'error prop'\n",
    "    return d\n",
    "\n",
    "def load_log(hz,lr, model):\n",
    "    data_path = \"/var/tmp/tensorRNN/log/\"+exp+\"/\"+time_stamp+\"/\"+model+\"/\"+str(hz)+\"/\"+ \"1e-\"+str(lr)+\"/\"\n",
    "    print(data_path)\n",
    "    f_pred= \"predict.npy\"\n",
    "    f_err = \"config.out\"\n",
    "    pred =  np.load(data_path+f_pred )\n",
    "    with open(data_path+\"\"+f_err,'r') as fstream:\n",
    "        config = read_config(fstream)\n",
    "    return config, pred\n",
    "\n",
    "errs = np.ones((len(models), len(hz_list)))\n",
    "i=0\n",
    "for model in models:\n",
    "    j=0\n",
    "    for hz in hz_list:\n",
    "        k=0\n",
    "        for lr in lr_list:\n",
    "            print('load model {:s}, hidden_size'.format(model,hz))\n",
    "            config, pred = load_log(hz, lr, model)\n",
    "            print('train error:',config['train_error'],'test err:',config['test_error'])\n",
    "            errs[i,j] =  config['test_error']\n",
    "            k +=1\n",
    "        j +=1\n",
    "    i +=1\n"
   ]
  },
  {
   "cell_type": "markdown",
   "metadata": {},
   "source": [
    "### load seq-2-seq logs"
   ]
  },
  {
   "cell_type": "code",
   "execution_count": 34,
   "metadata": {},
   "outputs": [
    {
     "name": "stdout",
     "output_type": "stream",
     "text": [
      "(100, 96, 3)\n",
      "rmse 0.277497787085\n",
      "[ 0.42860848  0.43600047  0.44891748  0.47145543  0.51061326  0.57776546\n",
      "  0.68838942  0.84905338  1.          0.95244271]\n",
      "[ 0.43363535  0.43111402  0.45123914  0.4866333   0.54278558  0.62826616\n",
      "  0.75636095  0.93828505  0.97565812  0.8407492 ]\n"
     ]
    }
   ],
   "source": [
    "import numpy as np\n",
    "import sklearn \n",
    "from sklearn.metrics import mean_squared_error\n",
    "\n",
    "\n",
    "def RMSE(y_pred, y_true):\n",
    "    \"\"\"RMSE\"\"\"\n",
    "    t1 = np.linalg.norm(y_pred-y_true)**2 / np.size(y_true)\n",
    "    return np.sqrt(t1)\n",
    "\n",
    "data_path = \"/var/tmp/tensorRNN/log/lorenz/09-28-17-14-12-08/LSTM/32/\"\n",
    "true, pred = np.load(data_path+'predict.npy')\n",
    "\n",
    "diff = (true-pred)**2\n",
    "diff = diff.flatten()\n",
    "mse = np.sum(diff)/diff.size\n",
    "val = np.sqrt(mse)\n",
    "# true_reshape = np.reshape(true,(true.shape[0],-1))\n",
    "# pred_reshape = np.reshape(pred,(pred.shape[0],-1))\n",
    "# val = RMSE(true_reshape, pred_reshape)\n",
    "\n",
    "print('rmse', val)\n",
    "print(true[0,:10,0])\n",
    "print(pred[0,:10,0])"
   ]
  }
 ],
 "metadata": {
  "kernelspec": {
   "display_name": "Python 3",
   "language": "python",
   "name": "python3"
  },
  "language_info": {
   "codemirror_mode": {
    "name": "ipython",
    "version": 3
   },
   "file_extension": ".py",
   "mimetype": "text/x-python",
   "name": "python",
   "nbconvert_exporter": "python",
   "pygments_lexer": "ipython3",
   "version": "3.6.1"
  }
 },
 "nbformat": 4,
 "nbformat_minor": 2
}
