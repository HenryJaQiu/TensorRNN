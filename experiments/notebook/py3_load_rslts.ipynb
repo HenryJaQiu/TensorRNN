{
 "cells": [
  {
   "cell_type": "markdown",
   "metadata": {},
   "source": [
    "## load logistic and lorenz logs"
   ]
  },
  {
   "cell_type": "code",
   "execution_count": 38,
   "metadata": {
    "collapsed": true
   },
   "outputs": [],
   "source": [
    "import seaborn as sns\n",
    "import matplotlib.pyplot as plt\n",
    "%matplotlib notebook"
   ]
  },
  {
   "cell_type": "code",
   "execution_count": 39,
   "metadata": {
    "collapsed": true
   },
   "outputs": [],
   "source": [
    "# fig = plt.figure(figsize=(20,3.5))\n",
    "# ax = plt.gca()\n",
    "\n",
    "def plot_ts(pred):\n",
    "    y_true, y_pred =pred\n",
    "    ax = fig.add_subplot(1, 4, i+1)\n",
    "    ax.plot(y_true[:100,seq_id],'g')\n",
    "    ax.set_ylim([-20,20])\n",
    "    ax = fig.add_subplot(2, 4, i+1)\n",
    "    ax.plot(y_pred[:100,seq_id], 'r')\n",
    "    ax.set_ylim([-20,20])\n",
    "    ax.set_title(model)"
   ]
  },
  {
   "cell_type": "markdown",
   "metadata": {},
   "source": [
    "### load logs for lorenz and print test error"
   ]
  },
  {
   "cell_type": "code",
   "execution_count": 38,
   "metadata": {},
   "outputs": [
    {
     "name": "stdout",
     "output_type": "stream",
     "text": [
      "load model LSTM, hidden_size\n",
      "/var/tmp/tensorRNN/log/lorenz/09-29-17-00-20-42/LSTM/8/\n",
      "train error: 0.122932 test err: 0.195635\n",
      "load model LSTM, hidden_size\n",
      "/var/tmp/tensorRNN/log/lorenz/09-29-17-00-20-42/LSTM/32/\n",
      "train error: 0.0762027 test err: 0.237603\n",
      "load model LSTM, hidden_size\n",
      "/var/tmp/tensorRNN/log/lorenz/09-29-17-00-20-42/LSTM/64/\n",
      "train error: 0.175056 test err: 0.200092\n",
      "load model LSTM, hidden_size\n",
      "/var/tmp/tensorRNN/log/lorenz/09-29-17-00-20-42/LSTM/128/\n",
      "train error: 0.0961889 test err: 0.12715\n",
      "load model HORNN, hidden_size\n",
      "/var/tmp/tensorRNN/log/lorenz/09-29-17-00-20-42/HORNN/8/\n",
      "train error: 0.192373 test err: 0.238054\n",
      "load model HORNN, hidden_size\n",
      "/var/tmp/tensorRNN/log/lorenz/09-29-17-00-20-42/HORNN/32/\n",
      "train error: 0.211575 test err: 0.238745\n",
      "load model HORNN, hidden_size\n",
      "/var/tmp/tensorRNN/log/lorenz/09-29-17-00-20-42/HORNN/64/\n",
      "train error: 0.23662 test err: 0.28629\n",
      "load model HORNN, hidden_size\n",
      "/var/tmp/tensorRNN/log/lorenz/09-29-17-00-20-42/HORNN/128/\n"
     ]
    },
    {
     "ename": "FileNotFoundError",
     "evalue": "[Errno 2] No such file or directory: '/var/tmp/tensorRNN/log/lorenz/09-29-17-00-20-42/HORNN/128/predict.npy'",
     "output_type": "error",
     "traceback": [
      "\u001b[0;31m---------------------------------------------------------------------------\u001b[0m",
      "\u001b[0;31mFileNotFoundError\u001b[0m                         Traceback (most recent call last)",
      "\u001b[0;32m<ipython-input-38-76fad5015ee3>\u001b[0m in \u001b[0;36m<module>\u001b[0;34m()\u001b[0m\n\u001b[1;32m     42\u001b[0m     \u001b[0;32mfor\u001b[0m \u001b[0mhz\u001b[0m \u001b[0;32min\u001b[0m \u001b[0mhz_list\u001b[0m\u001b[0;34m:\u001b[0m\u001b[0;34m\u001b[0m\u001b[0m\n\u001b[1;32m     43\u001b[0m         \u001b[0mprint\u001b[0m\u001b[0;34m(\u001b[0m\u001b[0;34m'load model {:s}, hidden_size'\u001b[0m\u001b[0;34m.\u001b[0m\u001b[0mformat\u001b[0m\u001b[0;34m(\u001b[0m\u001b[0mmodel\u001b[0m\u001b[0;34m,\u001b[0m\u001b[0mhz\u001b[0m\u001b[0;34m)\u001b[0m\u001b[0;34m)\u001b[0m\u001b[0;34m\u001b[0m\u001b[0m\n\u001b[0;32m---> 44\u001b[0;31m         \u001b[0mconfig\u001b[0m\u001b[0;34m,\u001b[0m \u001b[0mpred\u001b[0m \u001b[0;34m=\u001b[0m \u001b[0mload_log\u001b[0m\u001b[0;34m(\u001b[0m\u001b[0mhz\u001b[0m\u001b[0;34m,\u001b[0m \u001b[0mmodel\u001b[0m\u001b[0;34m)\u001b[0m\u001b[0;34m\u001b[0m\u001b[0m\n\u001b[0m\u001b[1;32m     45\u001b[0m         \u001b[0mprint\u001b[0m\u001b[0;34m(\u001b[0m\u001b[0;34m'train error:'\u001b[0m\u001b[0;34m,\u001b[0m\u001b[0mconfig\u001b[0m\u001b[0;34m[\u001b[0m\u001b[0;34m'train_error'\u001b[0m\u001b[0;34m]\u001b[0m\u001b[0;34m,\u001b[0m\u001b[0;34m'test err:'\u001b[0m\u001b[0;34m,\u001b[0m\u001b[0mconfig\u001b[0m\u001b[0;34m[\u001b[0m\u001b[0;34m'test_error'\u001b[0m\u001b[0;34m]\u001b[0m\u001b[0;34m)\u001b[0m\u001b[0;34m\u001b[0m\u001b[0m\n\u001b[1;32m     46\u001b[0m         \u001b[0merrs\u001b[0m\u001b[0;34m[\u001b[0m\u001b[0mi\u001b[0m\u001b[0;34m,\u001b[0m\u001b[0mj\u001b[0m\u001b[0;34m]\u001b[0m \u001b[0;34m=\u001b[0m  \u001b[0mconfig\u001b[0m\u001b[0;34m[\u001b[0m\u001b[0;34m'test_error'\u001b[0m\u001b[0;34m]\u001b[0m\u001b[0;34m\u001b[0m\u001b[0m\n",
      "\u001b[0;32m<ipython-input-38-76fad5015ee3>\u001b[0m in \u001b[0;36mload_log\u001b[0;34m(hz, model)\u001b[0m\n\u001b[1;32m     31\u001b[0m     \u001b[0mf_pred\u001b[0m\u001b[0;34m=\u001b[0m \u001b[0;34m\"predict.npy\"\u001b[0m\u001b[0;34m\u001b[0m\u001b[0m\n\u001b[1;32m     32\u001b[0m     \u001b[0mf_err\u001b[0m \u001b[0;34m=\u001b[0m \u001b[0;34m\"config.out\"\u001b[0m\u001b[0;34m\u001b[0m\u001b[0m\n\u001b[0;32m---> 33\u001b[0;31m     \u001b[0mpred\u001b[0m \u001b[0;34m=\u001b[0m  \u001b[0mnp\u001b[0m\u001b[0;34m.\u001b[0m\u001b[0mload\u001b[0m\u001b[0;34m(\u001b[0m\u001b[0mdata_path\u001b[0m\u001b[0;34m+\u001b[0m\u001b[0mf_pred\u001b[0m \u001b[0;34m)\u001b[0m\u001b[0;34m\u001b[0m\u001b[0m\n\u001b[0m\u001b[1;32m     34\u001b[0m     \u001b[0;32mwith\u001b[0m \u001b[0mopen\u001b[0m\u001b[0;34m(\u001b[0m\u001b[0mdata_path\u001b[0m\u001b[0;34m+\u001b[0m\u001b[0;34m\"\"\u001b[0m\u001b[0;34m+\u001b[0m\u001b[0mf_err\u001b[0m\u001b[0;34m,\u001b[0m\u001b[0;34m'r'\u001b[0m\u001b[0;34m)\u001b[0m \u001b[0;32mas\u001b[0m \u001b[0mfstream\u001b[0m\u001b[0;34m:\u001b[0m\u001b[0;34m\u001b[0m\u001b[0m\n\u001b[1;32m     35\u001b[0m         \u001b[0mconfig\u001b[0m \u001b[0;34m=\u001b[0m \u001b[0mread_config\u001b[0m\u001b[0;34m(\u001b[0m\u001b[0mfstream\u001b[0m\u001b[0;34m)\u001b[0m\u001b[0;34m\u001b[0m\u001b[0m\n",
      "\u001b[0;32m/home/roseyu/anaconda3/lib/python3.6/site-packages/numpy/lib/npyio.py\u001b[0m in \u001b[0;36mload\u001b[0;34m(file, mmap_mode, allow_pickle, fix_imports, encoding)\u001b[0m\n\u001b[1;32m    368\u001b[0m     \u001b[0mown_fid\u001b[0m \u001b[0;34m=\u001b[0m \u001b[0;32mFalse\u001b[0m\u001b[0;34m\u001b[0m\u001b[0m\n\u001b[1;32m    369\u001b[0m     \u001b[0;32mif\u001b[0m \u001b[0misinstance\u001b[0m\u001b[0;34m(\u001b[0m\u001b[0mfile\u001b[0m\u001b[0;34m,\u001b[0m \u001b[0mbasestring\u001b[0m\u001b[0;34m)\u001b[0m\u001b[0;34m:\u001b[0m\u001b[0;34m\u001b[0m\u001b[0m\n\u001b[0;32m--> 370\u001b[0;31m         \u001b[0mfid\u001b[0m \u001b[0;34m=\u001b[0m \u001b[0mopen\u001b[0m\u001b[0;34m(\u001b[0m\u001b[0mfile\u001b[0m\u001b[0;34m,\u001b[0m \u001b[0;34m\"rb\"\u001b[0m\u001b[0;34m)\u001b[0m\u001b[0;34m\u001b[0m\u001b[0m\n\u001b[0m\u001b[1;32m    371\u001b[0m         \u001b[0mown_fid\u001b[0m \u001b[0;34m=\u001b[0m \u001b[0;32mTrue\u001b[0m\u001b[0;34m\u001b[0m\u001b[0m\n\u001b[1;32m    372\u001b[0m     \u001b[0;32melif\u001b[0m \u001b[0mis_pathlib_path\u001b[0m\u001b[0;34m(\u001b[0m\u001b[0mfile\u001b[0m\u001b[0;34m)\u001b[0m\u001b[0;34m:\u001b[0m\u001b[0;34m\u001b[0m\u001b[0m\n",
      "\u001b[0;31mFileNotFoundError\u001b[0m: [Errno 2] No such file or directory: '/var/tmp/tensorRNN/log/lorenz/09-29-17-00-20-42/HORNN/128/predict.npy'"
     ]
    }
   ],
   "source": [
    "time_stamp =\"09-29-17-00-20-42\"\n",
    "exp='lorenz'\n",
    "models =[\"LSTM\",\"HORNN\",\"TRNN\"] #'phased_lstm']#\n",
    "hz_list= [8, 32, 64, 128]\n",
    "lr_list =[2]\n",
    "\n",
    "\n",
    "\n",
    "import numpy as np\n",
    "%matplotlib inline\n",
    "import matplotlib.pyplot as plt\n",
    "\n",
    "\n",
    "\n",
    "def read_config(fstream):\n",
    "    d = {}\n",
    "    for line in fstream:\n",
    "        line.rstrip()\n",
    "        tokens = line.split('\\t')\n",
    "        for token in tokens:\n",
    "            try:\n",
    "                key, val = token.split(\":\")\n",
    "                d[key] = float(val)                \n",
    "            except ValueError:\n",
    "                'error prop'\n",
    "    return d\n",
    "\n",
    "def load_log(hz, model):\n",
    "    data_path = \"/var/tmp/tensorRNN/log/\"+exp+\"/\"+time_stamp+\"/\"+model+\"/\"+str(hz)+\"/\"\n",
    "    print(data_path)\n",
    "    f_pred= \"predict.npy\"\n",
    "    f_err = \"config.out\"\n",
    "    pred =  np.load(data_path+f_pred )\n",
    "    with open(data_path+\"\"+f_err,'r') as fstream:\n",
    "        config = read_config(fstream)\n",
    "    return config, pred\n",
    "\n",
    "errs = np.ones((len(models), len(hz_list)))\n",
    "i=0\n",
    "for model in models:\n",
    "    j=0\n",
    "    for hz in hz_list:\n",
    "        print('load model {:s}, hidden_size'.format(model,hz))\n",
    "        config, pred = load_log(hz, model)\n",
    "        print('train error:',config['train_error'],'test err:',config['test_error'])\n",
    "        errs[i,j] =  config['test_error']\n",
    "        j +=1\n",
    "    i +=1\n"
   ]
  },
  {
   "cell_type": "markdown",
   "metadata": {},
   "source": [
    "### load seq-2-seq logs"
   ]
  },
  {
   "cell_type": "code",
   "execution_count": 34,
   "metadata": {},
   "outputs": [
    {
     "name": "stdout",
     "output_type": "stream",
     "text": [
      "(100, 96, 3)\n",
      "rmse 0.277497787085\n",
      "[ 0.42860848  0.43600047  0.44891748  0.47145543  0.51061326  0.57776546\n",
      "  0.68838942  0.84905338  1.          0.95244271]\n",
      "[ 0.43363535  0.43111402  0.45123914  0.4866333   0.54278558  0.62826616\n",
      "  0.75636095  0.93828505  0.97565812  0.8407492 ]\n"
     ]
    }
   ],
   "source": [
    "import numpy as np\n",
    "import sklearn \n",
    "from sklearn.metrics import mean_squared_error\n",
    "\n",
    "\n",
    "def RMSE(y_pred, y_true):\n",
    "    \"\"\"RMSE\"\"\"\n",
    "    t1 = np.linalg.norm(y_pred-y_true)**2 / np.size(y_true)\n",
    "    return np.sqrt(t1)\n",
    "\n",
    "data_path = \"/var/tmp/tensorRNN/log/lorenz/09-28-17-14-12-08/LSTM/32/\"\n",
    "true, pred = np.load(data_path+'predict.npy')\n",
    "\n",
    "diff = (true-pred)**2\n",
    "diff = diff.flatten()\n",
    "mse = np.sum(diff)/diff.size\n",
    "val = np.sqrt(mse)\n",
    "# true_reshape = np.reshape(true,(true.shape[0],-1))\n",
    "# pred_reshape = np.reshape(pred,(pred.shape[0],-1))\n",
    "# val = RMSE(true_reshape, pred_reshape)\n",
    "\n",
    "print('rmse', val)\n",
    "print(true[0,:10,0])\n",
    "print(pred[0,:10,0])"
   ]
  }
 ],
 "metadata": {
  "kernelspec": {
   "display_name": "Python 3",
   "language": "python",
   "name": "python3"
  },
  "language_info": {
   "codemirror_mode": {
    "name": "ipython",
    "version": 3
   },
   "file_extension": ".py",
   "mimetype": "text/x-python",
   "name": "python",
   "nbconvert_exporter": "python",
   "pygments_lexer": "ipython3",
   "version": "3.6.1"
  }
 },
 "nbformat": 4,
 "nbformat_minor": 2
}
