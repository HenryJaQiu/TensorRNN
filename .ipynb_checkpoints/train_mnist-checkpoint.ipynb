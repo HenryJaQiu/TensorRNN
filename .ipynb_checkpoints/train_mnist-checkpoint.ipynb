{
 "cells": [
  {
   "cell_type": "code",
   "execution_count": null,
   "metadata": {
    "collapsed": false
   },
   "outputs": [],
   "source": [
    "'''\n",
    "testing notebook for TensorNet-TF \n",
    "Github URL: https://github.com/timgaripov/TensorNet-TF\n",
    "Local: lisbon:/home/roseyu/Python/TensorNet-TF\n",
    "'''\n",
    "import sys\n",
    "sys.path.append(\"/home/roseyu/Python/TensorNet-TF\")\n",
    "import tensornet"
   ]
  },
  {
   "cell_type": "code",
   "execution_count": null,
   "metadata": {
    "collapsed": false
   },
   "outputs": [],
   "source": [
    "'''\n",
    "MNIST dataset\n",
    "'''\n",
    "from tensorflow.examples.tutorials.mnist import input_data\n",
    "mnist = input_data.read_data_sets('MNIST_data', one_hot=True)"
   ]
  },
  {
   "cell_type": "code",
   "execution_count": 16,
   "metadata": {
    "collapsed": false
   },
   "outputs": [
    {
     "ename": "ImportError",
     "evalue": "No module named tensornet.net",
     "output_type": "error",
     "traceback": [
      "\u001b[1;31m---------------------------------------------------------------------------\u001b[0m",
      "\u001b[1;31mImportError\u001b[0m                               Traceback (most recent call last)",
      "\u001b[1;32m<ipython-input-16-0317ff6d6db6>\u001b[0m in \u001b[0;36m<module>\u001b[1;34m()\u001b[0m\n\u001b[0;32m     12\u001b[0m \u001b[1;32mimport\u001b[0m \u001b[0mtensorflow\u001b[0m \u001b[1;32mas\u001b[0m \u001b[0mtf\u001b[0m\u001b[1;33m\u001b[0m\u001b[0m\n\u001b[0;32m     13\u001b[0m \u001b[1;33m\u001b[0m\u001b[0m\n\u001b[1;32m---> 14\u001b[1;33m \u001b[1;32mimport\u001b[0m \u001b[0mtensornet\u001b[0m\u001b[1;33m.\u001b[0m\u001b[0mnet\u001b[0m\u001b[1;33m\u001b[0m\u001b[0m\n\u001b[0m",
      "\u001b[1;31mImportError\u001b[0m: No module named tensornet.net"
     ]
    }
   ],
   "source": [
    "from __future__ import absolute_import\n",
    "from __future__ import division\n",
    "from __future__ import print_function\n",
    "import os\n",
    "import os.path\n",
    "import datetime\n",
    "import shutil\n",
    "import time\n",
    "import tensorflow.python.platform\n",
    "import numpy as np\n",
    "from six.moves import xrange  # pylint: disable=redefined-builtin\n",
    "import tensorflow as tf\n",
    "\n",
    "import tensornet"
   ]
  },
  {
   "cell_type": "code",
   "execution_count": 14,
   "metadata": {
    "collapsed": false
   },
   "outputs": [
    {
     "data": {
      "text/plain": [
       "numpy.ndarray"
      ]
     },
     "execution_count": 14,
     "metadata": {},
     "output_type": "execute_result"
    }
   ],
   "source": [
    "\n",
    "start = datetime.datetime.now()\n",
    "start_str = start.strftime('%d-%m-%Y_%H_%M')\n",
    "#train, validation = input_data.read_data_sets(FLAGS.data_dir)\n",
    "\n",
    "train = mnist.train\n",
    "validation = mnist.valid\n",
    "\n",
    "# Tell TensorFlow that the model will be built into the default Graph.\n",
    "with tf.Graph().as_default():\n",
    "    net.build(extra_opts)\n",
    "    #Precision summaries\n",
    "    precision_train = tf.Variable(0.0, trainable=False, name='precision_train')\n",
    "    precision_validation = tf.Variable(0.0, trainable=False, name='precision_validation')\n",
    "\n",
    "    precision_train_summary = tf.scalar_summary('precision/train',\n",
    "                                                precision_train,\n",
    "                                                name='summary/precision/train')\n",
    "\n",
    "    precision_validation_summary = tf.scalar_summary('precision/validation',\n",
    "                                                     precision_validation,\n",
    "                                                     name='summary/precision/validation')                                                                \n",
    "    graph = tf.get_default_graph()\n",
    "    loss = graph.get_tensor_by_name('loss:0')\n",
    "    train_op = graph.get_tensor_by_name('train_op:0')\n",
    "    correct_count = graph.get_tensor_by_name('correct_count:0')\n",
    "    #Create summary stuff        \n",
    "    regular_summaries_names = ['loss', 'learning_rate']\n",
    "    regular_summaries_list = []\n",
    "    for name in regular_summaries_names:\n",
    "        summary = graph.get_tensor_by_name('summary/' + name + ':0')            \n",
    "        regular_summaries_list.append(summary)\n",
    "    regular_summaries = tf.merge_summary(regular_summaries_list, name='summary/regular_summaries')\n",
    "    # Create a saver for writing training checkpoints.\n",
    "    saver = tf.train.Saver()        \n",
    "    # Run the Op to initialize the variables.        \n",
    "    init = tf.initialize_all_variables()\n",
    "\n",
    "    # Create a session for running Ops on the Graph.        \n",
    "    sess = tf.Session(graph=graph,\n",
    "                      config=tf.ConfigProto(intra_op_parallelism_threads=3, inter_op_parallelism_threads = 3))\n",
    "    sess.run(init)        \n",
    "    # Instantiate a SummaryWriter to output summaries and the Graph.\n",
    "    summary_writer = tf.train.SummaryWriter(FLAGS.log_dir,\n",
    "                                            graph_def=sess.graph_def)        \n",
    "    # And then after everything is built, start the training loop.        \n",
    "    for step in xrange(1, FLAGS.max_steps + 1):\n",
    "        start_time = time.time()\n",
    "        # Fill a feed dictionary with the actual set of images and labels\n",
    "        # for this particular training step.\n",
    "        feed_dict = fill_feed_dict(train.next_batch(FLAGS.batch_size))\n",
    "        # Run one step of the model.  The return values are the activations\n",
    "        # from the `train_op` (which is discarded) and the `loss` Op.  To\n",
    "        # inspect the values of your Ops or variables, you may include them\n",
    "        # in the list passed to sess.run() and the value tensors will be\n",
    "        # returned in the tuple from the call.            \n",
    "\n",
    "\n",
    "        _, loss_value = sess.run([train_op, loss],\n",
    "                                 feed_dict=feed_dict)\n",
    "        duration = time.time() - start_time\n",
    "        # Write the summaries and print an overview fairly often.\n",
    "        if step % FLAGS.overview_steps == 0:\n",
    "            # Print status to stdout.\n",
    "            data_per_sec = FLAGS.batch_size / duration \n",
    "            print('Step %d: loss = %.2f (%.3f sec) [%.2f data/s]' % \n",
    "                  (step, loss_value, duration, data_per_sec))\n",
    "            # Update the events file.\n",
    "            summary_str = sess.run(regular_summaries, feed_dict=feed_dict)\n",
    "            summary_writer.add_summary(summary_str, step)\n",
    "\n",
    "        # Save a checkpoint and evaluate the model periodically.\n",
    "        if (step) % FLAGS.evaluation_steps == 0 or step == FLAGS.max_steps:\n",
    "            saver.save(sess, FLAGS.log_dir +'/checkpoint', global_step=step)\n",
    "            # Evaluate against the training set.\n",
    "            print('Training Data Eval:')\n",
    "            precision_t, obj_t = do_eval(sess,\n",
    "                                         correct_count,\n",
    "                                         loss,\n",
    "                                         train)\n",
    "            sess.run(precision_train.assign(precision_t))                \n",
    "\n",
    "            # Evaluate against the validation set.\n",
    "            print('Validation Data Eval:')\n",
    "            precision_v, obj_v = do_eval(sess,\n",
    "                                         correct_count,\n",
    "                                         loss,\n",
    "                                         validation)\n",
    "            sess.run(precision_validation.assign(precision_v))\n",
    "\n",
    "            summary_str_0, summary_str_1 = sess.run([precision_train_summary, precision_validation_summary])                                \n",
    "            summary_writer.add_summary(summary_str_0, step)\n",
    "            summary_writer.add_summary(summary_str_1, step)\n",
    "\n",
    "            os.makedirs('./results', exist_ok=True)\n",
    "            res_file = open('./results/res_' + str(start_str), 'w')\n",
    "\n",
    "            res_file.write('Iterations: ' + str(step) + '\\n')\n",
    "            now = datetime.datetime.now()\n",
    "            delta = now - start\n",
    "            res_file.write('Learning time: {0:.2f} minutes\\n'.format(delta.total_seconds() / 60.0))\n",
    "            res_file.write('Train precision: {0:.5f}\\n'.format(precision_t))\n",
    "            res_file.write('Train loss: {0:.5f}\\n'.format(obj_t))\n",
    "            res_file.write('Validation precision: {0:.5f}\\n'.format(precision_v))\n",
    "            res_file.write('Validation loss: {0:.5f}\\n'.format(obj_v))\n",
    "            res_file.write('Extra opts: ' + str(extra_opts) + '\\n')                            \n",
    "            res_file.write('Code:\\n')\n",
    "            net_file = open('./net.py', 'r')\n",
    "            shutil.copyfileobj(net_file, res_file)\n",
    "            net_file.close()\n",
    "            res_file.close()"
   ]
  }
 ],
 "metadata": {
  "kernelspec": {
   "display_name": "Python 2",
   "language": "python",
   "name": "python2"
  },
  "language_info": {
   "codemirror_mode": {
    "name": "ipython",
    "version": 2
   },
   "file_extension": ".py",
   "mimetype": "text/x-python",
   "name": "python",
   "nbconvert_exporter": "python",
   "pygments_lexer": "ipython2",
   "version": "2.7.6"
  }
 },
 "nbformat": 4,
 "nbformat_minor": 0
}
